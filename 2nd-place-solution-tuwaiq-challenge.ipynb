{
 "cells": [
  {
   "cell_type": "markdown",
   "id": "4106c78d",
   "metadata": {},
   "source": [
    "### **2nd place solution for Tuwaiq : Unlocking Potential for Elite Training Programs**"
   ]
  },
  {
   "cell_type": "code",
   "execution_count": 1,
   "id": "604aff73",
   "metadata": {
    "tags": []
   },
   "outputs": [],
   "source": [
    "import pandas as pd\n",
    "import numpy as np\n",
    "from sklearn.preprocessing import OrdinalEncoder\n",
    "from sklearn.impute import SimpleImputer\n",
    "import matplotlib.pyplot as plt\n",
    "from sklearn.ensemble import VotingClassifier\n",
    "import optuna"
   ]
  },
  {
   "cell_type": "markdown",
   "id": "895f2781",
   "metadata": {},
   "source": [
    "Columns\n",
    "\n",
    "    Student ID: String - A unique identifier for each student.\n",
    "    Age: Int - The age of the student.\n",
    "    Gender: String - Gender of the student.\n",
    "    Home Region: String - Student's home region.\n",
    "    Home City: String - Student's home city.\n",
    "    Program ID: String - Unique identifier for each program.\n",
    "    Program Main Category Code: String - Main category of the program (Encoded).\n",
    "    Program Sub Category Code: String - Sub-category of the program (Encoded).\n",
    "    Technology Type: String - Type of technology used in the program.\n",
    "    Program Skill Level: String - Skill level of the program.\n",
    "    Program Presentation Method: String - Presentation method of the program (in-person or online).\n",
    "    Program Start Date: Date - The date the program started.\n",
    "    Program End Date: Date - The date the program ended.\n",
    "    Program Days: Int - Count of days in the program.\n",
    "    Completed Degree: String - Indicates if the student completed a university/college degree.\n",
    "    Level of Education: String - Highest university/college degree received by the student.\n",
    "    Education Specialty: String - University/college degree specialty.\n",
    "    College: String - The student's university/college.\n",
    "    University Degree Score: String - The score of the student in university/college.\n",
    "    University Degree Score System: String - The scoring system used for the student's university/college score.\n",
    "    Employment Status: String - Current employment status of the student.\n",
    "    Job Type: String - Type of employment for the student.\n",
    "    Still Working: String - Indicates if the student is currently working.\n",
    "    Y (Target): Bool - Indicates if the student completed the program by achieving the minimum attendance percentage.(1 = Did not complete the program, 0 = Successfully completed the program)\n"
   ]
  },
  {
   "cell_type": "code",
   "execution_count": 2,
   "id": "1a7b04c4",
   "metadata": {
    "tags": []
   },
   "outputs": [],
   "source": [
    "pd.set_option('display.max_columns',  50)"
   ]
  },
  {
   "cell_type": "code",
   "execution_count": 3,
   "id": "55b78658",
   "metadata": {
    "tags": []
   },
   "outputs": [],
   "source": [
    "reg_df = pd.read_csv('registration.csv')\n",
    "sub_df = pd.read_csv('sample_submission.csv')\n",
    "train_df = pd.read_csv('train.csv')\n",
    "test_df = pd.read_csv('test.csv')"
   ]
  },
  {
   "cell_type": "code",
   "execution_count": 4,
   "id": "7e90993f",
   "metadata": {
    "tags": []
   },
   "outputs": [
    {
     "data": {
      "text/html": [
       "<div>\n",
       "<style scoped>\n",
       "    .dataframe tbody tr th:only-of-type {\n",
       "        vertical-align: middle;\n",
       "    }\n",
       "\n",
       "    .dataframe tbody tr th {\n",
       "        vertical-align: top;\n",
       "    }\n",
       "\n",
       "    .dataframe thead th {\n",
       "        text-align: right;\n",
       "    }\n",
       "</style>\n",
       "<table border=\"1\" class=\"dataframe\">\n",
       "  <thead>\n",
       "    <tr style=\"text-align: right;\">\n",
       "      <th></th>\n",
       "      <th>Student ID</th>\n",
       "      <th>PCRF</th>\n",
       "      <th>GRST</th>\n",
       "      <th>CAUF</th>\n",
       "      <th>INFA</th>\n",
       "      <th>ABIR</th>\n",
       "      <th>SERU</th>\n",
       "      <th>TOSL</th>\n",
       "      <th>APMR</th>\n",
       "      <th>DTFH</th>\n",
       "      <th>QWLM</th>\n",
       "      <th>N/A</th>\n",
       "      <th>Total Regestration</th>\n",
       "    </tr>\n",
       "  </thead>\n",
       "  <tbody>\n",
       "    <tr>\n",
       "      <th>0</th>\n",
       "      <td>0005f921-db87-47a3-af19-000332af236b</td>\n",
       "      <td>6</td>\n",
       "      <td>0</td>\n",
       "      <td>1</td>\n",
       "      <td>3</td>\n",
       "      <td>0</td>\n",
       "      <td>0</td>\n",
       "      <td>0</td>\n",
       "      <td>3</td>\n",
       "      <td>0</td>\n",
       "      <td>0</td>\n",
       "      <td>6</td>\n",
       "      <td>19</td>\n",
       "    </tr>\n",
       "    <tr>\n",
       "      <th>1</th>\n",
       "      <td>000f66b3-6ad7-4a6c-9f1f-0d34b005c5e6</td>\n",
       "      <td>0</td>\n",
       "      <td>0</td>\n",
       "      <td>7</td>\n",
       "      <td>0</td>\n",
       "      <td>0</td>\n",
       "      <td>0</td>\n",
       "      <td>0</td>\n",
       "      <td>1</td>\n",
       "      <td>0</td>\n",
       "      <td>0</td>\n",
       "      <td>0</td>\n",
       "      <td>8</td>\n",
       "    </tr>\n",
       "    <tr>\n",
       "      <th>2</th>\n",
       "      <td>001a2d9a-54ee-4ae9-91b4-d6fe03c98ce0</td>\n",
       "      <td>0</td>\n",
       "      <td>0</td>\n",
       "      <td>2</td>\n",
       "      <td>0</td>\n",
       "      <td>0</td>\n",
       "      <td>0</td>\n",
       "      <td>0</td>\n",
       "      <td>1</td>\n",
       "      <td>0</td>\n",
       "      <td>0</td>\n",
       "      <td>0</td>\n",
       "      <td>3</td>\n",
       "    </tr>\n",
       "    <tr>\n",
       "      <th>3</th>\n",
       "      <td>00235747-dd1a-4f59-be5b-4aeb66e037a1</td>\n",
       "      <td>0</td>\n",
       "      <td>0</td>\n",
       "      <td>1</td>\n",
       "      <td>0</td>\n",
       "      <td>0</td>\n",
       "      <td>0</td>\n",
       "      <td>0</td>\n",
       "      <td>0</td>\n",
       "      <td>0</td>\n",
       "      <td>0</td>\n",
       "      <td>0</td>\n",
       "      <td>1</td>\n",
       "    </tr>\n",
       "    <tr>\n",
       "      <th>4</th>\n",
       "      <td>00252da1-947b-4116-a096-852830ac0f89</td>\n",
       "      <td>0</td>\n",
       "      <td>0</td>\n",
       "      <td>1</td>\n",
       "      <td>1</td>\n",
       "      <td>0</td>\n",
       "      <td>0</td>\n",
       "      <td>0</td>\n",
       "      <td>1</td>\n",
       "      <td>0</td>\n",
       "      <td>0</td>\n",
       "      <td>7</td>\n",
       "      <td>10</td>\n",
       "    </tr>\n",
       "  </tbody>\n",
       "</table>\n",
       "</div>"
      ],
      "text/plain": [
       "                             Student ID  PCRF  GRST  CAUF  INFA  ABIR  SERU  \\\n",
       "0  0005f921-db87-47a3-af19-000332af236b     6     0     1     3     0     0   \n",
       "1  000f66b3-6ad7-4a6c-9f1f-0d34b005c5e6     0     0     7     0     0     0   \n",
       "2  001a2d9a-54ee-4ae9-91b4-d6fe03c98ce0     0     0     2     0     0     0   \n",
       "3  00235747-dd1a-4f59-be5b-4aeb66e037a1     0     0     1     0     0     0   \n",
       "4  00252da1-947b-4116-a096-852830ac0f89     0     0     1     1     0     0   \n",
       "\n",
       "   TOSL  APMR  DTFH  QWLM  N/A  Total Regestration  \n",
       "0     0     3     0     0    6                  19  \n",
       "1     0     1     0     0    0                   8  \n",
       "2     0     1     0     0    0                   3  \n",
       "3     0     0     0     0    0                   1  \n",
       "4     0     1     0     0    7                  10  "
      ]
     },
     "execution_count": 4,
     "metadata": {},
     "output_type": "execute_result"
    }
   ],
   "source": [
    "reg_df.head()"
   ]
  },
  {
   "cell_type": "code",
   "execution_count": 5,
   "id": "3730ac14",
   "metadata": {
    "tags": []
   },
   "outputs": [],
   "source": [
    "common_ids = set(test_df['Student ID'].unique()).intersection(set(train_df['Student ID'].unique()))"
   ]
  },
  {
   "cell_type": "code",
   "execution_count": 6,
   "id": "f4a3d4c5",
   "metadata": {
    "tags": []
   },
   "outputs": [
    {
     "name": "stdout",
     "output_type": "stream",
     "text": [
      "There are common Student IDs between test_df and train_df.\n"
     ]
    }
   ],
   "source": [
    "if common_ids:\n",
    "    print(\"There are common Student IDs between test_df and train_df.\")\n",
    "else:\n",
    "    print(\"There are no common Student IDs between test_df and train_df.\")\n"
   ]
  },
  {
   "cell_type": "code",
   "execution_count": 7,
   "id": "55b0503a",
   "metadata": {
    "tags": []
   },
   "outputs": [],
   "source": [
    "for st_id in train_df['Student ID'].values:\n",
    "    if st_id in reg_df['Student ID'].values:\n",
    "        continue\n",
    "    else:\n",
    "        print('Not in train set')"
   ]
  },
  {
   "cell_type": "code",
   "execution_count": 8,
   "id": "580d2b2b",
   "metadata": {
    "tags": []
   },
   "outputs": [],
   "source": [
    "for st_id in test_df['Student ID'].values:\n",
    "    if st_id in reg_df['Student ID'].values:\n",
    "        continue\n",
    "    else:\n",
    "        print('Not in test set')"
   ]
  },
  {
   "cell_type": "markdown",
   "id": "dde66baa",
   "metadata": {},
   "source": [
    "All Student IDs in train set or test set are in reg_df"
   ]
  },
  {
   "cell_type": "markdown",
   "id": "22618c64",
   "metadata": {
    "tags": []
   },
   "source": [
    "#### **Inner Join with reg_df**"
   ]
  },
  {
   "cell_type": "code",
   "execution_count": 9,
   "id": "4c8a40c2",
   "metadata": {
    "tags": []
   },
   "outputs": [],
   "source": [
    "# If you want to perform a left join, keeping all rows from df1\n",
    "merged_train = pd.merge(train_df, reg_df, on='Student ID', how='left')"
   ]
  },
  {
   "cell_type": "code",
   "execution_count": 10,
   "id": "c8b04f35",
   "metadata": {
    "tags": []
   },
   "outputs": [],
   "source": [
    "merged_test = pd.merge(test_df, reg_df, on='Student ID', how='left')"
   ]
  },
  {
   "cell_type": "code",
   "execution_count": 11,
   "id": "6bbf3313",
   "metadata": {
    "tags": []
   },
   "outputs": [
    {
     "data": {
      "text/html": [
       "<div>\n",
       "<style scoped>\n",
       "    .dataframe tbody tr th:only-of-type {\n",
       "        vertical-align: middle;\n",
       "    }\n",
       "\n",
       "    .dataframe tbody tr th {\n",
       "        vertical-align: top;\n",
       "    }\n",
       "\n",
       "    .dataframe thead th {\n",
       "        text-align: right;\n",
       "    }\n",
       "</style>\n",
       "<table border=\"1\" class=\"dataframe\">\n",
       "  <thead>\n",
       "    <tr style=\"text-align: right;\">\n",
       "      <th></th>\n",
       "      <th>Student ID</th>\n",
       "      <th>Age</th>\n",
       "      <th>Gender</th>\n",
       "      <th>Home Region</th>\n",
       "      <th>Home City</th>\n",
       "      <th>Program ID</th>\n",
       "      <th>Program Main Category Code</th>\n",
       "      <th>Program Sub Category Code</th>\n",
       "      <th>Technology Type</th>\n",
       "      <th>Program Skill Level</th>\n",
       "      <th>Program Presentation Method</th>\n",
       "      <th>Program Start Date</th>\n",
       "      <th>Program End Date</th>\n",
       "      <th>Program Days</th>\n",
       "      <th>Completed Degree</th>\n",
       "      <th>Level of Education</th>\n",
       "      <th>Education Speaciality</th>\n",
       "      <th>College</th>\n",
       "      <th>University Degree Score</th>\n",
       "      <th>University Degree Score System</th>\n",
       "      <th>Employment Status</th>\n",
       "      <th>Job Type</th>\n",
       "      <th>Still Working</th>\n",
       "      <th>Y</th>\n",
       "      <th>PCRF</th>\n",
       "      <th>GRST</th>\n",
       "      <th>CAUF</th>\n",
       "      <th>INFA</th>\n",
       "      <th>ABIR</th>\n",
       "      <th>SERU</th>\n",
       "      <th>TOSL</th>\n",
       "      <th>APMR</th>\n",
       "      <th>DTFH</th>\n",
       "      <th>QWLM</th>\n",
       "      <th>N/A</th>\n",
       "      <th>Total Regestration</th>\n",
       "    </tr>\n",
       "  </thead>\n",
       "  <tbody>\n",
       "    <tr>\n",
       "      <th>0</th>\n",
       "      <td>4f14c50d-162e-4a15-9cf0-ec129c33bcf0</td>\n",
       "      <td>37.0</td>\n",
       "      <td>ذكر</td>\n",
       "      <td>منطقة الرياض</td>\n",
       "      <td>الرياض</td>\n",
       "      <td>453686d8-4023-4506-b2df-fac8b059ac26</td>\n",
       "      <td>PCRF</td>\n",
       "      <td>PCRF</td>\n",
       "      <td>NaN</td>\n",
       "      <td>NaN</td>\n",
       "      <td>حضوري</td>\n",
       "      <td>2023-05-28</td>\n",
       "      <td>2023-06-08</td>\n",
       "      <td>12</td>\n",
       "      <td>نعم</td>\n",
       "      <td>البكالوريوس</td>\n",
       "      <td>هندسة حاسب الالي</td>\n",
       "      <td>NaN</td>\n",
       "      <td>2.44</td>\n",
       "      <td>4.0</td>\n",
       "      <td>غير موظف</td>\n",
       "      <td>NaN</td>\n",
       "      <td>NaN</td>\n",
       "      <td>0</td>\n",
       "      <td>4</td>\n",
       "      <td>0</td>\n",
       "      <td>0</td>\n",
       "      <td>0</td>\n",
       "      <td>0</td>\n",
       "      <td>0</td>\n",
       "      <td>0</td>\n",
       "      <td>0</td>\n",
       "      <td>0</td>\n",
       "      <td>0</td>\n",
       "      <td>0</td>\n",
       "      <td>4</td>\n",
       "    </tr>\n",
       "    <tr>\n",
       "      <th>1</th>\n",
       "      <td>0599d409-876b-41a5-af05-749ef0e77d32</td>\n",
       "      <td>21.0</td>\n",
       "      <td>ذكر</td>\n",
       "      <td>منطقة عسير</td>\n",
       "      <td>خميس مشيط</td>\n",
       "      <td>cc8e4e42-65d5-4fa1-82f9-6c6c2d508b60</td>\n",
       "      <td>APMR</td>\n",
       "      <td>SWPS</td>\n",
       "      <td>NaN</td>\n",
       "      <td>متوسط</td>\n",
       "      <td>حضوري</td>\n",
       "      <td>2023-04-02</td>\n",
       "      <td>2023-04-06</td>\n",
       "      <td>5</td>\n",
       "      <td>نعم</td>\n",
       "      <td>البكالوريوس</td>\n",
       "      <td>الإذاعة والتلفزيون والفيلم</td>\n",
       "      <td>الفنون والعلوم الإنسانية</td>\n",
       "      <td>5.00</td>\n",
       "      <td>5.0</td>\n",
       "      <td>طالب</td>\n",
       "      <td>NaN</td>\n",
       "      <td>NaN</td>\n",
       "      <td>0</td>\n",
       "      <td>3</td>\n",
       "      <td>0</td>\n",
       "      <td>6</td>\n",
       "      <td>0</td>\n",
       "      <td>0</td>\n",
       "      <td>1</td>\n",
       "      <td>0</td>\n",
       "      <td>4</td>\n",
       "      <td>0</td>\n",
       "      <td>0</td>\n",
       "      <td>1</td>\n",
       "      <td>15</td>\n",
       "    </tr>\n",
       "    <tr>\n",
       "      <th>2</th>\n",
       "      <td>38a11c0e-4afc-4261-9c64-e94cc0a272fb</td>\n",
       "      <td>24.0</td>\n",
       "      <td>ذكر</td>\n",
       "      <td>منطقة الرياض</td>\n",
       "      <td>الرياض</td>\n",
       "      <td>e006900d-05a9-4c2b-a36f-0ffb9fce44cd</td>\n",
       "      <td>APMR</td>\n",
       "      <td>NaN</td>\n",
       "      <td>NaN</td>\n",
       "      <td>متوسط</td>\n",
       "      <td>حضوري</td>\n",
       "      <td>2023-07-23</td>\n",
       "      <td>2023-09-14</td>\n",
       "      <td>54</td>\n",
       "      <td>نعم</td>\n",
       "      <td>البكالوريوس</td>\n",
       "      <td>Information Technology</td>\n",
       "      <td>NaN</td>\n",
       "      <td>3.50</td>\n",
       "      <td>5.0</td>\n",
       "      <td>موظف</td>\n",
       "      <td>NaN</td>\n",
       "      <td>NaN</td>\n",
       "      <td>0</td>\n",
       "      <td>4</td>\n",
       "      <td>1</td>\n",
       "      <td>7</td>\n",
       "      <td>1</td>\n",
       "      <td>0</td>\n",
       "      <td>0</td>\n",
       "      <td>0</td>\n",
       "      <td>0</td>\n",
       "      <td>0</td>\n",
       "      <td>0</td>\n",
       "      <td>0</td>\n",
       "      <td>13</td>\n",
       "    </tr>\n",
       "    <tr>\n",
       "      <th>3</th>\n",
       "      <td>1693e85b-f80e-40ce-846f-395ddcece6d3</td>\n",
       "      <td>23.0</td>\n",
       "      <td>ذكر</td>\n",
       "      <td>منطقة الرياض</td>\n",
       "      <td>الرياض</td>\n",
       "      <td>2ec15f6b-233b-428a-b9f5-e40bc8d14cf9</td>\n",
       "      <td>TOSL</td>\n",
       "      <td>TOSL</td>\n",
       "      <td>NaN</td>\n",
       "      <td>NaN</td>\n",
       "      <td>حضوري</td>\n",
       "      <td>2023-07-23</td>\n",
       "      <td>2023-08-24</td>\n",
       "      <td>33</td>\n",
       "      <td>نعم</td>\n",
       "      <td>البكالوريوس</td>\n",
       "      <td>حوسبة تطبيقية - (مسار شبكات الحاسب)</td>\n",
       "      <td>NaN</td>\n",
       "      <td>3.55</td>\n",
       "      <td>5.0</td>\n",
       "      <td>خريج</td>\n",
       "      <td>NaN</td>\n",
       "      <td>NaN</td>\n",
       "      <td>0</td>\n",
       "      <td>4</td>\n",
       "      <td>0</td>\n",
       "      <td>0</td>\n",
       "      <td>2</td>\n",
       "      <td>0</td>\n",
       "      <td>0</td>\n",
       "      <td>0</td>\n",
       "      <td>0</td>\n",
       "      <td>0</td>\n",
       "      <td>0</td>\n",
       "      <td>0</td>\n",
       "      <td>6</td>\n",
       "    </tr>\n",
       "    <tr>\n",
       "      <th>4</th>\n",
       "      <td>98a0e8d0-5f80-4634-afd8-322aa0902863</td>\n",
       "      <td>23.0</td>\n",
       "      <td>ذكر</td>\n",
       "      <td>منطقة الرياض</td>\n",
       "      <td>الرياض</td>\n",
       "      <td>d32da0e9-1aed-48c3-992d-a22f9ccc741e</td>\n",
       "      <td>CAUF</td>\n",
       "      <td>SWPS</td>\n",
       "      <td>تقليدية</td>\n",
       "      <td>متوسط</td>\n",
       "      <td>حضوري</td>\n",
       "      <td>2023-04-30</td>\n",
       "      <td>2023-06-22</td>\n",
       "      <td>54</td>\n",
       "      <td>لا</td>\n",
       "      <td>البكالوريوس</td>\n",
       "      <td>نظم المعلومات الحاسوبية</td>\n",
       "      <td>تكنولوجيا الاتصالات والمعلومات</td>\n",
       "      <td>4.00</td>\n",
       "      <td>5.0</td>\n",
       "      <td>NaN</td>\n",
       "      <td>NaN</td>\n",
       "      <td>NaN</td>\n",
       "      <td>0</td>\n",
       "      <td>0</td>\n",
       "      <td>0</td>\n",
       "      <td>4</td>\n",
       "      <td>0</td>\n",
       "      <td>0</td>\n",
       "      <td>0</td>\n",
       "      <td>0</td>\n",
       "      <td>3</td>\n",
       "      <td>0</td>\n",
       "      <td>0</td>\n",
       "      <td>3</td>\n",
       "      <td>10</td>\n",
       "    </tr>\n",
       "  </tbody>\n",
       "</table>\n",
       "</div>"
      ],
      "text/plain": [
       "                             Student ID   Age Gender   Home Region  Home City  \\\n",
       "0  4f14c50d-162e-4a15-9cf0-ec129c33bcf0  37.0    ذكر  منطقة الرياض     الرياض   \n",
       "1  0599d409-876b-41a5-af05-749ef0e77d32  21.0    ذكر    منطقة عسير  خميس مشيط   \n",
       "2  38a11c0e-4afc-4261-9c64-e94cc0a272fb  24.0    ذكر  منطقة الرياض     الرياض   \n",
       "3  1693e85b-f80e-40ce-846f-395ddcece6d3  23.0    ذكر  منطقة الرياض     الرياض   \n",
       "4  98a0e8d0-5f80-4634-afd8-322aa0902863  23.0    ذكر  منطقة الرياض     الرياض   \n",
       "\n",
       "                             Program ID Program Main Category Code  \\\n",
       "0  453686d8-4023-4506-b2df-fac8b059ac26                       PCRF   \n",
       "1  cc8e4e42-65d5-4fa1-82f9-6c6c2d508b60                       APMR   \n",
       "2  e006900d-05a9-4c2b-a36f-0ffb9fce44cd                       APMR   \n",
       "3  2ec15f6b-233b-428a-b9f5-e40bc8d14cf9                       TOSL   \n",
       "4  d32da0e9-1aed-48c3-992d-a22f9ccc741e                       CAUF   \n",
       "\n",
       "  Program Sub Category Code Technology Type Program Skill Level  \\\n",
       "0                      PCRF             NaN                 NaN   \n",
       "1                      SWPS             NaN               متوسط   \n",
       "2                       NaN             NaN               متوسط   \n",
       "3                      TOSL             NaN                 NaN   \n",
       "4                      SWPS         تقليدية               متوسط   \n",
       "\n",
       "  Program Presentation Method Program Start Date Program End Date  \\\n",
       "0                       حضوري         2023-05-28       2023-06-08   \n",
       "1                       حضوري         2023-04-02       2023-04-06   \n",
       "2                       حضوري         2023-07-23       2023-09-14   \n",
       "3                       حضوري         2023-07-23       2023-08-24   \n",
       "4                       حضوري         2023-04-30       2023-06-22   \n",
       "\n",
       "   Program Days Completed Degree Level of Education  \\\n",
       "0            12              نعم        البكالوريوس   \n",
       "1             5              نعم        البكالوريوس   \n",
       "2            54              نعم        البكالوريوس   \n",
       "3            33              نعم        البكالوريوس   \n",
       "4            54               لا        البكالوريوس   \n",
       "\n",
       "                 Education Speaciality                         College  \\\n",
       "0                     هندسة حاسب الالي                             NaN   \n",
       "1           الإذاعة والتلفزيون والفيلم        الفنون والعلوم الإنسانية   \n",
       "2               Information Technology                             NaN   \n",
       "3  حوسبة تطبيقية - (مسار شبكات الحاسب)                             NaN   \n",
       "4              نظم المعلومات الحاسوبية  تكنولوجيا الاتصالات والمعلومات   \n",
       "\n",
       "   University Degree Score  University Degree Score System Employment Status  \\\n",
       "0                     2.44                             4.0          غير موظف   \n",
       "1                     5.00                             5.0              طالب   \n",
       "2                     3.50                             5.0              موظف   \n",
       "3                     3.55                             5.0              خريج   \n",
       "4                     4.00                             5.0               NaN   \n",
       "\n",
       "  Job Type Still Working  Y  PCRF  GRST  CAUF  INFA  ABIR  SERU  TOSL  APMR  \\\n",
       "0      NaN           NaN  0     4     0     0     0     0     0     0     0   \n",
       "1      NaN           NaN  0     3     0     6     0     0     1     0     4   \n",
       "2      NaN           NaN  0     4     1     7     1     0     0     0     0   \n",
       "3      NaN           NaN  0     4     0     0     2     0     0     0     0   \n",
       "4      NaN           NaN  0     0     0     4     0     0     0     0     3   \n",
       "\n",
       "   DTFH  QWLM  N/A  Total Regestration  \n",
       "0     0     0    0                   4  \n",
       "1     0     0    1                  15  \n",
       "2     0     0    0                  13  \n",
       "3     0     0    0                   6  \n",
       "4     0     0    3                  10  "
      ]
     },
     "execution_count": 11,
     "metadata": {},
     "output_type": "execute_result"
    }
   ],
   "source": [
    "merged_train.head()"
   ]
  },
  {
   "cell_type": "code",
   "execution_count": 12,
   "id": "25337ec4",
   "metadata": {
    "tags": []
   },
   "outputs": [],
   "source": [
    "columns_to_check = ['PCRF', 'GRST', 'CAUF', 'INFA', 'ABIR', 'SERU', 'TOSL', 'APMR', 'DTFH', 'QWLM', 'N/A']\n",
    "\n",
    "merged_train['Types_courses'] = (merged_train[columns_to_check] > 0).sum(axis=1)"
   ]
  },
  {
   "cell_type": "code",
   "execution_count": 13,
   "id": "367268ac",
   "metadata": {
    "tags": []
   },
   "outputs": [],
   "source": [
    "merged_test['Types_courses'] = (merged_test[columns_to_check] > 0).sum(axis=1)"
   ]
  },
  {
   "cell_type": "markdown",
   "id": "4861159d",
   "metadata": {},
   "source": [
    "#### **Initial Pre processing**"
   ]
  },
  {
   "cell_type": "code",
   "execution_count": 14,
   "id": "b10c037a",
   "metadata": {
    "tags": []
   },
   "outputs": [],
   "source": [
    "merged_train['train'] = 1\n",
    "merged_test['train'] = 0"
   ]
  },
  {
   "cell_type": "code",
   "execution_count": 15,
   "id": "6b9f4f72",
   "metadata": {
    "tags": []
   },
   "outputs": [],
   "source": [
    "df_concat = pd.concat([merged_train, merged_test], axis=0)"
   ]
  },
  {
   "cell_type": "code",
   "execution_count": 16,
   "id": "d841d8ef",
   "metadata": {
    "tags": []
   },
   "outputs": [
    {
     "data": {
      "text/plain": [
       "7366"
      ]
     },
     "execution_count": 16,
     "metadata": {},
     "output_type": "execute_result"
    }
   ],
   "source": [
    "len(df_concat)"
   ]
  },
  {
   "cell_type": "code",
   "execution_count": 17,
   "id": "efb365f9",
   "metadata": {
    "tags": []
   },
   "outputs": [
    {
     "data": {
      "text/plain": [
       "الرياض             5319\n",
       "جدة                 404\n",
       "المدينة المنورة     143\n",
       "الدمام              128\n",
       "أبها                117\n",
       "                   ... \n",
       "القريات               1\n",
       "المجاردة              1\n",
       "ابها                  1\n",
       "العرضيات              1\n",
       "رياض الخبراء          1\n",
       "Name: Home City, Length: 97, dtype: int64"
      ]
     },
     "execution_count": 17,
     "metadata": {},
     "output_type": "execute_result"
    }
   ],
   "source": [
    "df_concat['Home City'].value_counts()"
   ]
  },
  {
   "cell_type": "code",
   "execution_count": 18,
   "id": "fc83b4fe",
   "metadata": {
    "tags": []
   },
   "outputs": [],
   "source": [
    "df_concat['Education Speaciality'] = df_concat['Education Speaciality'].str.lower()"
   ]
  },
  {
   "cell_type": "code",
   "execution_count": 19,
   "id": "b2f09d8e",
   "metadata": {
    "tags": []
   },
   "outputs": [],
   "source": [
    "encoder = OrdinalEncoder()"
   ]
  },
  {
   "cell_type": "code",
   "execution_count": 20,
   "id": "d004b597",
   "metadata": {
    "tags": []
   },
   "outputs": [],
   "source": [
    "cols_to_encode = ['Gender',  'Home City',\n",
    "              'Technology Type', 'Program Skill Level', 'Program Presentation Method',\n",
    "              'Completed Degree',  'College', \n",
    "                'Job Type', ]"
   ]
  },
  {
   "cell_type": "code",
   "execution_count": 21,
   "id": "ac8fad30",
   "metadata": {
    "tags": []
   },
   "outputs": [],
   "source": [
    "df_concat[cols_to_encode] = encoder.fit_transform(df_concat[cols_to_encode])"
   ]
  },
  {
   "cell_type": "code",
   "execution_count": 22,
   "id": "3f6ab581",
   "metadata": {
    "tags": []
   },
   "outputs": [],
   "source": [
    "df_concat['Program ID'] = encoder.fit_transform(df_concat[['Program ID']])"
   ]
  },
  {
   "cell_type": "code",
   "execution_count": 23,
   "id": "6a84e739",
   "metadata": {
    "tags": []
   },
   "outputs": [
    {
     "data": {
      "text/html": [
       "<div>\n",
       "<style scoped>\n",
       "    .dataframe tbody tr th:only-of-type {\n",
       "        vertical-align: middle;\n",
       "    }\n",
       "\n",
       "    .dataframe tbody tr th {\n",
       "        vertical-align: top;\n",
       "    }\n",
       "\n",
       "    .dataframe thead th {\n",
       "        text-align: right;\n",
       "    }\n",
       "</style>\n",
       "<table border=\"1\" class=\"dataframe\">\n",
       "  <thead>\n",
       "    <tr style=\"text-align: right;\">\n",
       "      <th></th>\n",
       "      <th>Student ID</th>\n",
       "      <th>Age</th>\n",
       "      <th>Gender</th>\n",
       "      <th>Home Region</th>\n",
       "      <th>Home City</th>\n",
       "      <th>Program ID</th>\n",
       "      <th>Program Main Category Code</th>\n",
       "      <th>Program Sub Category Code</th>\n",
       "      <th>Technology Type</th>\n",
       "      <th>Program Skill Level</th>\n",
       "      <th>Program Presentation Method</th>\n",
       "      <th>Program Start Date</th>\n",
       "      <th>Program End Date</th>\n",
       "      <th>Program Days</th>\n",
       "      <th>Completed Degree</th>\n",
       "      <th>Level of Education</th>\n",
       "      <th>Education Speaciality</th>\n",
       "      <th>College</th>\n",
       "      <th>University Degree Score</th>\n",
       "      <th>University Degree Score System</th>\n",
       "      <th>Employment Status</th>\n",
       "      <th>Job Type</th>\n",
       "      <th>Still Working</th>\n",
       "      <th>Y</th>\n",
       "      <th>PCRF</th>\n",
       "      <th>GRST</th>\n",
       "      <th>CAUF</th>\n",
       "      <th>INFA</th>\n",
       "      <th>ABIR</th>\n",
       "      <th>SERU</th>\n",
       "      <th>TOSL</th>\n",
       "      <th>APMR</th>\n",
       "      <th>DTFH</th>\n",
       "      <th>QWLM</th>\n",
       "      <th>N/A</th>\n",
       "      <th>Total Regestration</th>\n",
       "      <th>Types_courses</th>\n",
       "      <th>train</th>\n",
       "    </tr>\n",
       "  </thead>\n",
       "  <tbody>\n",
       "    <tr>\n",
       "      <th>0</th>\n",
       "      <td>4f14c50d-162e-4a15-9cf0-ec129c33bcf0</td>\n",
       "      <td>37.0</td>\n",
       "      <td>1.0</td>\n",
       "      <td>منطقة الرياض</td>\n",
       "      <td>24.0</td>\n",
       "      <td>65.0</td>\n",
       "      <td>PCRF</td>\n",
       "      <td>PCRF</td>\n",
       "      <td>NaN</td>\n",
       "      <td>NaN</td>\n",
       "      <td>0.0</td>\n",
       "      <td>2023-05-28</td>\n",
       "      <td>2023-06-08</td>\n",
       "      <td>12</td>\n",
       "      <td>1.0</td>\n",
       "      <td>البكالوريوس</td>\n",
       "      <td>هندسة حاسب الالي</td>\n",
       "      <td>NaN</td>\n",
       "      <td>2.44</td>\n",
       "      <td>4.0</td>\n",
       "      <td>غير موظف</td>\n",
       "      <td>NaN</td>\n",
       "      <td>NaN</td>\n",
       "      <td>0.0</td>\n",
       "      <td>4</td>\n",
       "      <td>0</td>\n",
       "      <td>0</td>\n",
       "      <td>0</td>\n",
       "      <td>0</td>\n",
       "      <td>0</td>\n",
       "      <td>0</td>\n",
       "      <td>0</td>\n",
       "      <td>0</td>\n",
       "      <td>0</td>\n",
       "      <td>0</td>\n",
       "      <td>4</td>\n",
       "      <td>1</td>\n",
       "      <td>1</td>\n",
       "    </tr>\n",
       "    <tr>\n",
       "      <th>1</th>\n",
       "      <td>0599d409-876b-41a5-af05-749ef0e77d32</td>\n",
       "      <td>21.0</td>\n",
       "      <td>1.0</td>\n",
       "      <td>منطقة عسير</td>\n",
       "      <td>66.0</td>\n",
       "      <td>180.0</td>\n",
       "      <td>APMR</td>\n",
       "      <td>SWPS</td>\n",
       "      <td>NaN</td>\n",
       "      <td>2.0</td>\n",
       "      <td>0.0</td>\n",
       "      <td>2023-04-02</td>\n",
       "      <td>2023-04-06</td>\n",
       "      <td>5</td>\n",
       "      <td>1.0</td>\n",
       "      <td>البكالوريوس</td>\n",
       "      <td>الإذاعة والتلفزيون والفيلم</td>\n",
       "      <td>6.0</td>\n",
       "      <td>5.00</td>\n",
       "      <td>5.0</td>\n",
       "      <td>طالب</td>\n",
       "      <td>NaN</td>\n",
       "      <td>NaN</td>\n",
       "      <td>0.0</td>\n",
       "      <td>3</td>\n",
       "      <td>0</td>\n",
       "      <td>6</td>\n",
       "      <td>0</td>\n",
       "      <td>0</td>\n",
       "      <td>1</td>\n",
       "      <td>0</td>\n",
       "      <td>4</td>\n",
       "      <td>0</td>\n",
       "      <td>0</td>\n",
       "      <td>1</td>\n",
       "      <td>15</td>\n",
       "      <td>5</td>\n",
       "      <td>1</td>\n",
       "    </tr>\n",
       "    <tr>\n",
       "      <th>2</th>\n",
       "      <td>38a11c0e-4afc-4261-9c64-e94cc0a272fb</td>\n",
       "      <td>24.0</td>\n",
       "      <td>1.0</td>\n",
       "      <td>منطقة الرياض</td>\n",
       "      <td>24.0</td>\n",
       "      <td>197.0</td>\n",
       "      <td>APMR</td>\n",
       "      <td>NaN</td>\n",
       "      <td>NaN</td>\n",
       "      <td>2.0</td>\n",
       "      <td>0.0</td>\n",
       "      <td>2023-07-23</td>\n",
       "      <td>2023-09-14</td>\n",
       "      <td>54</td>\n",
       "      <td>1.0</td>\n",
       "      <td>البكالوريوس</td>\n",
       "      <td>information technology</td>\n",
       "      <td>NaN</td>\n",
       "      <td>3.50</td>\n",
       "      <td>5.0</td>\n",
       "      <td>موظف</td>\n",
       "      <td>NaN</td>\n",
       "      <td>NaN</td>\n",
       "      <td>0.0</td>\n",
       "      <td>4</td>\n",
       "      <td>1</td>\n",
       "      <td>7</td>\n",
       "      <td>1</td>\n",
       "      <td>0</td>\n",
       "      <td>0</td>\n",
       "      <td>0</td>\n",
       "      <td>0</td>\n",
       "      <td>0</td>\n",
       "      <td>0</td>\n",
       "      <td>0</td>\n",
       "      <td>13</td>\n",
       "      <td>4</td>\n",
       "      <td>1</td>\n",
       "    </tr>\n",
       "    <tr>\n",
       "      <th>3</th>\n",
       "      <td>1693e85b-f80e-40ce-846f-395ddcece6d3</td>\n",
       "      <td>23.0</td>\n",
       "      <td>1.0</td>\n",
       "      <td>منطقة الرياض</td>\n",
       "      <td>24.0</td>\n",
       "      <td>43.0</td>\n",
       "      <td>TOSL</td>\n",
       "      <td>TOSL</td>\n",
       "      <td>NaN</td>\n",
       "      <td>NaN</td>\n",
       "      <td>0.0</td>\n",
       "      <td>2023-07-23</td>\n",
       "      <td>2023-08-24</td>\n",
       "      <td>33</td>\n",
       "      <td>1.0</td>\n",
       "      <td>البكالوريوس</td>\n",
       "      <td>حوسبة تطبيقية - (مسار شبكات الحاسب)</td>\n",
       "      <td>NaN</td>\n",
       "      <td>3.55</td>\n",
       "      <td>5.0</td>\n",
       "      <td>خريج</td>\n",
       "      <td>NaN</td>\n",
       "      <td>NaN</td>\n",
       "      <td>0.0</td>\n",
       "      <td>4</td>\n",
       "      <td>0</td>\n",
       "      <td>0</td>\n",
       "      <td>2</td>\n",
       "      <td>0</td>\n",
       "      <td>0</td>\n",
       "      <td>0</td>\n",
       "      <td>0</td>\n",
       "      <td>0</td>\n",
       "      <td>0</td>\n",
       "      <td>0</td>\n",
       "      <td>6</td>\n",
       "      <td>2</td>\n",
       "      <td>1</td>\n",
       "    </tr>\n",
       "    <tr>\n",
       "      <th>4</th>\n",
       "      <td>98a0e8d0-5f80-4634-afd8-322aa0902863</td>\n",
       "      <td>23.0</td>\n",
       "      <td>1.0</td>\n",
       "      <td>منطقة الرياض</td>\n",
       "      <td>24.0</td>\n",
       "      <td>188.0</td>\n",
       "      <td>CAUF</td>\n",
       "      <td>SWPS</td>\n",
       "      <td>0.0</td>\n",
       "      <td>2.0</td>\n",
       "      <td>0.0</td>\n",
       "      <td>2023-04-30</td>\n",
       "      <td>2023-06-22</td>\n",
       "      <td>54</td>\n",
       "      <td>0.0</td>\n",
       "      <td>البكالوريوس</td>\n",
       "      <td>نظم المعلومات الحاسوبية</td>\n",
       "      <td>8.0</td>\n",
       "      <td>4.00</td>\n",
       "      <td>5.0</td>\n",
       "      <td>NaN</td>\n",
       "      <td>NaN</td>\n",
       "      <td>NaN</td>\n",
       "      <td>0.0</td>\n",
       "      <td>0</td>\n",
       "      <td>0</td>\n",
       "      <td>4</td>\n",
       "      <td>0</td>\n",
       "      <td>0</td>\n",
       "      <td>0</td>\n",
       "      <td>0</td>\n",
       "      <td>3</td>\n",
       "      <td>0</td>\n",
       "      <td>0</td>\n",
       "      <td>3</td>\n",
       "      <td>10</td>\n",
       "      <td>3</td>\n",
       "      <td>1</td>\n",
       "    </tr>\n",
       "  </tbody>\n",
       "</table>\n",
       "</div>"
      ],
      "text/plain": [
       "                             Student ID   Age  Gender   Home Region  \\\n",
       "0  4f14c50d-162e-4a15-9cf0-ec129c33bcf0  37.0     1.0  منطقة الرياض   \n",
       "1  0599d409-876b-41a5-af05-749ef0e77d32  21.0     1.0    منطقة عسير   \n",
       "2  38a11c0e-4afc-4261-9c64-e94cc0a272fb  24.0     1.0  منطقة الرياض   \n",
       "3  1693e85b-f80e-40ce-846f-395ddcece6d3  23.0     1.0  منطقة الرياض   \n",
       "4  98a0e8d0-5f80-4634-afd8-322aa0902863  23.0     1.0  منطقة الرياض   \n",
       "\n",
       "   Home City  Program ID Program Main Category Code Program Sub Category Code  \\\n",
       "0       24.0        65.0                       PCRF                      PCRF   \n",
       "1       66.0       180.0                       APMR                      SWPS   \n",
       "2       24.0       197.0                       APMR                       NaN   \n",
       "3       24.0        43.0                       TOSL                      TOSL   \n",
       "4       24.0       188.0                       CAUF                      SWPS   \n",
       "\n",
       "   Technology Type  Program Skill Level  Program Presentation Method  \\\n",
       "0              NaN                  NaN                          0.0   \n",
       "1              NaN                  2.0                          0.0   \n",
       "2              NaN                  2.0                          0.0   \n",
       "3              NaN                  NaN                          0.0   \n",
       "4              0.0                  2.0                          0.0   \n",
       "\n",
       "  Program Start Date Program End Date  Program Days  Completed Degree  \\\n",
       "0         2023-05-28       2023-06-08            12               1.0   \n",
       "1         2023-04-02       2023-04-06             5               1.0   \n",
       "2         2023-07-23       2023-09-14            54               1.0   \n",
       "3         2023-07-23       2023-08-24            33               1.0   \n",
       "4         2023-04-30       2023-06-22            54               0.0   \n",
       "\n",
       "  Level of Education                Education Speaciality  College  \\\n",
       "0        البكالوريوس                     هندسة حاسب الالي      NaN   \n",
       "1        البكالوريوس           الإذاعة والتلفزيون والفيلم      6.0   \n",
       "2        البكالوريوس               information technology      NaN   \n",
       "3        البكالوريوس  حوسبة تطبيقية - (مسار شبكات الحاسب)      NaN   \n",
       "4        البكالوريوس              نظم المعلومات الحاسوبية      8.0   \n",
       "\n",
       "   University Degree Score  University Degree Score System Employment Status  \\\n",
       "0                     2.44                             4.0          غير موظف   \n",
       "1                     5.00                             5.0              طالب   \n",
       "2                     3.50                             5.0              موظف   \n",
       "3                     3.55                             5.0              خريج   \n",
       "4                     4.00                             5.0               NaN   \n",
       "\n",
       "   Job Type Still Working    Y  PCRF  GRST  CAUF  INFA  ABIR  SERU  TOSL  \\\n",
       "0       NaN           NaN  0.0     4     0     0     0     0     0     0   \n",
       "1       NaN           NaN  0.0     3     0     6     0     0     1     0   \n",
       "2       NaN           NaN  0.0     4     1     7     1     0     0     0   \n",
       "3       NaN           NaN  0.0     4     0     0     2     0     0     0   \n",
       "4       NaN           NaN  0.0     0     0     4     0     0     0     0   \n",
       "\n",
       "   APMR  DTFH  QWLM  N/A  Total Regestration  Types_courses  train  \n",
       "0     0     0     0    0                   4              1      1  \n",
       "1     4     0     0    1                  15              5      1  \n",
       "2     0     0     0    0                  13              4      1  \n",
       "3     0     0     0    0                   6              2      1  \n",
       "4     3     0     0    3                  10              3      1  "
      ]
     },
     "execution_count": 23,
     "metadata": {},
     "output_type": "execute_result"
    }
   ],
   "source": [
    "df_concat.head()"
   ]
  },
  {
   "cell_type": "markdown",
   "id": "8d41b54b",
   "metadata": {},
   "source": [
    "#### **Features for Program dates**"
   ]
  },
  {
   "cell_type": "code",
   "execution_count": 24,
   "id": "2cb8ffb3",
   "metadata": {
    "tags": []
   },
   "outputs": [],
   "source": [
    "df_concat['Program Start Date'] = pd.to_datetime(df_concat['Program Start Date'])\n",
    "df_concat['Program End Date'] = pd.to_datetime(df_concat['Program End Date'])"
   ]
  },
  {
   "cell_type": "code",
   "execution_count": 25,
   "id": "453a6a97",
   "metadata": {
    "tags": []
   },
   "outputs": [],
   "source": [
    "df_concat[\"start_day\"] = df_concat[\"Program Start Date\"].dt.day\n",
    "df_concat[\"start_month\"] = df_concat[\"Program Start Date\"].dt.month\n",
    "df_concat[\"start_year\"] = df_concat[\"Program Start Date\"].dt.year\n",
    "df_concat[\"Start_Quarter\"] = df_concat[\"Program Start Date\"].dt.quarter\n",
    "df_concat[\"Start_weekday\"] = df_concat[\"Program Start Date\"].dt.weekday"
   ]
  },
  {
   "cell_type": "code",
   "execution_count": 26,
   "id": "c9a536dd",
   "metadata": {
    "tags": []
   },
   "outputs": [],
   "source": [
    "df_concat[\"end_day\"] = df_concat[\"Program End Date\"].dt.day\n",
    "df_concat[\"end_month\"] = df_concat[\"Program End Date\"].dt.month\n",
    "df_concat[\"end_year\"] = df_concat[\"Program End Date\"].dt.year\n",
    "df_concat[\"end_Quarter\"] = df_concat[\"Program End Date\"].dt.quarter\n",
    "df_concat[\"end_weekday\"] = df_concat[\"Program End Date\"].dt.weekday"
   ]
  },
  {
   "cell_type": "code",
   "execution_count": 27,
   "id": "380974b0",
   "metadata": {
    "tags": []
   },
   "outputs": [],
   "source": [
    "# Dropping start and end date\n",
    "df_concat.drop(['Program Start Date', 'Program End Date'], axis=1, inplace=True)"
   ]
  },
  {
   "cell_type": "code",
   "execution_count": 28,
   "id": "371fd141",
   "metadata": {
    "tags": []
   },
   "outputs": [
    {
     "name": "stdout",
     "output_type": "stream",
     "text": [
      "<class 'pandas.core.frame.DataFrame'>\n",
      "Int64Index: 7366 entries, 0 to 817\n",
      "Data columns (total 46 columns):\n",
      " #   Column                          Non-Null Count  Dtype  \n",
      "---  ------                          --------------  -----  \n",
      " 0   Student ID                      7366 non-null   object \n",
      " 1   Age                             7260 non-null   float64\n",
      " 2   Gender                          7366 non-null   float64\n",
      " 3   Home Region                     7363 non-null   object \n",
      " 4   Home City                       7363 non-null   float64\n",
      " 5   Program ID                      7366 non-null   float64\n",
      " 6   Program Main Category Code      7366 non-null   object \n",
      " 7   Program Sub Category Code       6316 non-null   object \n",
      " 8   Technology Type                 4020 non-null   float64\n",
      " 9   Program Skill Level             5520 non-null   float64\n",
      " 10  Program Presentation Method     7366 non-null   float64\n",
      " 11  Program Days                    7366 non-null   int64  \n",
      " 12  Completed Degree                7366 non-null   float64\n",
      " 13  Level of Education              7337 non-null   object \n",
      " 14  Education Speaciality           7052 non-null   object \n",
      " 15  College                         2984 non-null   float64\n",
      " 16  University Degree Score         7274 non-null   float64\n",
      " 17  University Degree Score System  7274 non-null   float64\n",
      " 18  Employment Status               6730 non-null   object \n",
      " 19  Job Type                        2218 non-null   float64\n",
      " 20  Still Working                   2218 non-null   object \n",
      " 21  Y                               6548 non-null   float64\n",
      " 22  PCRF                            7366 non-null   int64  \n",
      " 23  GRST                            7366 non-null   int64  \n",
      " 24  CAUF                            7366 non-null   int64  \n",
      " 25  INFA                            7366 non-null   int64  \n",
      " 26  ABIR                            7366 non-null   int64  \n",
      " 27  SERU                            7366 non-null   int64  \n",
      " 28  TOSL                            7366 non-null   int64  \n",
      " 29  APMR                            7366 non-null   int64  \n",
      " 30  DTFH                            7366 non-null   int64  \n",
      " 31  QWLM                            7366 non-null   int64  \n",
      " 32  N/A                             7366 non-null   int64  \n",
      " 33  Total Regestration              7366 non-null   int64  \n",
      " 34  Types_courses                   7366 non-null   int64  \n",
      " 35  train                           7366 non-null   int64  \n",
      " 36  start_day                       7366 non-null   int64  \n",
      " 37  start_month                     7366 non-null   int64  \n",
      " 38  start_year                      7366 non-null   int64  \n",
      " 39  Start_Quarter                   7366 non-null   int64  \n",
      " 40  Start_weekday                   7366 non-null   int64  \n",
      " 41  end_day                         7366 non-null   int64  \n",
      " 42  end_month                       7366 non-null   int64  \n",
      " 43  end_year                        7366 non-null   int64  \n",
      " 44  end_Quarter                     7366 non-null   int64  \n",
      " 45  end_weekday                     7366 non-null   int64  \n",
      "dtypes: float64(13), int64(25), object(8)\n",
      "memory usage: 2.6+ MB\n"
     ]
    }
   ],
   "source": [
    "df_concat.info()"
   ]
  },
  {
   "cell_type": "markdown",
   "id": "36554af1",
   "metadata": {},
   "source": [
    "#### **Dropping columns with high frequency of NaNs**"
   ]
  },
  {
   "cell_type": "code",
   "execution_count": 29,
   "id": "e1243b43",
   "metadata": {
    "tags": []
   },
   "outputs": [],
   "source": [
    "df_concat.drop(['College', 'Job Type', 'Still Working', 'Education Speaciality'], axis=1, inplace=True)"
   ]
  },
  {
   "cell_type": "markdown",
   "id": "fc315553",
   "metadata": {},
   "source": [
    "#### **Imputing Employment Status**"
   ]
  },
  {
   "cell_type": "code",
   "execution_count": 30,
   "id": "e1dda7ca",
   "metadata": {
    "tags": []
   },
   "outputs": [
    {
     "data": {
      "text/plain": [
       "موظف           3151\n",
       "غير موظف       1247\n",
       "طالب           1090\n",
       "خريج           1071\n",
       "موظف - طالب      99\n",
       "عمل حر           72\n",
       "Name: Employment Status, dtype: int64"
      ]
     },
     "execution_count": 30,
     "metadata": {},
     "output_type": "execute_result"
    }
   ],
   "source": [
    "df_concat['Employment Status'].value_counts()"
   ]
  },
  {
   "cell_type": "code",
   "execution_count": 31,
   "id": "ab562f68",
   "metadata": {
    "tags": []
   },
   "outputs": [],
   "source": [
    "imputer = SimpleImputer(strategy = 'most_frequent')"
   ]
  },
  {
   "cell_type": "code",
   "execution_count": 32,
   "id": "e0abdd32",
   "metadata": {
    "tags": []
   },
   "outputs": [],
   "source": [
    "df_concat['Employment Status'] = imputer.fit_transform(df_concat[['Employment Status']])"
   ]
  },
  {
   "cell_type": "code",
   "execution_count": 33,
   "id": "f863d8c3",
   "metadata": {
    "tags": []
   },
   "outputs": [],
   "source": [
    "df_concat['Employment Status'] = encoder.fit_transform(df_concat[['Employment Status']])"
   ]
  },
  {
   "cell_type": "markdown",
   "id": "0db52c4a",
   "metadata": {
    "tags": []
   },
   "source": [
    "#### **Imputing University Degree Score and University Degree Score System**"
   ]
  },
  {
   "cell_type": "code",
   "execution_count": 34,
   "id": "4a86c1f7",
   "metadata": {
    "tags": []
   },
   "outputs": [
    {
     "data": {
      "text/html": [
       "<div>\n",
       "<style scoped>\n",
       "    .dataframe tbody tr th:only-of-type {\n",
       "        vertical-align: middle;\n",
       "    }\n",
       "\n",
       "    .dataframe tbody tr th {\n",
       "        vertical-align: top;\n",
       "    }\n",
       "\n",
       "    .dataframe thead th {\n",
       "        text-align: right;\n",
       "    }\n",
       "</style>\n",
       "<table border=\"1\" class=\"dataframe\">\n",
       "  <thead>\n",
       "    <tr style=\"text-align: right;\">\n",
       "      <th></th>\n",
       "      <th>Student ID</th>\n",
       "      <th>Age</th>\n",
       "      <th>Gender</th>\n",
       "      <th>Home Region</th>\n",
       "      <th>Home City</th>\n",
       "      <th>Program ID</th>\n",
       "      <th>Program Main Category Code</th>\n",
       "      <th>Program Sub Category Code</th>\n",
       "      <th>Technology Type</th>\n",
       "      <th>Program Skill Level</th>\n",
       "      <th>Program Presentation Method</th>\n",
       "      <th>Program Days</th>\n",
       "      <th>Completed Degree</th>\n",
       "      <th>Level of Education</th>\n",
       "      <th>University Degree Score</th>\n",
       "      <th>University Degree Score System</th>\n",
       "      <th>Employment Status</th>\n",
       "      <th>Y</th>\n",
       "      <th>PCRF</th>\n",
       "      <th>GRST</th>\n",
       "      <th>CAUF</th>\n",
       "      <th>INFA</th>\n",
       "      <th>ABIR</th>\n",
       "      <th>SERU</th>\n",
       "      <th>TOSL</th>\n",
       "      <th>APMR</th>\n",
       "      <th>DTFH</th>\n",
       "      <th>QWLM</th>\n",
       "      <th>N/A</th>\n",
       "      <th>Total Regestration</th>\n",
       "      <th>Types_courses</th>\n",
       "      <th>train</th>\n",
       "      <th>start_day</th>\n",
       "      <th>start_month</th>\n",
       "      <th>start_year</th>\n",
       "      <th>Start_Quarter</th>\n",
       "      <th>Start_weekday</th>\n",
       "      <th>end_day</th>\n",
       "      <th>end_month</th>\n",
       "      <th>end_year</th>\n",
       "      <th>end_Quarter</th>\n",
       "      <th>end_weekday</th>\n",
       "    </tr>\n",
       "  </thead>\n",
       "  <tbody>\n",
       "  </tbody>\n",
       "</table>\n",
       "</div>"
      ],
      "text/plain": [
       "Empty DataFrame\n",
       "Columns: [Student ID, Age, Gender, Home Region, Home City, Program ID, Program Main Category Code, Program Sub Category Code, Technology Type, Program Skill Level, Program Presentation Method, Program Days, Completed Degree, Level of Education, University Degree Score, University Degree Score System, Employment Status, Y, PCRF, GRST, CAUF, INFA, ABIR, SERU, TOSL, APMR, DTFH, QWLM, N/A, Total Regestration, Types_courses, train, start_day, start_month, start_year, Start_Quarter, Start_weekday, end_day, end_month, end_year, end_Quarter, end_weekday]\n",
       "Index: []"
      ]
     },
     "execution_count": 34,
     "metadata": {},
     "output_type": "execute_result"
    }
   ],
   "source": [
    "df_concat[(df_concat['University Degree Score'].isna()) & (df_concat['University Degree Score System'].notna())]"
   ]
  },
  {
   "cell_type": "code",
   "execution_count": 35,
   "id": "d099ace4",
   "metadata": {
    "tags": []
   },
   "outputs": [
    {
     "data": {
      "text/html": [
       "<div>\n",
       "<style scoped>\n",
       "    .dataframe tbody tr th:only-of-type {\n",
       "        vertical-align: middle;\n",
       "    }\n",
       "\n",
       "    .dataframe tbody tr th {\n",
       "        vertical-align: top;\n",
       "    }\n",
       "\n",
       "    .dataframe thead th {\n",
       "        text-align: right;\n",
       "    }\n",
       "</style>\n",
       "<table border=\"1\" class=\"dataframe\">\n",
       "  <thead>\n",
       "    <tr style=\"text-align: right;\">\n",
       "      <th></th>\n",
       "      <th>Student ID</th>\n",
       "      <th>Age</th>\n",
       "      <th>Gender</th>\n",
       "      <th>Home Region</th>\n",
       "      <th>Home City</th>\n",
       "      <th>Program ID</th>\n",
       "      <th>Program Main Category Code</th>\n",
       "      <th>Program Sub Category Code</th>\n",
       "      <th>Technology Type</th>\n",
       "      <th>Program Skill Level</th>\n",
       "      <th>Program Presentation Method</th>\n",
       "      <th>Program Days</th>\n",
       "      <th>Completed Degree</th>\n",
       "      <th>Level of Education</th>\n",
       "      <th>University Degree Score</th>\n",
       "      <th>University Degree Score System</th>\n",
       "      <th>Employment Status</th>\n",
       "      <th>Y</th>\n",
       "      <th>PCRF</th>\n",
       "      <th>GRST</th>\n",
       "      <th>CAUF</th>\n",
       "      <th>INFA</th>\n",
       "      <th>ABIR</th>\n",
       "      <th>SERU</th>\n",
       "      <th>TOSL</th>\n",
       "      <th>APMR</th>\n",
       "      <th>DTFH</th>\n",
       "      <th>QWLM</th>\n",
       "      <th>N/A</th>\n",
       "      <th>Total Regestration</th>\n",
       "      <th>Types_courses</th>\n",
       "      <th>train</th>\n",
       "      <th>start_day</th>\n",
       "      <th>start_month</th>\n",
       "      <th>start_year</th>\n",
       "      <th>Start_Quarter</th>\n",
       "      <th>Start_weekday</th>\n",
       "      <th>end_day</th>\n",
       "      <th>end_month</th>\n",
       "      <th>end_year</th>\n",
       "      <th>end_Quarter</th>\n",
       "      <th>end_weekday</th>\n",
       "    </tr>\n",
       "  </thead>\n",
       "  <tbody>\n",
       "  </tbody>\n",
       "</table>\n",
       "</div>"
      ],
      "text/plain": [
       "Empty DataFrame\n",
       "Columns: [Student ID, Age, Gender, Home Region, Home City, Program ID, Program Main Category Code, Program Sub Category Code, Technology Type, Program Skill Level, Program Presentation Method, Program Days, Completed Degree, Level of Education, University Degree Score, University Degree Score System, Employment Status, Y, PCRF, GRST, CAUF, INFA, ABIR, SERU, TOSL, APMR, DTFH, QWLM, N/A, Total Regestration, Types_courses, train, start_day, start_month, start_year, Start_Quarter, Start_weekday, end_day, end_month, end_year, end_Quarter, end_weekday]\n",
       "Index: []"
      ]
     },
     "execution_count": 35,
     "metadata": {},
     "output_type": "execute_result"
    }
   ],
   "source": [
    "df_concat[(df_concat['University Degree Score'].notna()) & (df_concat['University Degree Score System'].isna())]"
   ]
  },
  {
   "cell_type": "code",
   "execution_count": 36,
   "id": "28bd7fd2",
   "metadata": {
    "tags": []
   },
   "outputs": [
    {
     "data": {
      "text/plain": [
       "5.0      5297\n",
       "4.0      1595\n",
       "100.0     382\n",
       "Name: University Degree Score System, dtype: int64"
      ]
     },
     "execution_count": 36,
     "metadata": {},
     "output_type": "execute_result"
    }
   ],
   "source": [
    "df_concat['University Degree Score System'].value_counts()"
   ]
  },
  {
   "cell_type": "code",
   "execution_count": 37,
   "id": "f81dac46",
   "metadata": {
    "tags": []
   },
   "outputs": [
    {
     "data": {
      "text/plain": [
       "4.000     971\n",
       "3.000     650\n",
       "5.000     222\n",
       "2.000     149\n",
       "4.500     127\n",
       "         ... \n",
       "99.830      1\n",
       "89.690      1\n",
       "1.790       1\n",
       "3.498       1\n",
       "3.506       1\n",
       "Name: University Degree Score, Length: 446, dtype: int64"
      ]
     },
     "execution_count": 37,
     "metadata": {},
     "output_type": "execute_result"
    }
   ],
   "source": [
    "df_concat['University Degree Score'].value_counts()"
   ]
  },
  {
   "cell_type": "markdown",
   "id": "26b27c61",
   "metadata": {},
   "source": [
    "The most common University degree score system is the 5.0. "
   ]
  },
  {
   "cell_type": "code",
   "execution_count": 38,
   "id": "64c99c3c",
   "metadata": {
    "tags": []
   },
   "outputs": [
    {
     "data": {
      "text/plain": [
       "4.000    826\n",
       "3.000    384\n",
       "5.000    222\n",
       "4.500    127\n",
       "3.500     65\n",
       "        ... \n",
       "2.150      1\n",
       "2.880      1\n",
       "2.690      1\n",
       "2.710      1\n",
       "4.061      1\n",
       "Name: University Degree Score, Length: 279, dtype: int64"
      ]
     },
     "execution_count": 38,
     "metadata": {},
     "output_type": "execute_result"
    }
   ],
   "source": [
    "df_concat['University Degree Score'][df_concat['University Degree Score System'] ==5].value_counts()"
   ]
  },
  {
   "cell_type": "markdown",
   "id": "c3990697",
   "metadata": {},
   "source": [
    "And the most common score for the 5.0 score system is 4. We shall impute the missing score system with 5.0 and the missing scores with 4.0"
   ]
  },
  {
   "cell_type": "code",
   "execution_count": 39,
   "id": "bd7ec470",
   "metadata": {
    "tags": []
   },
   "outputs": [],
   "source": [
    "df_concat['University Degree Score System'].fillna(5.0, inplace=True)\n",
    "df_concat['University Degree Score'].fillna(4.0, inplace=True)"
   ]
  },
  {
   "cell_type": "code",
   "execution_count": 40,
   "id": "b1e1981e",
   "metadata": {
    "tags": []
   },
   "outputs": [],
   "source": [
    "df_concat['Normalized Uni Score'] = df_concat['University Degree Score'] / df_concat['University Degree Score System']\n",
    "df_concat.drop(['University Degree Score' , 'University Degree Score System'], axis=1, inplace=True)"
   ]
  },
  {
   "cell_type": "markdown",
   "id": "40683dfc",
   "metadata": {},
   "source": [
    "#### **Imputing Age**"
   ]
  },
  {
   "cell_type": "markdown",
   "id": "27939c40",
   "metadata": {},
   "source": [
    "We will impute the age of the missing values according to the median age of the gender."
   ]
  },
  {
   "cell_type": "code",
   "execution_count": 41,
   "id": "d6ada7fd",
   "metadata": {
    "tags": []
   },
   "outputs": [
    {
     "data": {
      "text/plain": [
       "24.0"
      ]
     },
     "execution_count": 41,
     "metadata": {},
     "output_type": "execute_result"
    }
   ],
   "source": [
    "df_concat[df_concat.Gender == 0]['Age'].median()"
   ]
  },
  {
   "cell_type": "code",
   "execution_count": 42,
   "id": "bc650087",
   "metadata": {
    "tags": []
   },
   "outputs": [
    {
     "data": {
      "text/plain": [
       "26.0"
      ]
     },
     "execution_count": 42,
     "metadata": {},
     "output_type": "execute_result"
    }
   ],
   "source": [
    "df_concat[df_concat.Gender == 1]['Age'].median()"
   ]
  },
  {
   "cell_type": "code",
   "execution_count": 43,
   "id": "d60734aa",
   "metadata": {
    "tags": []
   },
   "outputs": [],
   "source": [
    "df_concat.loc[(df_concat['Age'].isna()) &  \n",
    "              (df_concat['Gender'] == 0) , 'Age'] = 24"
   ]
  },
  {
   "cell_type": "code",
   "execution_count": 44,
   "id": "bafd1305",
   "metadata": {
    "tags": []
   },
   "outputs": [],
   "source": [
    "df_concat.loc[(df_concat['Age'].isna()) &  \n",
    "              (df_concat['Gender'] == 1) , 'Age'] = 26"
   ]
  },
  {
   "cell_type": "markdown",
   "id": "ff4b14c0",
   "metadata": {},
   "source": [
    "#### **Imputing Level of Education**"
   ]
  },
  {
   "cell_type": "code",
   "execution_count": 45,
   "id": "c216106e",
   "metadata": {
    "tags": []
   },
   "outputs": [
    {
     "data": {
      "text/plain": [
       "البكالوريوس    6089\n",
       "الماجستير       554\n",
       "الدبلوم         354\n",
       "ثانوي           304\n",
       "الدكتوراه        35\n",
       "متوسط             1\n",
       "Name: Level of Education, dtype: int64"
      ]
     },
     "execution_count": 45,
     "metadata": {},
     "output_type": "execute_result"
    }
   ],
   "source": [
    "df_concat['Level of Education'].value_counts()"
   ]
  },
  {
   "cell_type": "code",
   "execution_count": 46,
   "id": "f7abd100",
   "metadata": {
    "tags": []
   },
   "outputs": [
    {
     "data": {
      "text/plain": [
       "Completed Degree  Level of Education\n",
       "1.0               البكالوريوس           4873\n",
       "0.0               البكالوريوس           1216\n",
       "1.0               الماجستير              447\n",
       "                  الدبلوم                263\n",
       "                  ثانوي                  211\n",
       "0.0               الماجستير              107\n",
       "                  ثانوي                   93\n",
       "                  الدبلوم                 91\n",
       "1.0               الدكتوراه               22\n",
       "0.0               الدكتوراه               13\n",
       "                  متوسط                    1\n",
       "dtype: int64"
      ]
     },
     "execution_count": 46,
     "metadata": {},
     "output_type": "execute_result"
    }
   ],
   "source": [
    "df_concat[['Completed Degree', 'Level of Education']].value_counts()"
   ]
  },
  {
   "cell_type": "markdown",
   "id": "0f5a057f",
   "metadata": {},
   "source": [
    "We will impute the Level of Education with the most frequent value i.e. 0"
   ]
  },
  {
   "cell_type": "code",
   "execution_count": 47,
   "id": "5cf949f3",
   "metadata": {
    "tags": []
   },
   "outputs": [],
   "source": [
    "imputer = SimpleImputer(strategy = 'most_frequent')"
   ]
  },
  {
   "cell_type": "code",
   "execution_count": 48,
   "id": "22a8ce11",
   "metadata": {
    "tags": []
   },
   "outputs": [],
   "source": [
    "df_concat['Level of Education'] = imputer.fit_transform(df_concat[['Level of Education']])"
   ]
  },
  {
   "cell_type": "code",
   "execution_count": 49,
   "id": "f2c79cf3",
   "metadata": {
    "tags": []
   },
   "outputs": [],
   "source": [
    "df_concat['Level of Education'] = encoder.fit_transform(df_concat[['Level of Education']])"
   ]
  },
  {
   "cell_type": "markdown",
   "id": "36755f90",
   "metadata": {},
   "source": [
    "#### **Imputing Home Region**"
   ]
  },
  {
   "cell_type": "code",
   "execution_count": 50,
   "id": "38a028c2",
   "metadata": {
    "tags": []
   },
   "outputs": [],
   "source": [
    "imputer = SimpleImputer(strategy = 'most_frequent')"
   ]
  },
  {
   "cell_type": "code",
   "execution_count": 51,
   "id": "80a98ea7",
   "metadata": {
    "tags": []
   },
   "outputs": [],
   "source": [
    "df_concat['Home Region'] = imputer.fit_transform(df_concat[['Home Region']])"
   ]
  },
  {
   "cell_type": "code",
   "execution_count": 52,
   "id": "0034454a",
   "metadata": {
    "tags": []
   },
   "outputs": [],
   "source": [
    "df_concat['Home Region'] = encoder.fit_transform(df_concat[['Home Region']])"
   ]
  },
  {
   "cell_type": "markdown",
   "id": "563600b4",
   "metadata": {},
   "source": [
    "#### **Imputing Home City**"
   ]
  },
  {
   "cell_type": "code",
   "execution_count": 53,
   "id": "1904c3bf",
   "metadata": {
    "tags": []
   },
   "outputs": [
    {
     "data": {
      "text/plain": [
       "24.0    5319\n",
       "61.0     404\n",
       "40.0     143\n",
       "21.0     128\n",
       "0.0      117\n",
       "        ... \n",
       "72.0       1\n",
       "47.0       1\n",
       "34.0       1\n",
       "59.0       1\n",
       "18.0       1\n",
       "Name: Home City, Length: 97, dtype: int64"
      ]
     },
     "execution_count": 53,
     "metadata": {},
     "output_type": "execute_result"
    }
   ],
   "source": [
    "df_concat['Home City'].value_counts()"
   ]
  },
  {
   "cell_type": "code",
   "execution_count": 54,
   "id": "4288f328",
   "metadata": {
    "tags": []
   },
   "outputs": [],
   "source": [
    "df_concat['Home City'] = df_concat['Home City'].fillna(24.0)"
   ]
  },
  {
   "cell_type": "markdown",
   "id": "701a53d2",
   "metadata": {},
   "source": [
    "#### **Imputing Program Sub Category Code**"
   ]
  },
  {
   "cell_type": "code",
   "execution_count": 55,
   "id": "694d7f6a",
   "metadata": {
    "tags": []
   },
   "outputs": [],
   "source": [
    "pmcc = df_concat.groupby('Program Main Category Code')"
   ]
  },
  {
   "cell_type": "code",
   "execution_count": 56,
   "id": "1d9d4824",
   "metadata": {
    "tags": []
   },
   "outputs": [
    {
     "data": {
      "text/plain": [
       "SRTA    797\n",
       "KLTM    132\n",
       "SWPS    101\n",
       "QTDY     57\n",
       "ASCW     39\n",
       "Name: Program Sub Category Code, dtype: int64"
      ]
     },
     "execution_count": 56,
     "metadata": {},
     "output_type": "execute_result"
    }
   ],
   "source": [
    "pmcc.get_group('APMR')['Program Sub Category Code'].value_counts()"
   ]
  },
  {
   "cell_type": "markdown",
   "id": "e312f45e",
   "metadata": {},
   "source": [
    "Most popular sub category for APMR program group is SRTA. We will impute the missing values for this sub code accordingly. "
   ]
  },
  {
   "cell_type": "code",
   "execution_count": 57,
   "id": "1f3ce1cd",
   "metadata": {
    "tags": []
   },
   "outputs": [
    {
     "data": {
      "text/plain": [
       "SWPS    1904\n",
       "CRDP     266\n",
       "ERST     156\n",
       "Name: Program Sub Category Code, dtype: int64"
      ]
     },
     "execution_count": 57,
     "metadata": {},
     "output_type": "execute_result"
    }
   ],
   "source": [
    "pmcc.get_group('CAUF')['Program Sub Category Code'].value_counts()"
   ]
  },
  {
   "cell_type": "markdown",
   "id": "ae63256f",
   "metadata": {},
   "source": [
    "Most popular sub category for CAUF program group is SWPS. We will impute the missing values for this sub code accordingly. "
   ]
  },
  {
   "cell_type": "code",
   "execution_count": 58,
   "id": "13605094",
   "metadata": {
    "tags": []
   },
   "outputs": [
    {
     "data": {
      "text/plain": [
       "TOSL    327\n",
       "Name: Program Sub Category Code, dtype: int64"
      ]
     },
     "execution_count": 58,
     "metadata": {},
     "output_type": "execute_result"
    }
   ],
   "source": [
    "pmcc.get_group('TOSL')['Program Sub Category Code'].value_counts()"
   ]
  },
  {
   "cell_type": "markdown",
   "id": "2b418c8d",
   "metadata": {},
   "source": [
    "Most popular sub category for TOSL program group is TOSL. We will impute the missing values for this sub code accordingly. "
   ]
  },
  {
   "cell_type": "code",
   "execution_count": 59,
   "id": "69a5b331",
   "metadata": {
    "tags": []
   },
   "outputs": [
    {
     "data": {
      "text/plain": [
       "Series([], Name: Program Sub Category Code, dtype: int64)"
      ]
     },
     "execution_count": 59,
     "metadata": {},
     "output_type": "execute_result"
    }
   ],
   "source": [
    "pmcc.get_group('QWLM')['Program Sub Category Code'].value_counts()"
   ]
  },
  {
   "cell_type": "markdown",
   "id": "6dd7bd63",
   "metadata": {},
   "source": [
    "We have no indication of the program sub category code for QWLM program main code. We will impute missing values with most frequent value, i.e SWPS. "
   ]
  },
  {
   "cell_type": "code",
   "execution_count": 60,
   "id": "e7a837fd",
   "metadata": {
    "tags": []
   },
   "outputs": [
    {
     "data": {
      "text/plain": [
       "INFA    121\n",
       "ABIR     19\n",
       "Name: Program Sub Category Code, dtype: int64"
      ]
     },
     "execution_count": 60,
     "metadata": {},
     "output_type": "execute_result"
    }
   ],
   "source": [
    "pmcc.get_group('ABIR')['Program Sub Category Code'].value_counts()"
   ]
  },
  {
   "cell_type": "markdown",
   "id": "b75c970c",
   "metadata": {},
   "source": [
    "Most popular sub category for ABIR program group is INFA. We will impute the missing values for this sub code accordingly. "
   ]
  },
  {
   "cell_type": "code",
   "execution_count": 61,
   "id": "30b71de8",
   "metadata": {
    "tags": []
   },
   "outputs": [
    {
     "data": {
      "text/plain": [
       "Series([], Name: Program Sub Category Code, dtype: int64)"
      ]
     },
     "execution_count": 61,
     "metadata": {},
     "output_type": "execute_result"
    }
   ],
   "source": [
    "pmcc.get_group('DTFH')['Program Sub Category Code'].value_counts()"
   ]
  },
  {
   "cell_type": "markdown",
   "id": "112dfb46",
   "metadata": {},
   "source": [
    "We have no indication of the program sub category code for DFTH program main code. We will impute missing values with most frequent value, i.e SWPS. "
   ]
  },
  {
   "cell_type": "code",
   "execution_count": 62,
   "id": "24e49ad6",
   "metadata": {
    "tags": []
   },
   "outputs": [],
   "source": [
    "# Fill NaN values in column Program Sub Category Code with 'SRTA' where column Program Main Category Code is equal to 'APMR'\n",
    "df_concat.loc[df_concat['Program Main Category Code'] == 'APMR', 'Program Sub Category Code'] = df_concat.loc[df_concat['Program Main Category Code'] == 'APMR', 'Program Sub Category Code'].fillna('SRTA')"
   ]
  },
  {
   "cell_type": "code",
   "execution_count": 63,
   "id": "8aa9ade0",
   "metadata": {
    "tags": []
   },
   "outputs": [],
   "source": [
    "# Fill NaN values in column Program Sub Category Code with 'SWPS' where column Program Main Category Code is equal to 'CAUF'\n",
    "df_concat.loc[df_concat['Program Main Category Code'] == 'CAUF', 'Program Sub Category Code'] = df_concat.loc[df_concat['Program Main Category Code'] == 'CAUF', 'Program Sub Category Code'].fillna('SWPS')"
   ]
  },
  {
   "cell_type": "code",
   "execution_count": 64,
   "id": "d76ab8d1",
   "metadata": {
    "tags": []
   },
   "outputs": [],
   "source": [
    "# Fill NaN values in column Program Sub Category Code with 'TOSL' where column Program Main Category Code is equal to 'TOSL'\n",
    "df_concat.loc[df_concat['Program Main Category Code'] == 'TOSL', 'Program Sub Category Code'] = df_concat.loc[df_concat['Program Main Category Code'] == 'TOSL', 'Program Sub Category Code'].fillna('TOSL')"
   ]
  },
  {
   "cell_type": "code",
   "execution_count": 65,
   "id": "c82e06f1",
   "metadata": {
    "tags": []
   },
   "outputs": [],
   "source": [
    "# Fill NaN values in column Program Sub Category Code with 'SWPS' where column Program Main Category Code is equal to 'QWLM'\n",
    "df_concat.loc[df_concat['Program Main Category Code'] == 'QWLM', 'Program Sub Category Code'] = df_concat.loc[df_concat['Program Main Category Code'] == 'QWLM', 'Program Sub Category Code'].fillna('SWPS')"
   ]
  },
  {
   "cell_type": "code",
   "execution_count": 66,
   "id": "d239aaac",
   "metadata": {
    "tags": []
   },
   "outputs": [],
   "source": [
    "# Fill NaN values in column Program Sub Category Code with 'INFA' where column Program Main Category Code is equal to 'ABIR'\n",
    "df_concat.loc[df_concat['Program Main Category Code'] == 'ABIR', 'Program Sub Category Code'] = df_concat.loc[df_concat['Program Main Category Code'] == 'ABIR', 'Program Sub Category Code'].fillna('INFA')"
   ]
  },
  {
   "cell_type": "code",
   "execution_count": 67,
   "id": "f135aba5",
   "metadata": {
    "tags": []
   },
   "outputs": [],
   "source": [
    "# Fill NaN values in column Program Sub Category Code with 'SWPS' where column Program Main Category Code is equal to 'DTFH'\n",
    "df_concat.loc[df_concat['Program Main Category Code'] == 'DTFH', 'Program Sub Category Code'] = df_concat.loc[df_concat['Program Main Category Code'] == 'DTFH', 'Program Sub Category Code'].fillna('SWPS')"
   ]
  },
  {
   "cell_type": "markdown",
   "id": "611f029e",
   "metadata": {},
   "source": [
    "#### **Imputing Technology Type**"
   ]
  },
  {
   "cell_type": "code",
   "execution_count": 68,
   "id": "1bce525e",
   "metadata": {
    "tags": []
   },
   "outputs": [
    {
     "data": {
      "text/plain": [
       "0.0    3048\n",
       "2.0     489\n",
       "1.0     483\n",
       "Name: Technology Type, dtype: int64"
      ]
     },
     "execution_count": 68,
     "metadata": {},
     "output_type": "execute_result"
    }
   ],
   "source": [
    "df_concat['Technology Type'].value_counts()"
   ]
  },
  {
   "cell_type": "code",
   "execution_count": 69,
   "id": "2e327458",
   "metadata": {
    "tags": []
   },
   "outputs": [],
   "source": [
    "pmcc_pscc = df_concat.groupby(['Program Main Category Code', 'Program Sub Category Code'])"
   ]
  },
  {
   "cell_type": "code",
   "execution_count": 70,
   "id": "b5db4274",
   "metadata": {
    "tags": []
   },
   "outputs": [
    {
     "data": {
      "text/plain": [
       "Program Main Category Code  Program Sub Category Code  Technology Type\n",
       "ABIR                        ABIR                       2.0                 19\n",
       "                            INFA                       0.0                 88\n",
       "                                                       2.0                 67\n",
       "APMR                        ASCW                       0.0                 39\n",
       "                            KLTM                       2.0                103\n",
       "                            QTDY                       0.0                 57\n",
       "                            SRTA                       0.0                432\n",
       "                                                       2.0                 80\n",
       "                                                       1.0                 23\n",
       "CAUF                        CRDP                       1.0                139\n",
       "                                                       2.0                 13\n",
       "                            ERST                       0.0                156\n",
       "                            SWPS                       0.0                969\n",
       "                                                       1.0                184\n",
       "                                                       2.0                 20\n",
       "DTFH                        SWPS                       2.0                 35\n",
       "GRST                        INFA                       0.0                144\n",
       "INFA                        INFA                       0.0                 85\n",
       "PCRF                        PCRF                       0.0                830\n",
       "                                                       2.0                152\n",
       "                                                       1.0                 76\n",
       "SERU                        ERST                       0.0                 41\n",
       "                            INFA                       1.0                 18\n",
       "TOSL                        TOSL                       0.0                207\n",
       "                                                       1.0                 43\n",
       "Name: Technology Type, dtype: int64"
      ]
     },
     "execution_count": 70,
     "metadata": {},
     "output_type": "execute_result"
    }
   ],
   "source": [
    "pmcc_pscc['Technology Type'].value_counts()"
   ]
  },
  {
   "cell_type": "markdown",
   "id": "df44b7bb",
   "metadata": {},
   "source": [
    "We will impute the technology type according to the program main category code most frequent tech type"
   ]
  },
  {
   "cell_type": "code",
   "execution_count": 71,
   "id": "7a50356c",
   "metadata": {
    "tags": []
   },
   "outputs": [],
   "source": [
    "df_concat.loc[(df_concat['Technology Type'].isna()) &  \n",
    "              (df_concat['Program Main Category Code'] == 'ABIR') &  \n",
    "              (df_concat['Program Sub Category Code'] == 'INFA'), 'Technology Type'] = 0.0"
   ]
  },
  {
   "cell_type": "code",
   "execution_count": 72,
   "id": "36d8ed71",
   "metadata": {
    "tags": []
   },
   "outputs": [],
   "source": [
    "df_concat.loc[(df_concat['Technology Type'].isna()) &  \n",
    "              (df_concat['Program Main Category Code'] == 'APMR') &  \n",
    "              (df_concat['Program Sub Category Code'] == 'KLTM'), 'Technology Type'] = 2.0"
   ]
  },
  {
   "cell_type": "code",
   "execution_count": 73,
   "id": "161acd38",
   "metadata": {
    "tags": []
   },
   "outputs": [],
   "source": [
    "df_concat.loc[(df_concat['Technology Type'].isna()) &  \n",
    "              (df_concat['Program Main Category Code'] == 'APMR') &  \n",
    "              (df_concat['Program Sub Category Code'] == 'SRTA'), 'Technology Type'] = 0.0"
   ]
  },
  {
   "cell_type": "code",
   "execution_count": 74,
   "id": "05377c3d",
   "metadata": {
    "tags": []
   },
   "outputs": [],
   "source": [
    "df_concat.loc[(df_concat['Technology Type'].isna()) &  \n",
    "              (df_concat['Program Main Category Code'] == 'CAUF') &  \n",
    "              (df_concat['Program Sub Category Code'] == 'CRDP'), 'Technology Type'] = 1.0"
   ]
  },
  {
   "cell_type": "code",
   "execution_count": 75,
   "id": "bfaff161",
   "metadata": {
    "tags": []
   },
   "outputs": [],
   "source": [
    "df_concat.loc[(df_concat['Technology Type'].isna()) &  \n",
    "              (df_concat['Program Main Category Code'] == 'CAUF') &  \n",
    "              (df_concat['Program Sub Category Code'] == 'SWPS'), 'Technology Type'] = 0.0"
   ]
  },
  {
   "cell_type": "code",
   "execution_count": 76,
   "id": "f238433a",
   "metadata": {
    "tags": []
   },
   "outputs": [],
   "source": [
    "df_concat.loc[(df_concat['Technology Type'].isna()) &  \n",
    "              (df_concat['Program Main Category Code'] == 'APMR') &  \n",
    "              (df_concat['Program Sub Category Code'] == 'SWPS'), 'Technology Type'] = 0.0"
   ]
  },
  {
   "cell_type": "code",
   "execution_count": 77,
   "id": "31763a66",
   "metadata": {
    "tags": []
   },
   "outputs": [],
   "source": [
    "df_concat.loc[(df_concat['Technology Type'].isna()) &  \n",
    "              (df_concat['Program Main Category Code'] == 'GRST') &  \n",
    "              (df_concat['Program Sub Category Code'] == 'INFA'), 'Technology Type'] = 0.0"
   ]
  },
  {
   "cell_type": "code",
   "execution_count": 78,
   "id": "e20835fc",
   "metadata": {
    "tags": []
   },
   "outputs": [],
   "source": [
    "df_concat.loc[(df_concat['Technology Type'].isna()) &  \n",
    "              (df_concat['Program Main Category Code'] == 'INFA') &  \n",
    "              (df_concat['Program Sub Category Code'] == 'INFA'), 'Technology Type'] = 0.0"
   ]
  },
  {
   "cell_type": "code",
   "execution_count": 79,
   "id": "f7522c1a",
   "metadata": {
    "tags": []
   },
   "outputs": [],
   "source": [
    "df_concat.loc[(df_concat['Technology Type'].isna()) &  \n",
    "              (df_concat['Program Main Category Code'] == 'PCRF') &  \n",
    "              (df_concat['Program Sub Category Code'] == 'PCRF'), 'Technology Type'] = 0.0"
   ]
  },
  {
   "cell_type": "code",
   "execution_count": 80,
   "id": "01de3587",
   "metadata": {
    "tags": []
   },
   "outputs": [],
   "source": [
    "df_concat.loc[(df_concat['Technology Type'].isna()) &  \n",
    "              (df_concat['Program Main Category Code'] == 'TOSL') &  \n",
    "              (df_concat['Program Sub Category Code'] == 'TOSL'), 'Technology Type'] = 0.0"
   ]
  },
  {
   "cell_type": "code",
   "execution_count": 81,
   "id": "41f79759",
   "metadata": {
    "tags": []
   },
   "outputs": [],
   "source": [
    "# QWLM - SWPS has no technology type - will impute with most frequent overall\n",
    "df_concat.loc[(df_concat['Technology Type'].isna()) &  \n",
    "              (df_concat['Program Main Category Code'] == 'QWLM') &  \n",
    "              (df_concat['Program Sub Category Code'] == 'SWPS'), 'Technology Type'] = 0.0"
   ]
  },
  {
   "cell_type": "markdown",
   "id": "9982012f",
   "metadata": {},
   "source": [
    "#### **Imputing Program Skill Level**"
   ]
  },
  {
   "cell_type": "code",
   "execution_count": 82,
   "id": "dc9a9037",
   "metadata": {
    "tags": []
   },
   "outputs": [
    {
     "data": {
      "text/plain": [
       "2.0    2416\n",
       "0.0    2320\n",
       "1.0     784\n",
       "Name: Program Skill Level, dtype: int64"
      ]
     },
     "execution_count": 82,
     "metadata": {},
     "output_type": "execute_result"
    }
   ],
   "source": [
    "df_concat['Program Skill Level'].value_counts()"
   ]
  },
  {
   "cell_type": "markdown",
   "id": "47042855",
   "metadata": {},
   "source": [
    "As all program skill levels who are NaN are not represented by any Program ID whose skill level we can match, we will use the category codes to infer skill level"
   ]
  },
  {
   "cell_type": "code",
   "execution_count": 83,
   "id": "c4100b9e",
   "metadata": {
    "tags": []
   },
   "outputs": [
    {
     "data": {
      "text/plain": [
       "109.0    53\n",
       "154.0    52\n",
       "93.0     51\n",
       "43.0     48\n",
       "132.0    47\n",
       "         ..\n",
       "217.0    16\n",
       "131.0    16\n",
       "155.0    15\n",
       "16.0     11\n",
       "200.0    10\n",
       "Name: Program ID, Length: 73, dtype: int64"
      ]
     },
     "execution_count": 83,
     "metadata": {},
     "output_type": "execute_result"
    }
   ],
   "source": [
    "df_concat[df_concat['Program Skill Level'].isna()]['Program ID'].value_counts()"
   ]
  },
  {
   "cell_type": "code",
   "execution_count": 84,
   "id": "c9fcfbe5",
   "metadata": {
    "tags": []
   },
   "outputs": [],
   "source": [
    "prog_skill = df_concat.groupby(['Program Main Category Code','Program Sub Category Code'])['Program Skill Level']"
   ]
  },
  {
   "cell_type": "code",
   "execution_count": 85,
   "id": "9385dbea",
   "metadata": {
    "tags": []
   },
   "outputs": [],
   "source": [
    "def get_skill(row):\n",
    "    pmcc = row['Program Main Category Code']\n",
    "    pscc = row['Program Sub Category Code']\n",
    "    imputed_skill = prog_skill.get_group((pmcc, pscc)).dropna().values[0]\n",
    "    return imputed_skill                                  "
   ]
  },
  {
   "cell_type": "code",
   "execution_count": 86,
   "id": "a41d493c",
   "metadata": {
    "tags": []
   },
   "outputs": [],
   "source": [
    "# Applying function to our dataset\n",
    "df_concat['Program Skill Level'] = df_concat.apply(get_skill, axis=1)"
   ]
  },
  {
   "cell_type": "markdown",
   "id": "441cc0a2",
   "metadata": {},
   "source": [
    "#### **Creating feature based on applications made for same code**"
   ]
  },
  {
   "cell_type": "code",
   "execution_count": 87,
   "id": "ef185659",
   "metadata": {
    "tags": []
   },
   "outputs": [
    {
     "data": {
      "text/html": [
       "<div>\n",
       "<style scoped>\n",
       "    .dataframe tbody tr th:only-of-type {\n",
       "        vertical-align: middle;\n",
       "    }\n",
       "\n",
       "    .dataframe tbody tr th {\n",
       "        vertical-align: top;\n",
       "    }\n",
       "\n",
       "    .dataframe thead th {\n",
       "        text-align: right;\n",
       "    }\n",
       "</style>\n",
       "<table border=\"1\" class=\"dataframe\">\n",
       "  <thead>\n",
       "    <tr style=\"text-align: right;\">\n",
       "      <th></th>\n",
       "      <th>Student ID</th>\n",
       "      <th>Age</th>\n",
       "      <th>Gender</th>\n",
       "      <th>Home Region</th>\n",
       "      <th>Home City</th>\n",
       "      <th>Program ID</th>\n",
       "      <th>Program Main Category Code</th>\n",
       "      <th>Program Sub Category Code</th>\n",
       "      <th>Technology Type</th>\n",
       "      <th>Program Skill Level</th>\n",
       "      <th>Program Presentation Method</th>\n",
       "      <th>Program Days</th>\n",
       "      <th>Completed Degree</th>\n",
       "      <th>Level of Education</th>\n",
       "      <th>Employment Status</th>\n",
       "      <th>Y</th>\n",
       "      <th>PCRF</th>\n",
       "      <th>GRST</th>\n",
       "      <th>CAUF</th>\n",
       "      <th>INFA</th>\n",
       "      <th>ABIR</th>\n",
       "      <th>SERU</th>\n",
       "      <th>TOSL</th>\n",
       "      <th>APMR</th>\n",
       "      <th>DTFH</th>\n",
       "      <th>QWLM</th>\n",
       "      <th>N/A</th>\n",
       "      <th>Total Regestration</th>\n",
       "      <th>Types_courses</th>\n",
       "      <th>train</th>\n",
       "      <th>start_day</th>\n",
       "      <th>start_month</th>\n",
       "      <th>start_year</th>\n",
       "      <th>Start_Quarter</th>\n",
       "      <th>Start_weekday</th>\n",
       "      <th>end_day</th>\n",
       "      <th>end_month</th>\n",
       "      <th>end_year</th>\n",
       "      <th>end_Quarter</th>\n",
       "      <th>end_weekday</th>\n",
       "      <th>Normalized Uni Score</th>\n",
       "    </tr>\n",
       "  </thead>\n",
       "  <tbody>\n",
       "    <tr>\n",
       "      <th>0</th>\n",
       "      <td>4f14c50d-162e-4a15-9cf0-ec129c33bcf0</td>\n",
       "      <td>37.0</td>\n",
       "      <td>1.0</td>\n",
       "      <td>4.0</td>\n",
       "      <td>24.0</td>\n",
       "      <td>65.0</td>\n",
       "      <td>PCRF</td>\n",
       "      <td>PCRF</td>\n",
       "      <td>0.0</td>\n",
       "      <td>0.0</td>\n",
       "      <td>0.0</td>\n",
       "      <td>12</td>\n",
       "      <td>1.0</td>\n",
       "      <td>0.0</td>\n",
       "      <td>3.0</td>\n",
       "      <td>0.0</td>\n",
       "      <td>4</td>\n",
       "      <td>0</td>\n",
       "      <td>0</td>\n",
       "      <td>0</td>\n",
       "      <td>0</td>\n",
       "      <td>0</td>\n",
       "      <td>0</td>\n",
       "      <td>0</td>\n",
       "      <td>0</td>\n",
       "      <td>0</td>\n",
       "      <td>0</td>\n",
       "      <td>4</td>\n",
       "      <td>1</td>\n",
       "      <td>1</td>\n",
       "      <td>28</td>\n",
       "      <td>5</td>\n",
       "      <td>2023</td>\n",
       "      <td>2</td>\n",
       "      <td>6</td>\n",
       "      <td>8</td>\n",
       "      <td>6</td>\n",
       "      <td>2023</td>\n",
       "      <td>2</td>\n",
       "      <td>3</td>\n",
       "      <td>0.61</td>\n",
       "    </tr>\n",
       "    <tr>\n",
       "      <th>1</th>\n",
       "      <td>0599d409-876b-41a5-af05-749ef0e77d32</td>\n",
       "      <td>21.0</td>\n",
       "      <td>1.0</td>\n",
       "      <td>10.0</td>\n",
       "      <td>66.0</td>\n",
       "      <td>180.0</td>\n",
       "      <td>APMR</td>\n",
       "      <td>SWPS</td>\n",
       "      <td>0.0</td>\n",
       "      <td>2.0</td>\n",
       "      <td>0.0</td>\n",
       "      <td>5</td>\n",
       "      <td>1.0</td>\n",
       "      <td>0.0</td>\n",
       "      <td>1.0</td>\n",
       "      <td>0.0</td>\n",
       "      <td>3</td>\n",
       "      <td>0</td>\n",
       "      <td>6</td>\n",
       "      <td>0</td>\n",
       "      <td>0</td>\n",
       "      <td>1</td>\n",
       "      <td>0</td>\n",
       "      <td>4</td>\n",
       "      <td>0</td>\n",
       "      <td>0</td>\n",
       "      <td>1</td>\n",
       "      <td>15</td>\n",
       "      <td>5</td>\n",
       "      <td>1</td>\n",
       "      <td>2</td>\n",
       "      <td>4</td>\n",
       "      <td>2023</td>\n",
       "      <td>2</td>\n",
       "      <td>6</td>\n",
       "      <td>6</td>\n",
       "      <td>4</td>\n",
       "      <td>2023</td>\n",
       "      <td>2</td>\n",
       "      <td>3</td>\n",
       "      <td>1.00</td>\n",
       "    </tr>\n",
       "    <tr>\n",
       "      <th>2</th>\n",
       "      <td>38a11c0e-4afc-4261-9c64-e94cc0a272fb</td>\n",
       "      <td>24.0</td>\n",
       "      <td>1.0</td>\n",
       "      <td>4.0</td>\n",
       "      <td>24.0</td>\n",
       "      <td>197.0</td>\n",
       "      <td>APMR</td>\n",
       "      <td>SRTA</td>\n",
       "      <td>0.0</td>\n",
       "      <td>2.0</td>\n",
       "      <td>0.0</td>\n",
       "      <td>54</td>\n",
       "      <td>1.0</td>\n",
       "      <td>0.0</td>\n",
       "      <td>4.0</td>\n",
       "      <td>0.0</td>\n",
       "      <td>4</td>\n",
       "      <td>1</td>\n",
       "      <td>7</td>\n",
       "      <td>1</td>\n",
       "      <td>0</td>\n",
       "      <td>0</td>\n",
       "      <td>0</td>\n",
       "      <td>0</td>\n",
       "      <td>0</td>\n",
       "      <td>0</td>\n",
       "      <td>0</td>\n",
       "      <td>13</td>\n",
       "      <td>4</td>\n",
       "      <td>1</td>\n",
       "      <td>23</td>\n",
       "      <td>7</td>\n",
       "      <td>2023</td>\n",
       "      <td>3</td>\n",
       "      <td>6</td>\n",
       "      <td>14</td>\n",
       "      <td>9</td>\n",
       "      <td>2023</td>\n",
       "      <td>3</td>\n",
       "      <td>3</td>\n",
       "      <td>0.70</td>\n",
       "    </tr>\n",
       "    <tr>\n",
       "      <th>3</th>\n",
       "      <td>1693e85b-f80e-40ce-846f-395ddcece6d3</td>\n",
       "      <td>23.0</td>\n",
       "      <td>1.0</td>\n",
       "      <td>4.0</td>\n",
       "      <td>24.0</td>\n",
       "      <td>43.0</td>\n",
       "      <td>TOSL</td>\n",
       "      <td>TOSL</td>\n",
       "      <td>0.0</td>\n",
       "      <td>1.0</td>\n",
       "      <td>0.0</td>\n",
       "      <td>33</td>\n",
       "      <td>1.0</td>\n",
       "      <td>0.0</td>\n",
       "      <td>0.0</td>\n",
       "      <td>0.0</td>\n",
       "      <td>4</td>\n",
       "      <td>0</td>\n",
       "      <td>0</td>\n",
       "      <td>2</td>\n",
       "      <td>0</td>\n",
       "      <td>0</td>\n",
       "      <td>0</td>\n",
       "      <td>0</td>\n",
       "      <td>0</td>\n",
       "      <td>0</td>\n",
       "      <td>0</td>\n",
       "      <td>6</td>\n",
       "      <td>2</td>\n",
       "      <td>1</td>\n",
       "      <td>23</td>\n",
       "      <td>7</td>\n",
       "      <td>2023</td>\n",
       "      <td>3</td>\n",
       "      <td>6</td>\n",
       "      <td>24</td>\n",
       "      <td>8</td>\n",
       "      <td>2023</td>\n",
       "      <td>3</td>\n",
       "      <td>3</td>\n",
       "      <td>0.71</td>\n",
       "    </tr>\n",
       "    <tr>\n",
       "      <th>4</th>\n",
       "      <td>98a0e8d0-5f80-4634-afd8-322aa0902863</td>\n",
       "      <td>23.0</td>\n",
       "      <td>1.0</td>\n",
       "      <td>4.0</td>\n",
       "      <td>24.0</td>\n",
       "      <td>188.0</td>\n",
       "      <td>CAUF</td>\n",
       "      <td>SWPS</td>\n",
       "      <td>0.0</td>\n",
       "      <td>2.0</td>\n",
       "      <td>0.0</td>\n",
       "      <td>54</td>\n",
       "      <td>0.0</td>\n",
       "      <td>0.0</td>\n",
       "      <td>4.0</td>\n",
       "      <td>0.0</td>\n",
       "      <td>0</td>\n",
       "      <td>0</td>\n",
       "      <td>4</td>\n",
       "      <td>0</td>\n",
       "      <td>0</td>\n",
       "      <td>0</td>\n",
       "      <td>0</td>\n",
       "      <td>3</td>\n",
       "      <td>0</td>\n",
       "      <td>0</td>\n",
       "      <td>3</td>\n",
       "      <td>10</td>\n",
       "      <td>3</td>\n",
       "      <td>1</td>\n",
       "      <td>30</td>\n",
       "      <td>4</td>\n",
       "      <td>2023</td>\n",
       "      <td>2</td>\n",
       "      <td>6</td>\n",
       "      <td>22</td>\n",
       "      <td>6</td>\n",
       "      <td>2023</td>\n",
       "      <td>2</td>\n",
       "      <td>3</td>\n",
       "      <td>0.80</td>\n",
       "    </tr>\n",
       "  </tbody>\n",
       "</table>\n",
       "</div>"
      ],
      "text/plain": [
       "                             Student ID   Age  Gender  Home Region  Home City  \\\n",
       "0  4f14c50d-162e-4a15-9cf0-ec129c33bcf0  37.0     1.0          4.0       24.0   \n",
       "1  0599d409-876b-41a5-af05-749ef0e77d32  21.0     1.0         10.0       66.0   \n",
       "2  38a11c0e-4afc-4261-9c64-e94cc0a272fb  24.0     1.0          4.0       24.0   \n",
       "3  1693e85b-f80e-40ce-846f-395ddcece6d3  23.0     1.0          4.0       24.0   \n",
       "4  98a0e8d0-5f80-4634-afd8-322aa0902863  23.0     1.0          4.0       24.0   \n",
       "\n",
       "   Program ID Program Main Category Code Program Sub Category Code  \\\n",
       "0        65.0                       PCRF                      PCRF   \n",
       "1       180.0                       APMR                      SWPS   \n",
       "2       197.0                       APMR                      SRTA   \n",
       "3        43.0                       TOSL                      TOSL   \n",
       "4       188.0                       CAUF                      SWPS   \n",
       "\n",
       "   Technology Type  Program Skill Level  Program Presentation Method  \\\n",
       "0              0.0                  0.0                          0.0   \n",
       "1              0.0                  2.0                          0.0   \n",
       "2              0.0                  2.0                          0.0   \n",
       "3              0.0                  1.0                          0.0   \n",
       "4              0.0                  2.0                          0.0   \n",
       "\n",
       "   Program Days  Completed Degree  Level of Education  Employment Status    Y  \\\n",
       "0            12               1.0                 0.0                3.0  0.0   \n",
       "1             5               1.0                 0.0                1.0  0.0   \n",
       "2            54               1.0                 0.0                4.0  0.0   \n",
       "3            33               1.0                 0.0                0.0  0.0   \n",
       "4            54               0.0                 0.0                4.0  0.0   \n",
       "\n",
       "   PCRF  GRST  CAUF  INFA  ABIR  SERU  TOSL  APMR  DTFH  QWLM  N/A  \\\n",
       "0     4     0     0     0     0     0     0     0     0     0    0   \n",
       "1     3     0     6     0     0     1     0     4     0     0    1   \n",
       "2     4     1     7     1     0     0     0     0     0     0    0   \n",
       "3     4     0     0     2     0     0     0     0     0     0    0   \n",
       "4     0     0     4     0     0     0     0     3     0     0    3   \n",
       "\n",
       "   Total Regestration  Types_courses  train  start_day  start_month  \\\n",
       "0                   4              1      1         28            5   \n",
       "1                  15              5      1          2            4   \n",
       "2                  13              4      1         23            7   \n",
       "3                   6              2      1         23            7   \n",
       "4                  10              3      1         30            4   \n",
       "\n",
       "   start_year  Start_Quarter  Start_weekday  end_day  end_month  end_year  \\\n",
       "0        2023              2              6        8          6      2023   \n",
       "1        2023              2              6        6          4      2023   \n",
       "2        2023              3              6       14          9      2023   \n",
       "3        2023              3              6       24          8      2023   \n",
       "4        2023              2              6       22          6      2023   \n",
       "\n",
       "   end_Quarter  end_weekday  Normalized Uni Score  \n",
       "0            2            3                  0.61  \n",
       "1            2            3                  1.00  \n",
       "2            3            3                  0.70  \n",
       "3            3            3                  0.71  \n",
       "4            2            3                  0.80  "
      ]
     },
     "execution_count": 87,
     "metadata": {},
     "output_type": "execute_result"
    }
   ],
   "source": [
    "df_concat.head()"
   ]
  },
  {
   "cell_type": "code",
   "execution_count": 88,
   "id": "488ecbe8",
   "metadata": {
    "tags": []
   },
   "outputs": [],
   "source": [
    "df_concat['already_applied'] = np.nan"
   ]
  },
  {
   "cell_type": "code",
   "execution_count": 89,
   "id": "f5339f80",
   "metadata": {
    "tags": []
   },
   "outputs": [],
   "source": [
    "def apply_values(df):\n",
    "    # Extract the column names from 'Program Main Category Code' column\n",
    "    categories = df['Program Main Category Code'].unique()\n",
    "\n",
    "    # Iterate over each category\n",
    "    for category in categories:\n",
    "        # Get the column name based on the category\n",
    "        column_name = df[category]\n",
    "\n",
    "        # Update 'already_applied' column where 'Program Main Category Code' matches the category\n",
    "        df.loc[df['Program Main Category Code'] == category, 'already_applied'] = column_name\n",
    "        \n",
    "    return df\n"
   ]
  },
  {
   "cell_type": "code",
   "execution_count": 90,
   "id": "421e4771",
   "metadata": {
    "tags": []
   },
   "outputs": [],
   "source": [
    "df_concat.reset_index(drop=True, inplace=True)"
   ]
  },
  {
   "cell_type": "code",
   "execution_count": 91,
   "id": "756cb616",
   "metadata": {
    "tags": []
   },
   "outputs": [],
   "source": [
    "df_concat = apply_values(df_concat)"
   ]
  },
  {
   "cell_type": "code",
   "execution_count": 92,
   "id": "fdc0ef58",
   "metadata": {
    "tags": []
   },
   "outputs": [
    {
     "data": {
      "text/html": [
       "<div>\n",
       "<style scoped>\n",
       "    .dataframe tbody tr th:only-of-type {\n",
       "        vertical-align: middle;\n",
       "    }\n",
       "\n",
       "    .dataframe tbody tr th {\n",
       "        vertical-align: top;\n",
       "    }\n",
       "\n",
       "    .dataframe thead th {\n",
       "        text-align: right;\n",
       "    }\n",
       "</style>\n",
       "<table border=\"1\" class=\"dataframe\">\n",
       "  <thead>\n",
       "    <tr style=\"text-align: right;\">\n",
       "      <th></th>\n",
       "      <th>Student ID</th>\n",
       "      <th>Age</th>\n",
       "      <th>Gender</th>\n",
       "      <th>Home Region</th>\n",
       "      <th>Home City</th>\n",
       "      <th>Program ID</th>\n",
       "      <th>Program Main Category Code</th>\n",
       "      <th>Program Sub Category Code</th>\n",
       "      <th>Technology Type</th>\n",
       "      <th>Program Skill Level</th>\n",
       "      <th>Program Presentation Method</th>\n",
       "      <th>Program Days</th>\n",
       "      <th>Completed Degree</th>\n",
       "      <th>Level of Education</th>\n",
       "      <th>Employment Status</th>\n",
       "      <th>Y</th>\n",
       "      <th>PCRF</th>\n",
       "      <th>GRST</th>\n",
       "      <th>CAUF</th>\n",
       "      <th>INFA</th>\n",
       "      <th>ABIR</th>\n",
       "      <th>SERU</th>\n",
       "      <th>TOSL</th>\n",
       "      <th>APMR</th>\n",
       "      <th>DTFH</th>\n",
       "      <th>QWLM</th>\n",
       "      <th>N/A</th>\n",
       "      <th>Total Regestration</th>\n",
       "      <th>Types_courses</th>\n",
       "      <th>train</th>\n",
       "      <th>start_day</th>\n",
       "      <th>start_month</th>\n",
       "      <th>start_year</th>\n",
       "      <th>Start_Quarter</th>\n",
       "      <th>Start_weekday</th>\n",
       "      <th>end_day</th>\n",
       "      <th>end_month</th>\n",
       "      <th>end_year</th>\n",
       "      <th>end_Quarter</th>\n",
       "      <th>end_weekday</th>\n",
       "      <th>Normalized Uni Score</th>\n",
       "      <th>already_applied</th>\n",
       "    </tr>\n",
       "  </thead>\n",
       "  <tbody>\n",
       "    <tr>\n",
       "      <th>0</th>\n",
       "      <td>4f14c50d-162e-4a15-9cf0-ec129c33bcf0</td>\n",
       "      <td>37.0</td>\n",
       "      <td>1.0</td>\n",
       "      <td>4.0</td>\n",
       "      <td>24.0</td>\n",
       "      <td>65.0</td>\n",
       "      <td>PCRF</td>\n",
       "      <td>PCRF</td>\n",
       "      <td>0.0</td>\n",
       "      <td>0.0</td>\n",
       "      <td>0.0</td>\n",
       "      <td>12</td>\n",
       "      <td>1.0</td>\n",
       "      <td>0.0</td>\n",
       "      <td>3.0</td>\n",
       "      <td>0.0</td>\n",
       "      <td>4</td>\n",
       "      <td>0</td>\n",
       "      <td>0</td>\n",
       "      <td>0</td>\n",
       "      <td>0</td>\n",
       "      <td>0</td>\n",
       "      <td>0</td>\n",
       "      <td>0</td>\n",
       "      <td>0</td>\n",
       "      <td>0</td>\n",
       "      <td>0</td>\n",
       "      <td>4</td>\n",
       "      <td>1</td>\n",
       "      <td>1</td>\n",
       "      <td>28</td>\n",
       "      <td>5</td>\n",
       "      <td>2023</td>\n",
       "      <td>2</td>\n",
       "      <td>6</td>\n",
       "      <td>8</td>\n",
       "      <td>6</td>\n",
       "      <td>2023</td>\n",
       "      <td>2</td>\n",
       "      <td>3</td>\n",
       "      <td>0.61</td>\n",
       "      <td>4.0</td>\n",
       "    </tr>\n",
       "    <tr>\n",
       "      <th>1</th>\n",
       "      <td>0599d409-876b-41a5-af05-749ef0e77d32</td>\n",
       "      <td>21.0</td>\n",
       "      <td>1.0</td>\n",
       "      <td>10.0</td>\n",
       "      <td>66.0</td>\n",
       "      <td>180.0</td>\n",
       "      <td>APMR</td>\n",
       "      <td>SWPS</td>\n",
       "      <td>0.0</td>\n",
       "      <td>2.0</td>\n",
       "      <td>0.0</td>\n",
       "      <td>5</td>\n",
       "      <td>1.0</td>\n",
       "      <td>0.0</td>\n",
       "      <td>1.0</td>\n",
       "      <td>0.0</td>\n",
       "      <td>3</td>\n",
       "      <td>0</td>\n",
       "      <td>6</td>\n",
       "      <td>0</td>\n",
       "      <td>0</td>\n",
       "      <td>1</td>\n",
       "      <td>0</td>\n",
       "      <td>4</td>\n",
       "      <td>0</td>\n",
       "      <td>0</td>\n",
       "      <td>1</td>\n",
       "      <td>15</td>\n",
       "      <td>5</td>\n",
       "      <td>1</td>\n",
       "      <td>2</td>\n",
       "      <td>4</td>\n",
       "      <td>2023</td>\n",
       "      <td>2</td>\n",
       "      <td>6</td>\n",
       "      <td>6</td>\n",
       "      <td>4</td>\n",
       "      <td>2023</td>\n",
       "      <td>2</td>\n",
       "      <td>3</td>\n",
       "      <td>1.00</td>\n",
       "      <td>4.0</td>\n",
       "    </tr>\n",
       "    <tr>\n",
       "      <th>2</th>\n",
       "      <td>38a11c0e-4afc-4261-9c64-e94cc0a272fb</td>\n",
       "      <td>24.0</td>\n",
       "      <td>1.0</td>\n",
       "      <td>4.0</td>\n",
       "      <td>24.0</td>\n",
       "      <td>197.0</td>\n",
       "      <td>APMR</td>\n",
       "      <td>SRTA</td>\n",
       "      <td>0.0</td>\n",
       "      <td>2.0</td>\n",
       "      <td>0.0</td>\n",
       "      <td>54</td>\n",
       "      <td>1.0</td>\n",
       "      <td>0.0</td>\n",
       "      <td>4.0</td>\n",
       "      <td>0.0</td>\n",
       "      <td>4</td>\n",
       "      <td>1</td>\n",
       "      <td>7</td>\n",
       "      <td>1</td>\n",
       "      <td>0</td>\n",
       "      <td>0</td>\n",
       "      <td>0</td>\n",
       "      <td>0</td>\n",
       "      <td>0</td>\n",
       "      <td>0</td>\n",
       "      <td>0</td>\n",
       "      <td>13</td>\n",
       "      <td>4</td>\n",
       "      <td>1</td>\n",
       "      <td>23</td>\n",
       "      <td>7</td>\n",
       "      <td>2023</td>\n",
       "      <td>3</td>\n",
       "      <td>6</td>\n",
       "      <td>14</td>\n",
       "      <td>9</td>\n",
       "      <td>2023</td>\n",
       "      <td>3</td>\n",
       "      <td>3</td>\n",
       "      <td>0.70</td>\n",
       "      <td>0.0</td>\n",
       "    </tr>\n",
       "    <tr>\n",
       "      <th>3</th>\n",
       "      <td>1693e85b-f80e-40ce-846f-395ddcece6d3</td>\n",
       "      <td>23.0</td>\n",
       "      <td>1.0</td>\n",
       "      <td>4.0</td>\n",
       "      <td>24.0</td>\n",
       "      <td>43.0</td>\n",
       "      <td>TOSL</td>\n",
       "      <td>TOSL</td>\n",
       "      <td>0.0</td>\n",
       "      <td>1.0</td>\n",
       "      <td>0.0</td>\n",
       "      <td>33</td>\n",
       "      <td>1.0</td>\n",
       "      <td>0.0</td>\n",
       "      <td>0.0</td>\n",
       "      <td>0.0</td>\n",
       "      <td>4</td>\n",
       "      <td>0</td>\n",
       "      <td>0</td>\n",
       "      <td>2</td>\n",
       "      <td>0</td>\n",
       "      <td>0</td>\n",
       "      <td>0</td>\n",
       "      <td>0</td>\n",
       "      <td>0</td>\n",
       "      <td>0</td>\n",
       "      <td>0</td>\n",
       "      <td>6</td>\n",
       "      <td>2</td>\n",
       "      <td>1</td>\n",
       "      <td>23</td>\n",
       "      <td>7</td>\n",
       "      <td>2023</td>\n",
       "      <td>3</td>\n",
       "      <td>6</td>\n",
       "      <td>24</td>\n",
       "      <td>8</td>\n",
       "      <td>2023</td>\n",
       "      <td>3</td>\n",
       "      <td>3</td>\n",
       "      <td>0.71</td>\n",
       "      <td>0.0</td>\n",
       "    </tr>\n",
       "    <tr>\n",
       "      <th>4</th>\n",
       "      <td>98a0e8d0-5f80-4634-afd8-322aa0902863</td>\n",
       "      <td>23.0</td>\n",
       "      <td>1.0</td>\n",
       "      <td>4.0</td>\n",
       "      <td>24.0</td>\n",
       "      <td>188.0</td>\n",
       "      <td>CAUF</td>\n",
       "      <td>SWPS</td>\n",
       "      <td>0.0</td>\n",
       "      <td>2.0</td>\n",
       "      <td>0.0</td>\n",
       "      <td>54</td>\n",
       "      <td>0.0</td>\n",
       "      <td>0.0</td>\n",
       "      <td>4.0</td>\n",
       "      <td>0.0</td>\n",
       "      <td>0</td>\n",
       "      <td>0</td>\n",
       "      <td>4</td>\n",
       "      <td>0</td>\n",
       "      <td>0</td>\n",
       "      <td>0</td>\n",
       "      <td>0</td>\n",
       "      <td>3</td>\n",
       "      <td>0</td>\n",
       "      <td>0</td>\n",
       "      <td>3</td>\n",
       "      <td>10</td>\n",
       "      <td>3</td>\n",
       "      <td>1</td>\n",
       "      <td>30</td>\n",
       "      <td>4</td>\n",
       "      <td>2023</td>\n",
       "      <td>2</td>\n",
       "      <td>6</td>\n",
       "      <td>22</td>\n",
       "      <td>6</td>\n",
       "      <td>2023</td>\n",
       "      <td>2</td>\n",
       "      <td>3</td>\n",
       "      <td>0.80</td>\n",
       "      <td>4.0</td>\n",
       "    </tr>\n",
       "  </tbody>\n",
       "</table>\n",
       "</div>"
      ],
      "text/plain": [
       "                             Student ID   Age  Gender  Home Region  Home City  \\\n",
       "0  4f14c50d-162e-4a15-9cf0-ec129c33bcf0  37.0     1.0          4.0       24.0   \n",
       "1  0599d409-876b-41a5-af05-749ef0e77d32  21.0     1.0         10.0       66.0   \n",
       "2  38a11c0e-4afc-4261-9c64-e94cc0a272fb  24.0     1.0          4.0       24.0   \n",
       "3  1693e85b-f80e-40ce-846f-395ddcece6d3  23.0     1.0          4.0       24.0   \n",
       "4  98a0e8d0-5f80-4634-afd8-322aa0902863  23.0     1.0          4.0       24.0   \n",
       "\n",
       "   Program ID Program Main Category Code Program Sub Category Code  \\\n",
       "0        65.0                       PCRF                      PCRF   \n",
       "1       180.0                       APMR                      SWPS   \n",
       "2       197.0                       APMR                      SRTA   \n",
       "3        43.0                       TOSL                      TOSL   \n",
       "4       188.0                       CAUF                      SWPS   \n",
       "\n",
       "   Technology Type  Program Skill Level  Program Presentation Method  \\\n",
       "0              0.0                  0.0                          0.0   \n",
       "1              0.0                  2.0                          0.0   \n",
       "2              0.0                  2.0                          0.0   \n",
       "3              0.0                  1.0                          0.0   \n",
       "4              0.0                  2.0                          0.0   \n",
       "\n",
       "   Program Days  Completed Degree  Level of Education  Employment Status    Y  \\\n",
       "0            12               1.0                 0.0                3.0  0.0   \n",
       "1             5               1.0                 0.0                1.0  0.0   \n",
       "2            54               1.0                 0.0                4.0  0.0   \n",
       "3            33               1.0                 0.0                0.0  0.0   \n",
       "4            54               0.0                 0.0                4.0  0.0   \n",
       "\n",
       "   PCRF  GRST  CAUF  INFA  ABIR  SERU  TOSL  APMR  DTFH  QWLM  N/A  \\\n",
       "0     4     0     0     0     0     0     0     0     0     0    0   \n",
       "1     3     0     6     0     0     1     0     4     0     0    1   \n",
       "2     4     1     7     1     0     0     0     0     0     0    0   \n",
       "3     4     0     0     2     0     0     0     0     0     0    0   \n",
       "4     0     0     4     0     0     0     0     3     0     0    3   \n",
       "\n",
       "   Total Regestration  Types_courses  train  start_day  start_month  \\\n",
       "0                   4              1      1         28            5   \n",
       "1                  15              5      1          2            4   \n",
       "2                  13              4      1         23            7   \n",
       "3                   6              2      1         23            7   \n",
       "4                  10              3      1         30            4   \n",
       "\n",
       "   start_year  Start_Quarter  Start_weekday  end_day  end_month  end_year  \\\n",
       "0        2023              2              6        8          6      2023   \n",
       "1        2023              2              6        6          4      2023   \n",
       "2        2023              3              6       14          9      2023   \n",
       "3        2023              3              6       24          8      2023   \n",
       "4        2023              2              6       22          6      2023   \n",
       "\n",
       "   end_Quarter  end_weekday  Normalized Uni Score  already_applied  \n",
       "0            2            3                  0.61              4.0  \n",
       "1            2            3                  1.00              4.0  \n",
       "2            3            3                  0.70              0.0  \n",
       "3            3            3                  0.71              0.0  \n",
       "4            2            3                  0.80              4.0  "
      ]
     },
     "execution_count": 92,
     "metadata": {},
     "output_type": "execute_result"
    }
   ],
   "source": [
    "df_concat.head()"
   ]
  },
  {
   "cell_type": "code",
   "execution_count": 93,
   "id": "dc6819e6",
   "metadata": {
    "tags": []
   },
   "outputs": [],
   "source": [
    "df_concat.drop(['PCRF', 'GRST', 'CAUF', 'INFA', 'ABIR', 'SERU', 'TOSL', 'APMR', 'DTFH', 'QWLM', 'N/A'], axis=1, inplace=True)"
   ]
  },
  {
   "cell_type": "markdown",
   "id": "8d2d31a5",
   "metadata": {},
   "source": [
    "#### **Combining Program codes**"
   ]
  },
  {
   "cell_type": "code",
   "execution_count": 94,
   "id": "884cfdd0",
   "metadata": {
    "tags": []
   },
   "outputs": [
    {
     "data": {
      "text/html": [
       "<div>\n",
       "<style scoped>\n",
       "    .dataframe tbody tr th:only-of-type {\n",
       "        vertical-align: middle;\n",
       "    }\n",
       "\n",
       "    .dataframe tbody tr th {\n",
       "        vertical-align: top;\n",
       "    }\n",
       "\n",
       "    .dataframe thead th {\n",
       "        text-align: right;\n",
       "    }\n",
       "</style>\n",
       "<table border=\"1\" class=\"dataframe\">\n",
       "  <thead>\n",
       "    <tr style=\"text-align: right;\">\n",
       "      <th></th>\n",
       "      <th>Student ID</th>\n",
       "      <th>Age</th>\n",
       "      <th>Gender</th>\n",
       "      <th>Home Region</th>\n",
       "      <th>Home City</th>\n",
       "      <th>Program ID</th>\n",
       "      <th>Program Main Category Code</th>\n",
       "      <th>Program Sub Category Code</th>\n",
       "      <th>Technology Type</th>\n",
       "      <th>Program Skill Level</th>\n",
       "      <th>Program Presentation Method</th>\n",
       "      <th>Program Days</th>\n",
       "      <th>Completed Degree</th>\n",
       "      <th>Level of Education</th>\n",
       "      <th>Employment Status</th>\n",
       "      <th>Y</th>\n",
       "      <th>Total Regestration</th>\n",
       "      <th>Types_courses</th>\n",
       "      <th>train</th>\n",
       "      <th>start_day</th>\n",
       "      <th>start_month</th>\n",
       "      <th>start_year</th>\n",
       "      <th>Start_Quarter</th>\n",
       "      <th>Start_weekday</th>\n",
       "      <th>end_day</th>\n",
       "      <th>end_month</th>\n",
       "      <th>end_year</th>\n",
       "      <th>end_Quarter</th>\n",
       "      <th>end_weekday</th>\n",
       "      <th>Normalized Uni Score</th>\n",
       "      <th>already_applied</th>\n",
       "    </tr>\n",
       "  </thead>\n",
       "  <tbody>\n",
       "    <tr>\n",
       "      <th>0</th>\n",
       "      <td>4f14c50d-162e-4a15-9cf0-ec129c33bcf0</td>\n",
       "      <td>37.0</td>\n",
       "      <td>1.0</td>\n",
       "      <td>4.0</td>\n",
       "      <td>24.0</td>\n",
       "      <td>65.0</td>\n",
       "      <td>PCRF</td>\n",
       "      <td>PCRF</td>\n",
       "      <td>0.0</td>\n",
       "      <td>0.0</td>\n",
       "      <td>0.0</td>\n",
       "      <td>12</td>\n",
       "      <td>1.0</td>\n",
       "      <td>0.0</td>\n",
       "      <td>3.0</td>\n",
       "      <td>0.0</td>\n",
       "      <td>4</td>\n",
       "      <td>1</td>\n",
       "      <td>1</td>\n",
       "      <td>28</td>\n",
       "      <td>5</td>\n",
       "      <td>2023</td>\n",
       "      <td>2</td>\n",
       "      <td>6</td>\n",
       "      <td>8</td>\n",
       "      <td>6</td>\n",
       "      <td>2023</td>\n",
       "      <td>2</td>\n",
       "      <td>3</td>\n",
       "      <td>0.61</td>\n",
       "      <td>4.0</td>\n",
       "    </tr>\n",
       "    <tr>\n",
       "      <th>1</th>\n",
       "      <td>0599d409-876b-41a5-af05-749ef0e77d32</td>\n",
       "      <td>21.0</td>\n",
       "      <td>1.0</td>\n",
       "      <td>10.0</td>\n",
       "      <td>66.0</td>\n",
       "      <td>180.0</td>\n",
       "      <td>APMR</td>\n",
       "      <td>SWPS</td>\n",
       "      <td>0.0</td>\n",
       "      <td>2.0</td>\n",
       "      <td>0.0</td>\n",
       "      <td>5</td>\n",
       "      <td>1.0</td>\n",
       "      <td>0.0</td>\n",
       "      <td>1.0</td>\n",
       "      <td>0.0</td>\n",
       "      <td>15</td>\n",
       "      <td>5</td>\n",
       "      <td>1</td>\n",
       "      <td>2</td>\n",
       "      <td>4</td>\n",
       "      <td>2023</td>\n",
       "      <td>2</td>\n",
       "      <td>6</td>\n",
       "      <td>6</td>\n",
       "      <td>4</td>\n",
       "      <td>2023</td>\n",
       "      <td>2</td>\n",
       "      <td>3</td>\n",
       "      <td>1.00</td>\n",
       "      <td>4.0</td>\n",
       "    </tr>\n",
       "    <tr>\n",
       "      <th>2</th>\n",
       "      <td>38a11c0e-4afc-4261-9c64-e94cc0a272fb</td>\n",
       "      <td>24.0</td>\n",
       "      <td>1.0</td>\n",
       "      <td>4.0</td>\n",
       "      <td>24.0</td>\n",
       "      <td>197.0</td>\n",
       "      <td>APMR</td>\n",
       "      <td>SRTA</td>\n",
       "      <td>0.0</td>\n",
       "      <td>2.0</td>\n",
       "      <td>0.0</td>\n",
       "      <td>54</td>\n",
       "      <td>1.0</td>\n",
       "      <td>0.0</td>\n",
       "      <td>4.0</td>\n",
       "      <td>0.0</td>\n",
       "      <td>13</td>\n",
       "      <td>4</td>\n",
       "      <td>1</td>\n",
       "      <td>23</td>\n",
       "      <td>7</td>\n",
       "      <td>2023</td>\n",
       "      <td>3</td>\n",
       "      <td>6</td>\n",
       "      <td>14</td>\n",
       "      <td>9</td>\n",
       "      <td>2023</td>\n",
       "      <td>3</td>\n",
       "      <td>3</td>\n",
       "      <td>0.70</td>\n",
       "      <td>0.0</td>\n",
       "    </tr>\n",
       "    <tr>\n",
       "      <th>3</th>\n",
       "      <td>1693e85b-f80e-40ce-846f-395ddcece6d3</td>\n",
       "      <td>23.0</td>\n",
       "      <td>1.0</td>\n",
       "      <td>4.0</td>\n",
       "      <td>24.0</td>\n",
       "      <td>43.0</td>\n",
       "      <td>TOSL</td>\n",
       "      <td>TOSL</td>\n",
       "      <td>0.0</td>\n",
       "      <td>1.0</td>\n",
       "      <td>0.0</td>\n",
       "      <td>33</td>\n",
       "      <td>1.0</td>\n",
       "      <td>0.0</td>\n",
       "      <td>0.0</td>\n",
       "      <td>0.0</td>\n",
       "      <td>6</td>\n",
       "      <td>2</td>\n",
       "      <td>1</td>\n",
       "      <td>23</td>\n",
       "      <td>7</td>\n",
       "      <td>2023</td>\n",
       "      <td>3</td>\n",
       "      <td>6</td>\n",
       "      <td>24</td>\n",
       "      <td>8</td>\n",
       "      <td>2023</td>\n",
       "      <td>3</td>\n",
       "      <td>3</td>\n",
       "      <td>0.71</td>\n",
       "      <td>0.0</td>\n",
       "    </tr>\n",
       "    <tr>\n",
       "      <th>4</th>\n",
       "      <td>98a0e8d0-5f80-4634-afd8-322aa0902863</td>\n",
       "      <td>23.0</td>\n",
       "      <td>1.0</td>\n",
       "      <td>4.0</td>\n",
       "      <td>24.0</td>\n",
       "      <td>188.0</td>\n",
       "      <td>CAUF</td>\n",
       "      <td>SWPS</td>\n",
       "      <td>0.0</td>\n",
       "      <td>2.0</td>\n",
       "      <td>0.0</td>\n",
       "      <td>54</td>\n",
       "      <td>0.0</td>\n",
       "      <td>0.0</td>\n",
       "      <td>4.0</td>\n",
       "      <td>0.0</td>\n",
       "      <td>10</td>\n",
       "      <td>3</td>\n",
       "      <td>1</td>\n",
       "      <td>30</td>\n",
       "      <td>4</td>\n",
       "      <td>2023</td>\n",
       "      <td>2</td>\n",
       "      <td>6</td>\n",
       "      <td>22</td>\n",
       "      <td>6</td>\n",
       "      <td>2023</td>\n",
       "      <td>2</td>\n",
       "      <td>3</td>\n",
       "      <td>0.80</td>\n",
       "      <td>4.0</td>\n",
       "    </tr>\n",
       "  </tbody>\n",
       "</table>\n",
       "</div>"
      ],
      "text/plain": [
       "                             Student ID   Age  Gender  Home Region  Home City  \\\n",
       "0  4f14c50d-162e-4a15-9cf0-ec129c33bcf0  37.0     1.0          4.0       24.0   \n",
       "1  0599d409-876b-41a5-af05-749ef0e77d32  21.0     1.0         10.0       66.0   \n",
       "2  38a11c0e-4afc-4261-9c64-e94cc0a272fb  24.0     1.0          4.0       24.0   \n",
       "3  1693e85b-f80e-40ce-846f-395ddcece6d3  23.0     1.0          4.0       24.0   \n",
       "4  98a0e8d0-5f80-4634-afd8-322aa0902863  23.0     1.0          4.0       24.0   \n",
       "\n",
       "   Program ID Program Main Category Code Program Sub Category Code  \\\n",
       "0        65.0                       PCRF                      PCRF   \n",
       "1       180.0                       APMR                      SWPS   \n",
       "2       197.0                       APMR                      SRTA   \n",
       "3        43.0                       TOSL                      TOSL   \n",
       "4       188.0                       CAUF                      SWPS   \n",
       "\n",
       "   Technology Type  Program Skill Level  Program Presentation Method  \\\n",
       "0              0.0                  0.0                          0.0   \n",
       "1              0.0                  2.0                          0.0   \n",
       "2              0.0                  2.0                          0.0   \n",
       "3              0.0                  1.0                          0.0   \n",
       "4              0.0                  2.0                          0.0   \n",
       "\n",
       "   Program Days  Completed Degree  Level of Education  Employment Status    Y  \\\n",
       "0            12               1.0                 0.0                3.0  0.0   \n",
       "1             5               1.0                 0.0                1.0  0.0   \n",
       "2            54               1.0                 0.0                4.0  0.0   \n",
       "3            33               1.0                 0.0                0.0  0.0   \n",
       "4            54               0.0                 0.0                4.0  0.0   \n",
       "\n",
       "   Total Regestration  Types_courses  train  start_day  start_month  \\\n",
       "0                   4              1      1         28            5   \n",
       "1                  15              5      1          2            4   \n",
       "2                  13              4      1         23            7   \n",
       "3                   6              2      1         23            7   \n",
       "4                  10              3      1         30            4   \n",
       "\n",
       "   start_year  Start_Quarter  Start_weekday  end_day  end_month  end_year  \\\n",
       "0        2023              2              6        8          6      2023   \n",
       "1        2023              2              6        6          4      2023   \n",
       "2        2023              3              6       14          9      2023   \n",
       "3        2023              3              6       24          8      2023   \n",
       "4        2023              2              6       22          6      2023   \n",
       "\n",
       "   end_Quarter  end_weekday  Normalized Uni Score  already_applied  \n",
       "0            2            3                  0.61              4.0  \n",
       "1            2            3                  1.00              4.0  \n",
       "2            3            3                  0.70              0.0  \n",
       "3            3            3                  0.71              0.0  \n",
       "4            2            3                  0.80              4.0  "
      ]
     },
     "execution_count": 94,
     "metadata": {},
     "output_type": "execute_result"
    }
   ],
   "source": [
    "df_concat.head()"
   ]
  },
  {
   "cell_type": "code",
   "execution_count": 95,
   "id": "1572ec2f",
   "metadata": {
    "tags": []
   },
   "outputs": [],
   "source": [
    "df_concat['Program_code'] = df_concat['Program Main Category Code'] + df_concat['Program Sub Category Code']"
   ]
  },
  {
   "cell_type": "code",
   "execution_count": 96,
   "id": "a66e34a0",
   "metadata": {
    "tags": []
   },
   "outputs": [
    {
     "data": {
      "text/html": [
       "<div>\n",
       "<style scoped>\n",
       "    .dataframe tbody tr th:only-of-type {\n",
       "        vertical-align: middle;\n",
       "    }\n",
       "\n",
       "    .dataframe tbody tr th {\n",
       "        vertical-align: top;\n",
       "    }\n",
       "\n",
       "    .dataframe thead th {\n",
       "        text-align: right;\n",
       "    }\n",
       "</style>\n",
       "<table border=\"1\" class=\"dataframe\">\n",
       "  <thead>\n",
       "    <tr style=\"text-align: right;\">\n",
       "      <th></th>\n",
       "      <th>Student ID</th>\n",
       "      <th>Age</th>\n",
       "      <th>Gender</th>\n",
       "      <th>Home Region</th>\n",
       "      <th>Home City</th>\n",
       "      <th>Program ID</th>\n",
       "      <th>Program Main Category Code</th>\n",
       "      <th>Program Sub Category Code</th>\n",
       "      <th>Technology Type</th>\n",
       "      <th>Program Skill Level</th>\n",
       "      <th>Program Presentation Method</th>\n",
       "      <th>Program Days</th>\n",
       "      <th>Completed Degree</th>\n",
       "      <th>Level of Education</th>\n",
       "      <th>Employment Status</th>\n",
       "      <th>Y</th>\n",
       "      <th>Total Regestration</th>\n",
       "      <th>Types_courses</th>\n",
       "      <th>train</th>\n",
       "      <th>start_day</th>\n",
       "      <th>start_month</th>\n",
       "      <th>start_year</th>\n",
       "      <th>Start_Quarter</th>\n",
       "      <th>Start_weekday</th>\n",
       "      <th>end_day</th>\n",
       "      <th>end_month</th>\n",
       "      <th>end_year</th>\n",
       "      <th>end_Quarter</th>\n",
       "      <th>end_weekday</th>\n",
       "      <th>Normalized Uni Score</th>\n",
       "      <th>already_applied</th>\n",
       "      <th>Program_code</th>\n",
       "    </tr>\n",
       "  </thead>\n",
       "  <tbody>\n",
       "    <tr>\n",
       "      <th>0</th>\n",
       "      <td>4f14c50d-162e-4a15-9cf0-ec129c33bcf0</td>\n",
       "      <td>37.0</td>\n",
       "      <td>1.0</td>\n",
       "      <td>4.0</td>\n",
       "      <td>24.0</td>\n",
       "      <td>65.0</td>\n",
       "      <td>PCRF</td>\n",
       "      <td>PCRF</td>\n",
       "      <td>0.0</td>\n",
       "      <td>0.0</td>\n",
       "      <td>0.0</td>\n",
       "      <td>12</td>\n",
       "      <td>1.0</td>\n",
       "      <td>0.0</td>\n",
       "      <td>3.0</td>\n",
       "      <td>0.0</td>\n",
       "      <td>4</td>\n",
       "      <td>1</td>\n",
       "      <td>1</td>\n",
       "      <td>28</td>\n",
       "      <td>5</td>\n",
       "      <td>2023</td>\n",
       "      <td>2</td>\n",
       "      <td>6</td>\n",
       "      <td>8</td>\n",
       "      <td>6</td>\n",
       "      <td>2023</td>\n",
       "      <td>2</td>\n",
       "      <td>3</td>\n",
       "      <td>0.61</td>\n",
       "      <td>4.0</td>\n",
       "      <td>PCRFPCRF</td>\n",
       "    </tr>\n",
       "    <tr>\n",
       "      <th>1</th>\n",
       "      <td>0599d409-876b-41a5-af05-749ef0e77d32</td>\n",
       "      <td>21.0</td>\n",
       "      <td>1.0</td>\n",
       "      <td>10.0</td>\n",
       "      <td>66.0</td>\n",
       "      <td>180.0</td>\n",
       "      <td>APMR</td>\n",
       "      <td>SWPS</td>\n",
       "      <td>0.0</td>\n",
       "      <td>2.0</td>\n",
       "      <td>0.0</td>\n",
       "      <td>5</td>\n",
       "      <td>1.0</td>\n",
       "      <td>0.0</td>\n",
       "      <td>1.0</td>\n",
       "      <td>0.0</td>\n",
       "      <td>15</td>\n",
       "      <td>5</td>\n",
       "      <td>1</td>\n",
       "      <td>2</td>\n",
       "      <td>4</td>\n",
       "      <td>2023</td>\n",
       "      <td>2</td>\n",
       "      <td>6</td>\n",
       "      <td>6</td>\n",
       "      <td>4</td>\n",
       "      <td>2023</td>\n",
       "      <td>2</td>\n",
       "      <td>3</td>\n",
       "      <td>1.00</td>\n",
       "      <td>4.0</td>\n",
       "      <td>APMRSWPS</td>\n",
       "    </tr>\n",
       "    <tr>\n",
       "      <th>2</th>\n",
       "      <td>38a11c0e-4afc-4261-9c64-e94cc0a272fb</td>\n",
       "      <td>24.0</td>\n",
       "      <td>1.0</td>\n",
       "      <td>4.0</td>\n",
       "      <td>24.0</td>\n",
       "      <td>197.0</td>\n",
       "      <td>APMR</td>\n",
       "      <td>SRTA</td>\n",
       "      <td>0.0</td>\n",
       "      <td>2.0</td>\n",
       "      <td>0.0</td>\n",
       "      <td>54</td>\n",
       "      <td>1.0</td>\n",
       "      <td>0.0</td>\n",
       "      <td>4.0</td>\n",
       "      <td>0.0</td>\n",
       "      <td>13</td>\n",
       "      <td>4</td>\n",
       "      <td>1</td>\n",
       "      <td>23</td>\n",
       "      <td>7</td>\n",
       "      <td>2023</td>\n",
       "      <td>3</td>\n",
       "      <td>6</td>\n",
       "      <td>14</td>\n",
       "      <td>9</td>\n",
       "      <td>2023</td>\n",
       "      <td>3</td>\n",
       "      <td>3</td>\n",
       "      <td>0.70</td>\n",
       "      <td>0.0</td>\n",
       "      <td>APMRSRTA</td>\n",
       "    </tr>\n",
       "    <tr>\n",
       "      <th>3</th>\n",
       "      <td>1693e85b-f80e-40ce-846f-395ddcece6d3</td>\n",
       "      <td>23.0</td>\n",
       "      <td>1.0</td>\n",
       "      <td>4.0</td>\n",
       "      <td>24.0</td>\n",
       "      <td>43.0</td>\n",
       "      <td>TOSL</td>\n",
       "      <td>TOSL</td>\n",
       "      <td>0.0</td>\n",
       "      <td>1.0</td>\n",
       "      <td>0.0</td>\n",
       "      <td>33</td>\n",
       "      <td>1.0</td>\n",
       "      <td>0.0</td>\n",
       "      <td>0.0</td>\n",
       "      <td>0.0</td>\n",
       "      <td>6</td>\n",
       "      <td>2</td>\n",
       "      <td>1</td>\n",
       "      <td>23</td>\n",
       "      <td>7</td>\n",
       "      <td>2023</td>\n",
       "      <td>3</td>\n",
       "      <td>6</td>\n",
       "      <td>24</td>\n",
       "      <td>8</td>\n",
       "      <td>2023</td>\n",
       "      <td>3</td>\n",
       "      <td>3</td>\n",
       "      <td>0.71</td>\n",
       "      <td>0.0</td>\n",
       "      <td>TOSLTOSL</td>\n",
       "    </tr>\n",
       "    <tr>\n",
       "      <th>4</th>\n",
       "      <td>98a0e8d0-5f80-4634-afd8-322aa0902863</td>\n",
       "      <td>23.0</td>\n",
       "      <td>1.0</td>\n",
       "      <td>4.0</td>\n",
       "      <td>24.0</td>\n",
       "      <td>188.0</td>\n",
       "      <td>CAUF</td>\n",
       "      <td>SWPS</td>\n",
       "      <td>0.0</td>\n",
       "      <td>2.0</td>\n",
       "      <td>0.0</td>\n",
       "      <td>54</td>\n",
       "      <td>0.0</td>\n",
       "      <td>0.0</td>\n",
       "      <td>4.0</td>\n",
       "      <td>0.0</td>\n",
       "      <td>10</td>\n",
       "      <td>3</td>\n",
       "      <td>1</td>\n",
       "      <td>30</td>\n",
       "      <td>4</td>\n",
       "      <td>2023</td>\n",
       "      <td>2</td>\n",
       "      <td>6</td>\n",
       "      <td>22</td>\n",
       "      <td>6</td>\n",
       "      <td>2023</td>\n",
       "      <td>2</td>\n",
       "      <td>3</td>\n",
       "      <td>0.80</td>\n",
       "      <td>4.0</td>\n",
       "      <td>CAUFSWPS</td>\n",
       "    </tr>\n",
       "  </tbody>\n",
       "</table>\n",
       "</div>"
      ],
      "text/plain": [
       "                             Student ID   Age  Gender  Home Region  Home City  \\\n",
       "0  4f14c50d-162e-4a15-9cf0-ec129c33bcf0  37.0     1.0          4.0       24.0   \n",
       "1  0599d409-876b-41a5-af05-749ef0e77d32  21.0     1.0         10.0       66.0   \n",
       "2  38a11c0e-4afc-4261-9c64-e94cc0a272fb  24.0     1.0          4.0       24.0   \n",
       "3  1693e85b-f80e-40ce-846f-395ddcece6d3  23.0     1.0          4.0       24.0   \n",
       "4  98a0e8d0-5f80-4634-afd8-322aa0902863  23.0     1.0          4.0       24.0   \n",
       "\n",
       "   Program ID Program Main Category Code Program Sub Category Code  \\\n",
       "0        65.0                       PCRF                      PCRF   \n",
       "1       180.0                       APMR                      SWPS   \n",
       "2       197.0                       APMR                      SRTA   \n",
       "3        43.0                       TOSL                      TOSL   \n",
       "4       188.0                       CAUF                      SWPS   \n",
       "\n",
       "   Technology Type  Program Skill Level  Program Presentation Method  \\\n",
       "0              0.0                  0.0                          0.0   \n",
       "1              0.0                  2.0                          0.0   \n",
       "2              0.0                  2.0                          0.0   \n",
       "3              0.0                  1.0                          0.0   \n",
       "4              0.0                  2.0                          0.0   \n",
       "\n",
       "   Program Days  Completed Degree  Level of Education  Employment Status    Y  \\\n",
       "0            12               1.0                 0.0                3.0  0.0   \n",
       "1             5               1.0                 0.0                1.0  0.0   \n",
       "2            54               1.0                 0.0                4.0  0.0   \n",
       "3            33               1.0                 0.0                0.0  0.0   \n",
       "4            54               0.0                 0.0                4.0  0.0   \n",
       "\n",
       "   Total Regestration  Types_courses  train  start_day  start_month  \\\n",
       "0                   4              1      1         28            5   \n",
       "1                  15              5      1          2            4   \n",
       "2                  13              4      1         23            7   \n",
       "3                   6              2      1         23            7   \n",
       "4                  10              3      1         30            4   \n",
       "\n",
       "   start_year  Start_Quarter  Start_weekday  end_day  end_month  end_year  \\\n",
       "0        2023              2              6        8          6      2023   \n",
       "1        2023              2              6        6          4      2023   \n",
       "2        2023              3              6       14          9      2023   \n",
       "3        2023              3              6       24          8      2023   \n",
       "4        2023              2              6       22          6      2023   \n",
       "\n",
       "   end_Quarter  end_weekday  Normalized Uni Score  already_applied  \\\n",
       "0            2            3                  0.61              4.0   \n",
       "1            2            3                  1.00              4.0   \n",
       "2            3            3                  0.70              0.0   \n",
       "3            3            3                  0.71              0.0   \n",
       "4            2            3                  0.80              4.0   \n",
       "\n",
       "  Program_code  \n",
       "0     PCRFPCRF  \n",
       "1     APMRSWPS  \n",
       "2     APMRSRTA  \n",
       "3     TOSLTOSL  \n",
       "4     CAUFSWPS  "
      ]
     },
     "execution_count": 96,
     "metadata": {},
     "output_type": "execute_result"
    }
   ],
   "source": [
    "df_concat.head()"
   ]
  },
  {
   "cell_type": "code",
   "execution_count": 97,
   "id": "f308ac48",
   "metadata": {
    "tags": []
   },
   "outputs": [],
   "source": [
    "# Dropping Program Main Category Code and Program Sub Category Code\n",
    "df_concat.drop(['Program Main Category Code', 'Program Sub Category Code'], axis=1, inplace=True)"
   ]
  },
  {
   "cell_type": "markdown",
   "id": "31dc588d",
   "metadata": {},
   "source": [
    "#### **Re-setting train and test sets**"
   ]
  },
  {
   "cell_type": "code",
   "execution_count": 98,
   "id": "dd73fc2c",
   "metadata": {
    "tags": []
   },
   "outputs": [],
   "source": [
    "new_train = df_concat[df_concat.train == 1]\n",
    "new_test = df_concat[df_concat.train == 0]"
   ]
  },
  {
   "cell_type": "code",
   "execution_count": 99,
   "id": "d56b5663",
   "metadata": {
    "tags": []
   },
   "outputs": [
    {
     "data": {
      "text/html": [
       "<div>\n",
       "<style scoped>\n",
       "    .dataframe tbody tr th:only-of-type {\n",
       "        vertical-align: middle;\n",
       "    }\n",
       "\n",
       "    .dataframe tbody tr th {\n",
       "        vertical-align: top;\n",
       "    }\n",
       "\n",
       "    .dataframe thead th {\n",
       "        text-align: right;\n",
       "    }\n",
       "</style>\n",
       "<table border=\"1\" class=\"dataframe\">\n",
       "  <thead>\n",
       "    <tr style=\"text-align: right;\">\n",
       "      <th></th>\n",
       "      <th>Student ID</th>\n",
       "      <th>Age</th>\n",
       "      <th>Gender</th>\n",
       "      <th>Home Region</th>\n",
       "      <th>Home City</th>\n",
       "      <th>Program ID</th>\n",
       "      <th>Technology Type</th>\n",
       "      <th>Program Skill Level</th>\n",
       "      <th>Program Presentation Method</th>\n",
       "      <th>Program Days</th>\n",
       "      <th>Completed Degree</th>\n",
       "      <th>Level of Education</th>\n",
       "      <th>Employment Status</th>\n",
       "      <th>Y</th>\n",
       "      <th>Total Regestration</th>\n",
       "      <th>Types_courses</th>\n",
       "      <th>train</th>\n",
       "      <th>start_day</th>\n",
       "      <th>start_month</th>\n",
       "      <th>start_year</th>\n",
       "      <th>Start_Quarter</th>\n",
       "      <th>Start_weekday</th>\n",
       "      <th>end_day</th>\n",
       "      <th>end_month</th>\n",
       "      <th>end_year</th>\n",
       "      <th>end_Quarter</th>\n",
       "      <th>end_weekday</th>\n",
       "      <th>Normalized Uni Score</th>\n",
       "      <th>already_applied</th>\n",
       "      <th>Program_code</th>\n",
       "    </tr>\n",
       "  </thead>\n",
       "  <tbody>\n",
       "    <tr>\n",
       "      <th>0</th>\n",
       "      <td>4f14c50d-162e-4a15-9cf0-ec129c33bcf0</td>\n",
       "      <td>37.0</td>\n",
       "      <td>1.0</td>\n",
       "      <td>4.0</td>\n",
       "      <td>24.0</td>\n",
       "      <td>65.0</td>\n",
       "      <td>0.0</td>\n",
       "      <td>0.0</td>\n",
       "      <td>0.0</td>\n",
       "      <td>12</td>\n",
       "      <td>1.0</td>\n",
       "      <td>0.0</td>\n",
       "      <td>3.0</td>\n",
       "      <td>0.0</td>\n",
       "      <td>4</td>\n",
       "      <td>1</td>\n",
       "      <td>1</td>\n",
       "      <td>28</td>\n",
       "      <td>5</td>\n",
       "      <td>2023</td>\n",
       "      <td>2</td>\n",
       "      <td>6</td>\n",
       "      <td>8</td>\n",
       "      <td>6</td>\n",
       "      <td>2023</td>\n",
       "      <td>2</td>\n",
       "      <td>3</td>\n",
       "      <td>0.61</td>\n",
       "      <td>4.0</td>\n",
       "      <td>PCRFPCRF</td>\n",
       "    </tr>\n",
       "    <tr>\n",
       "      <th>1</th>\n",
       "      <td>0599d409-876b-41a5-af05-749ef0e77d32</td>\n",
       "      <td>21.0</td>\n",
       "      <td>1.0</td>\n",
       "      <td>10.0</td>\n",
       "      <td>66.0</td>\n",
       "      <td>180.0</td>\n",
       "      <td>0.0</td>\n",
       "      <td>2.0</td>\n",
       "      <td>0.0</td>\n",
       "      <td>5</td>\n",
       "      <td>1.0</td>\n",
       "      <td>0.0</td>\n",
       "      <td>1.0</td>\n",
       "      <td>0.0</td>\n",
       "      <td>15</td>\n",
       "      <td>5</td>\n",
       "      <td>1</td>\n",
       "      <td>2</td>\n",
       "      <td>4</td>\n",
       "      <td>2023</td>\n",
       "      <td>2</td>\n",
       "      <td>6</td>\n",
       "      <td>6</td>\n",
       "      <td>4</td>\n",
       "      <td>2023</td>\n",
       "      <td>2</td>\n",
       "      <td>3</td>\n",
       "      <td>1.00</td>\n",
       "      <td>4.0</td>\n",
       "      <td>APMRSWPS</td>\n",
       "    </tr>\n",
       "    <tr>\n",
       "      <th>2</th>\n",
       "      <td>38a11c0e-4afc-4261-9c64-e94cc0a272fb</td>\n",
       "      <td>24.0</td>\n",
       "      <td>1.0</td>\n",
       "      <td>4.0</td>\n",
       "      <td>24.0</td>\n",
       "      <td>197.0</td>\n",
       "      <td>0.0</td>\n",
       "      <td>2.0</td>\n",
       "      <td>0.0</td>\n",
       "      <td>54</td>\n",
       "      <td>1.0</td>\n",
       "      <td>0.0</td>\n",
       "      <td>4.0</td>\n",
       "      <td>0.0</td>\n",
       "      <td>13</td>\n",
       "      <td>4</td>\n",
       "      <td>1</td>\n",
       "      <td>23</td>\n",
       "      <td>7</td>\n",
       "      <td>2023</td>\n",
       "      <td>3</td>\n",
       "      <td>6</td>\n",
       "      <td>14</td>\n",
       "      <td>9</td>\n",
       "      <td>2023</td>\n",
       "      <td>3</td>\n",
       "      <td>3</td>\n",
       "      <td>0.70</td>\n",
       "      <td>0.0</td>\n",
       "      <td>APMRSRTA</td>\n",
       "    </tr>\n",
       "    <tr>\n",
       "      <th>3</th>\n",
       "      <td>1693e85b-f80e-40ce-846f-395ddcece6d3</td>\n",
       "      <td>23.0</td>\n",
       "      <td>1.0</td>\n",
       "      <td>4.0</td>\n",
       "      <td>24.0</td>\n",
       "      <td>43.0</td>\n",
       "      <td>0.0</td>\n",
       "      <td>1.0</td>\n",
       "      <td>0.0</td>\n",
       "      <td>33</td>\n",
       "      <td>1.0</td>\n",
       "      <td>0.0</td>\n",
       "      <td>0.0</td>\n",
       "      <td>0.0</td>\n",
       "      <td>6</td>\n",
       "      <td>2</td>\n",
       "      <td>1</td>\n",
       "      <td>23</td>\n",
       "      <td>7</td>\n",
       "      <td>2023</td>\n",
       "      <td>3</td>\n",
       "      <td>6</td>\n",
       "      <td>24</td>\n",
       "      <td>8</td>\n",
       "      <td>2023</td>\n",
       "      <td>3</td>\n",
       "      <td>3</td>\n",
       "      <td>0.71</td>\n",
       "      <td>0.0</td>\n",
       "      <td>TOSLTOSL</td>\n",
       "    </tr>\n",
       "    <tr>\n",
       "      <th>4</th>\n",
       "      <td>98a0e8d0-5f80-4634-afd8-322aa0902863</td>\n",
       "      <td>23.0</td>\n",
       "      <td>1.0</td>\n",
       "      <td>4.0</td>\n",
       "      <td>24.0</td>\n",
       "      <td>188.0</td>\n",
       "      <td>0.0</td>\n",
       "      <td>2.0</td>\n",
       "      <td>0.0</td>\n",
       "      <td>54</td>\n",
       "      <td>0.0</td>\n",
       "      <td>0.0</td>\n",
       "      <td>4.0</td>\n",
       "      <td>0.0</td>\n",
       "      <td>10</td>\n",
       "      <td>3</td>\n",
       "      <td>1</td>\n",
       "      <td>30</td>\n",
       "      <td>4</td>\n",
       "      <td>2023</td>\n",
       "      <td>2</td>\n",
       "      <td>6</td>\n",
       "      <td>22</td>\n",
       "      <td>6</td>\n",
       "      <td>2023</td>\n",
       "      <td>2</td>\n",
       "      <td>3</td>\n",
       "      <td>0.80</td>\n",
       "      <td>4.0</td>\n",
       "      <td>CAUFSWPS</td>\n",
       "    </tr>\n",
       "  </tbody>\n",
       "</table>\n",
       "</div>"
      ],
      "text/plain": [
       "                             Student ID   Age  Gender  Home Region  Home City  \\\n",
       "0  4f14c50d-162e-4a15-9cf0-ec129c33bcf0  37.0     1.0          4.0       24.0   \n",
       "1  0599d409-876b-41a5-af05-749ef0e77d32  21.0     1.0         10.0       66.0   \n",
       "2  38a11c0e-4afc-4261-9c64-e94cc0a272fb  24.0     1.0          4.0       24.0   \n",
       "3  1693e85b-f80e-40ce-846f-395ddcece6d3  23.0     1.0          4.0       24.0   \n",
       "4  98a0e8d0-5f80-4634-afd8-322aa0902863  23.0     1.0          4.0       24.0   \n",
       "\n",
       "   Program ID  Technology Type  Program Skill Level  \\\n",
       "0        65.0              0.0                  0.0   \n",
       "1       180.0              0.0                  2.0   \n",
       "2       197.0              0.0                  2.0   \n",
       "3        43.0              0.0                  1.0   \n",
       "4       188.0              0.0                  2.0   \n",
       "\n",
       "   Program Presentation Method  Program Days  Completed Degree  \\\n",
       "0                          0.0            12               1.0   \n",
       "1                          0.0             5               1.0   \n",
       "2                          0.0            54               1.0   \n",
       "3                          0.0            33               1.0   \n",
       "4                          0.0            54               0.0   \n",
       "\n",
       "   Level of Education  Employment Status    Y  Total Regestration  \\\n",
       "0                 0.0                3.0  0.0                   4   \n",
       "1                 0.0                1.0  0.0                  15   \n",
       "2                 0.0                4.0  0.0                  13   \n",
       "3                 0.0                0.0  0.0                   6   \n",
       "4                 0.0                4.0  0.0                  10   \n",
       "\n",
       "   Types_courses  train  start_day  start_month  start_year  Start_Quarter  \\\n",
       "0              1      1         28            5        2023              2   \n",
       "1              5      1          2            4        2023              2   \n",
       "2              4      1         23            7        2023              3   \n",
       "3              2      1         23            7        2023              3   \n",
       "4              3      1         30            4        2023              2   \n",
       "\n",
       "   Start_weekday  end_day  end_month  end_year  end_Quarter  end_weekday  \\\n",
       "0              6        8          6      2023            2            3   \n",
       "1              6        6          4      2023            2            3   \n",
       "2              6       14          9      2023            3            3   \n",
       "3              6       24          8      2023            3            3   \n",
       "4              6       22          6      2023            2            3   \n",
       "\n",
       "   Normalized Uni Score  already_applied Program_code  \n",
       "0                  0.61              4.0     PCRFPCRF  \n",
       "1                  1.00              4.0     APMRSWPS  \n",
       "2                  0.70              0.0     APMRSRTA  \n",
       "3                  0.71              0.0     TOSLTOSL  \n",
       "4                  0.80              4.0     CAUFSWPS  "
      ]
     },
     "execution_count": 99,
     "metadata": {},
     "output_type": "execute_result"
    }
   ],
   "source": [
    "new_train.head()"
   ]
  },
  {
   "cell_type": "code",
   "execution_count": 100,
   "id": "30d0cbc3",
   "metadata": {
    "tags": []
   },
   "outputs": [],
   "source": [
    "code_list = new_train['Program_code'].value_counts().index.tolist()"
   ]
  },
  {
   "cell_type": "code",
   "execution_count": 101,
   "id": "7733180a",
   "metadata": {
    "tags": []
   },
   "outputs": [],
   "source": [
    "program_codes_list = set(code_list)"
   ]
  },
  {
   "cell_type": "code",
   "execution_count": 102,
   "id": "0a5e9000",
   "metadata": {
    "tags": []
   },
   "outputs": [],
   "source": [
    "program_codes_dict = {}\n",
    "for i,code in enumerate(program_codes_list):\n",
    "    program_codes_dict[code] = i"
   ]
  },
  {
   "cell_type": "code",
   "execution_count": 103,
   "id": "a6e96088",
   "metadata": {
    "tags": []
   },
   "outputs": [
    {
     "name": "stderr",
     "output_type": "stream",
     "text": [
      "/tmp/ipykernel_10349/4153561161.py:1: SettingWithCopyWarning: \n",
      "A value is trying to be set on a copy of a slice from a DataFrame.\n",
      "Try using .loc[row_indexer,col_indexer] = value instead\n",
      "\n",
      "See the caveats in the documentation: https://pandas.pydata.org/pandas-docs/stable/user_guide/indexing.html#returning-a-view-versus-a-copy\n",
      "  new_train['Program_code'] = new_train['Program_code'].map(program_codes_dict)\n",
      "/tmp/ipykernel_10349/4153561161.py:2: SettingWithCopyWarning: \n",
      "A value is trying to be set on a copy of a slice from a DataFrame.\n",
      "Try using .loc[row_indexer,col_indexer] = value instead\n",
      "\n",
      "See the caveats in the documentation: https://pandas.pydata.org/pandas-docs/stable/user_guide/indexing.html#returning-a-view-versus-a-copy\n",
      "  new_test['Program_code'] = new_test['Program_code'].map(program_codes_dict)\n"
     ]
    }
   ],
   "source": [
    "new_train['Program_code'] = new_train['Program_code'].map(program_codes_dict)\n",
    "new_test['Program_code'] = new_test['Program_code'].map(program_codes_dict)\n"
   ]
  },
  {
   "cell_type": "code",
   "execution_count": 104,
   "id": "8b7938a9",
   "metadata": {
    "tags": []
   },
   "outputs": [
    {
     "data": {
      "text/html": [
       "<div>\n",
       "<style scoped>\n",
       "    .dataframe tbody tr th:only-of-type {\n",
       "        vertical-align: middle;\n",
       "    }\n",
       "\n",
       "    .dataframe tbody tr th {\n",
       "        vertical-align: top;\n",
       "    }\n",
       "\n",
       "    .dataframe thead th {\n",
       "        text-align: right;\n",
       "    }\n",
       "</style>\n",
       "<table border=\"1\" class=\"dataframe\">\n",
       "  <thead>\n",
       "    <tr style=\"text-align: right;\">\n",
       "      <th></th>\n",
       "      <th>Student ID</th>\n",
       "      <th>Age</th>\n",
       "      <th>Gender</th>\n",
       "      <th>Home Region</th>\n",
       "      <th>Home City</th>\n",
       "      <th>Program ID</th>\n",
       "      <th>Technology Type</th>\n",
       "      <th>Program Skill Level</th>\n",
       "      <th>Program Presentation Method</th>\n",
       "      <th>Program Days</th>\n",
       "      <th>Completed Degree</th>\n",
       "      <th>Level of Education</th>\n",
       "      <th>Employment Status</th>\n",
       "      <th>Y</th>\n",
       "      <th>Total Regestration</th>\n",
       "      <th>Types_courses</th>\n",
       "      <th>train</th>\n",
       "      <th>start_day</th>\n",
       "      <th>start_month</th>\n",
       "      <th>start_year</th>\n",
       "      <th>Start_Quarter</th>\n",
       "      <th>Start_weekday</th>\n",
       "      <th>end_day</th>\n",
       "      <th>end_month</th>\n",
       "      <th>end_year</th>\n",
       "      <th>end_Quarter</th>\n",
       "      <th>end_weekday</th>\n",
       "      <th>Normalized Uni Score</th>\n",
       "      <th>already_applied</th>\n",
       "      <th>Program_code</th>\n",
       "    </tr>\n",
       "  </thead>\n",
       "  <tbody>\n",
       "    <tr>\n",
       "      <th>0</th>\n",
       "      <td>4f14c50d-162e-4a15-9cf0-ec129c33bcf0</td>\n",
       "      <td>37.0</td>\n",
       "      <td>1.0</td>\n",
       "      <td>4.0</td>\n",
       "      <td>24.0</td>\n",
       "      <td>65.0</td>\n",
       "      <td>0.0</td>\n",
       "      <td>0.0</td>\n",
       "      <td>0.0</td>\n",
       "      <td>12</td>\n",
       "      <td>1.0</td>\n",
       "      <td>0.0</td>\n",
       "      <td>3.0</td>\n",
       "      <td>0.0</td>\n",
       "      <td>4</td>\n",
       "      <td>1</td>\n",
       "      <td>1</td>\n",
       "      <td>28</td>\n",
       "      <td>5</td>\n",
       "      <td>2023</td>\n",
       "      <td>2</td>\n",
       "      <td>6</td>\n",
       "      <td>8</td>\n",
       "      <td>6</td>\n",
       "      <td>2023</td>\n",
       "      <td>2</td>\n",
       "      <td>3</td>\n",
       "      <td>0.61</td>\n",
       "      <td>4.0</td>\n",
       "      <td>2</td>\n",
       "    </tr>\n",
       "    <tr>\n",
       "      <th>1</th>\n",
       "      <td>0599d409-876b-41a5-af05-749ef0e77d32</td>\n",
       "      <td>21.0</td>\n",
       "      <td>1.0</td>\n",
       "      <td>10.0</td>\n",
       "      <td>66.0</td>\n",
       "      <td>180.0</td>\n",
       "      <td>0.0</td>\n",
       "      <td>2.0</td>\n",
       "      <td>0.0</td>\n",
       "      <td>5</td>\n",
       "      <td>1.0</td>\n",
       "      <td>0.0</td>\n",
       "      <td>1.0</td>\n",
       "      <td>0.0</td>\n",
       "      <td>15</td>\n",
       "      <td>5</td>\n",
       "      <td>1</td>\n",
       "      <td>2</td>\n",
       "      <td>4</td>\n",
       "      <td>2023</td>\n",
       "      <td>2</td>\n",
       "      <td>6</td>\n",
       "      <td>6</td>\n",
       "      <td>4</td>\n",
       "      <td>2023</td>\n",
       "      <td>2</td>\n",
       "      <td>3</td>\n",
       "      <td>1.00</td>\n",
       "      <td>4.0</td>\n",
       "      <td>5</td>\n",
       "    </tr>\n",
       "    <tr>\n",
       "      <th>2</th>\n",
       "      <td>38a11c0e-4afc-4261-9c64-e94cc0a272fb</td>\n",
       "      <td>24.0</td>\n",
       "      <td>1.0</td>\n",
       "      <td>4.0</td>\n",
       "      <td>24.0</td>\n",
       "      <td>197.0</td>\n",
       "      <td>0.0</td>\n",
       "      <td>2.0</td>\n",
       "      <td>0.0</td>\n",
       "      <td>54</td>\n",
       "      <td>1.0</td>\n",
       "      <td>0.0</td>\n",
       "      <td>4.0</td>\n",
       "      <td>0.0</td>\n",
       "      <td>13</td>\n",
       "      <td>4</td>\n",
       "      <td>1</td>\n",
       "      <td>23</td>\n",
       "      <td>7</td>\n",
       "      <td>2023</td>\n",
       "      <td>3</td>\n",
       "      <td>6</td>\n",
       "      <td>14</td>\n",
       "      <td>9</td>\n",
       "      <td>2023</td>\n",
       "      <td>3</td>\n",
       "      <td>3</td>\n",
       "      <td>0.70</td>\n",
       "      <td>0.0</td>\n",
       "      <td>6</td>\n",
       "    </tr>\n",
       "    <tr>\n",
       "      <th>3</th>\n",
       "      <td>1693e85b-f80e-40ce-846f-395ddcece6d3</td>\n",
       "      <td>23.0</td>\n",
       "      <td>1.0</td>\n",
       "      <td>4.0</td>\n",
       "      <td>24.0</td>\n",
       "      <td>43.0</td>\n",
       "      <td>0.0</td>\n",
       "      <td>1.0</td>\n",
       "      <td>0.0</td>\n",
       "      <td>33</td>\n",
       "      <td>1.0</td>\n",
       "      <td>0.0</td>\n",
       "      <td>0.0</td>\n",
       "      <td>0.0</td>\n",
       "      <td>6</td>\n",
       "      <td>2</td>\n",
       "      <td>1</td>\n",
       "      <td>23</td>\n",
       "      <td>7</td>\n",
       "      <td>2023</td>\n",
       "      <td>3</td>\n",
       "      <td>6</td>\n",
       "      <td>24</td>\n",
       "      <td>8</td>\n",
       "      <td>2023</td>\n",
       "      <td>3</td>\n",
       "      <td>3</td>\n",
       "      <td>0.71</td>\n",
       "      <td>0.0</td>\n",
       "      <td>10</td>\n",
       "    </tr>\n",
       "    <tr>\n",
       "      <th>4</th>\n",
       "      <td>98a0e8d0-5f80-4634-afd8-322aa0902863</td>\n",
       "      <td>23.0</td>\n",
       "      <td>1.0</td>\n",
       "      <td>4.0</td>\n",
       "      <td>24.0</td>\n",
       "      <td>188.0</td>\n",
       "      <td>0.0</td>\n",
       "      <td>2.0</td>\n",
       "      <td>0.0</td>\n",
       "      <td>54</td>\n",
       "      <td>0.0</td>\n",
       "      <td>0.0</td>\n",
       "      <td>4.0</td>\n",
       "      <td>0.0</td>\n",
       "      <td>10</td>\n",
       "      <td>3</td>\n",
       "      <td>1</td>\n",
       "      <td>30</td>\n",
       "      <td>4</td>\n",
       "      <td>2023</td>\n",
       "      <td>2</td>\n",
       "      <td>6</td>\n",
       "      <td>22</td>\n",
       "      <td>6</td>\n",
       "      <td>2023</td>\n",
       "      <td>2</td>\n",
       "      <td>3</td>\n",
       "      <td>0.80</td>\n",
       "      <td>4.0</td>\n",
       "      <td>14</td>\n",
       "    </tr>\n",
       "  </tbody>\n",
       "</table>\n",
       "</div>"
      ],
      "text/plain": [
       "                             Student ID   Age  Gender  Home Region  Home City  \\\n",
       "0  4f14c50d-162e-4a15-9cf0-ec129c33bcf0  37.0     1.0          4.0       24.0   \n",
       "1  0599d409-876b-41a5-af05-749ef0e77d32  21.0     1.0         10.0       66.0   \n",
       "2  38a11c0e-4afc-4261-9c64-e94cc0a272fb  24.0     1.0          4.0       24.0   \n",
       "3  1693e85b-f80e-40ce-846f-395ddcece6d3  23.0     1.0          4.0       24.0   \n",
       "4  98a0e8d0-5f80-4634-afd8-322aa0902863  23.0     1.0          4.0       24.0   \n",
       "\n",
       "   Program ID  Technology Type  Program Skill Level  \\\n",
       "0        65.0              0.0                  0.0   \n",
       "1       180.0              0.0                  2.0   \n",
       "2       197.0              0.0                  2.0   \n",
       "3        43.0              0.0                  1.0   \n",
       "4       188.0              0.0                  2.0   \n",
       "\n",
       "   Program Presentation Method  Program Days  Completed Degree  \\\n",
       "0                          0.0            12               1.0   \n",
       "1                          0.0             5               1.0   \n",
       "2                          0.0            54               1.0   \n",
       "3                          0.0            33               1.0   \n",
       "4                          0.0            54               0.0   \n",
       "\n",
       "   Level of Education  Employment Status    Y  Total Regestration  \\\n",
       "0                 0.0                3.0  0.0                   4   \n",
       "1                 0.0                1.0  0.0                  15   \n",
       "2                 0.0                4.0  0.0                  13   \n",
       "3                 0.0                0.0  0.0                   6   \n",
       "4                 0.0                4.0  0.0                  10   \n",
       "\n",
       "   Types_courses  train  start_day  start_month  start_year  Start_Quarter  \\\n",
       "0              1      1         28            5        2023              2   \n",
       "1              5      1          2            4        2023              2   \n",
       "2              4      1         23            7        2023              3   \n",
       "3              2      1         23            7        2023              3   \n",
       "4              3      1         30            4        2023              2   \n",
       "\n",
       "   Start_weekday  end_day  end_month  end_year  end_Quarter  end_weekday  \\\n",
       "0              6        8          6      2023            2            3   \n",
       "1              6        6          4      2023            2            3   \n",
       "2              6       14          9      2023            3            3   \n",
       "3              6       24          8      2023            3            3   \n",
       "4              6       22          6      2023            2            3   \n",
       "\n",
       "   Normalized Uni Score  already_applied  Program_code  \n",
       "0                  0.61              4.0             2  \n",
       "1                  1.00              4.0             5  \n",
       "2                  0.70              0.0             6  \n",
       "3                  0.71              0.0            10  \n",
       "4                  0.80              4.0            14  "
      ]
     },
     "execution_count": 104,
     "metadata": {},
     "output_type": "execute_result"
    }
   ],
   "source": [
    "new_train.head()"
   ]
  },
  {
   "cell_type": "markdown",
   "id": "70ea7f06",
   "metadata": {},
   "source": [
    "#### **Setting training and test sets for ML**"
   ]
  },
  {
   "cell_type": "code",
   "execution_count": 105,
   "id": "75637fd0",
   "metadata": {
    "tags": []
   },
   "outputs": [
    {
     "name": "stdout",
     "output_type": "stream",
     "text": [
      "X Size = (6548, 27)\n",
      "Test Size = (818, 27)\n"
     ]
    }
   ],
   "source": [
    "X = new_train.drop(['Student ID', 'train', 'Y' ], axis=1)\n",
    "y = new_train['Y'].values\n",
    "\n",
    "X_test = new_test.drop(['Student ID', 'train', 'Y',], axis=1)\n",
    "\n",
    "print(f'X Size = {X.shape}')\n",
    "print(f'Test Size = {X_test.shape}')"
   ]
  },
  {
   "cell_type": "code",
   "execution_count": 106,
   "id": "a735352a",
   "metadata": {
    "tags": []
   },
   "outputs": [],
   "source": [
    "from xgboost import XGBClassifier\n",
    "from sklearn.ensemble import RandomForestClassifier\n",
    "from catboost import CatBoostClassifier\n",
    "from sklearn.ensemble import GradientBoostingClassifier\n",
    "from lightgbm import LGBMClassifier"
   ]
  },
  {
   "cell_type": "code",
   "execution_count": 107,
   "id": "14b3380e",
   "metadata": {
    "tags": []
   },
   "outputs": [],
   "source": [
    "from sklearn.model_selection import StratifiedKFold, RepeatedStratifiedKFold\n",
    "from sklearn.metrics import f1_score"
   ]
  },
  {
   "cell_type": "code",
   "execution_count": 108,
   "id": "38416d53",
   "metadata": {
    "tags": []
   },
   "outputs": [],
   "source": [
    "lgbm_params = {'num_leaves': 26, \n",
    "               'learning_rate': 0.04758279648208103, \n",
    "               'n_estimators': 452, \n",
    "               'lambda_l1': 0.013975208382661275, \n",
    "               'lambda_l2': 0.0465490931600607, \n",
    "               'max_depth': 14, \n",
    "               'colsample_bytree': 0.6587810846609027, \n",
    "               'subsample': 0.8038378821281886, \n",
    "               'min_child_samples': 11,\n",
    "               \"objective\": \"binary\",\n",
    "            \"metric\": \"binary_logloss\",\n",
    "            \"verbosity\": -1,\n",
    "            \"boosting_type\": \"gbdt\",\n",
    "            \"random_state\": 554,\n",
    "            'class_weight': 'balanced',\n",
    "              }"
   ]
  },
  {
   "cell_type": "code",
   "execution_count": 109,
   "id": "3913d8c4",
   "metadata": {
    "tags": []
   },
   "outputs": [],
   "source": [
    "gbc_params = {'n_estimators': 768,\n",
    " 'learning_rate': 0.027749587812978364,\n",
    " 'max_depth': 3,\n",
    " 'min_samples_split': 19,\n",
    " 'min_samples_leaf': 9,\n",
    "              'random_state':554, \n",
    "              'verbose':0,\n",
    " 'max_features': 'auto'}\n",
    " "
   ]
  },
  {
   "cell_type": "code",
   "execution_count": 110,
   "id": "16f7394b",
   "metadata": {
    "tags": []
   },
   "outputs": [],
   "source": [
    "cat_params = {'learning_rate': 0.049896793120466194,\n",
    "              'iterations':1260,\n",
    "              #'custom_metric':'F1',\n",
    "              'depth':4,\n",
    "              'l2_leaf_reg':3.745156035695952,\n",
    "              'random_seed':554,\n",
    "              'verbose':250,\n",
    "              'thread_count': -1,\n",
    "              'auto_class_weights':'Balanced',\n",
    "              'border_count': 190,\n",
    "            'eval_metric': 'F1'\n",
    "             }\n",
    "\n"
   ]
  },
  {
   "cell_type": "code",
   "execution_count": 111,
   "id": "359261a2",
   "metadata": {
    "tags": []
   },
   "outputs": [
    {
     "name": "stdout",
     "output_type": "stream",
     "text": [
      "Number of 1s: 1039\n",
      "Number of 0s: 5509\n"
     ]
    }
   ],
   "source": [
    "# Count the number of occurrences of 1s and 0s\n",
    "num_ones = np.count_nonzero(y == 1)\n",
    "num_zeros = np.count_nonzero(y == 0)\n",
    "\n",
    "print(\"Number of 1s:\", num_ones)\n",
    "print(\"Number of 0s:\", num_zeros)"
   ]
  },
  {
   "cell_type": "code",
   "execution_count": 112,
   "id": "db094990",
   "metadata": {
    "tags": []
   },
   "outputs": [],
   "source": [
    "ratio = num_zeros/num_ones"
   ]
  },
  {
   "cell_type": "code",
   "execution_count": 113,
   "id": "c634a79d",
   "metadata": {
    "tags": []
   },
   "outputs": [],
   "source": [
    "best_params_XGB = {'min_child_weight': 0,\n",
    " 'learning_rate': 0.03142786116761427,\n",
    " 'scale_pos_weight': ratio,\n",
    " 'n_estimators': 1387,\n",
    " 'max_depth': 5,\n",
    "    'objective': 'binary:logistic',\n",
    " 'subsample': 0.9246147944458577,\n",
    " 'colsample_bytree': 0.3231773832609742,\n",
    " 'random_state': 42,\n",
    " 'gamma': 0.7024863569345223,\n",
    " 'reg_alpha': 0.9856926371248441,\n",
    " 'reg_lambda': 0.9926502539941398}"
   ]
  },
  {
   "cell_type": "code",
   "execution_count": 114,
   "id": "f969967e",
   "metadata": {
    "tags": []
   },
   "outputs": [],
   "source": [
    "rf_params = {'n_estimators' : 300,\n",
    "             'min_samples_split': 3, \n",
    "             'min_samples_leaf':2,\n",
    "             'random_state':554,\n",
    "             'class_weight':'balanced',\n",
    "             'n_jobs': -1\n",
    "            }"
   ]
  },
  {
   "cell_type": "code",
   "execution_count": 115,
   "id": "18eadec1",
   "metadata": {
    "tags": []
   },
   "outputs": [],
   "source": [
    "xgb = XGBClassifier(**best_params_XGB)\n",
    "cat = CatBoostClassifier(**cat_params)\n",
    "gbc = GradientBoostingClassifier(**gbc_params)\n",
    "lgbm = LGBMClassifier(**lgbm_params)\n",
    "rf = RandomForestClassifier(**rf_params)"
   ]
  },
  {
   "cell_type": "code",
   "execution_count": 116,
   "id": "a4650264",
   "metadata": {
    "tags": []
   },
   "outputs": [],
   "source": [
    "def train_evaluate_model(X, y, X_test, model, splits: int):\n",
    "    \n",
    "       \n",
    "    # use RepeatedStratified KFold\n",
    "    skf = RepeatedStratifiedKFold(n_splits=splits, n_repeats=3, random_state=554)\n",
    "\n",
    "    scores = 0\n",
    "    predictions = []\n",
    "    feature_importances = []\n",
    "    best_thresholds = []\n",
    "\n",
    "    for i, (train_index, val_index) in enumerate(skf.split(X, y)):\n",
    "        \n",
    "        #print('Fitting with k-fold', i+1, 'out of', splits)\n",
    "        X_train = np.array(X)[train_index, :]\n",
    "        y_train = y[train_index]\n",
    "        \n",
    "        X_val = np.array(X)[val_index, :]\n",
    "        y_val = y[val_index]\n",
    "        \n",
    "        model.fit(X_train, y_train)\n",
    "\n",
    "        y_pred_proba = model.predict_proba(X_val)[:,1]\n",
    "        \n",
    "       \n",
    "        best_thresh = 0\n",
    "        best_score = 0\n",
    "        \n",
    "        for thresh in np.arange(0.5,1.0,0.01):\n",
    "            y_pred_val = y_pred_proba > thresh\n",
    "            temp_score = f1_score(y_val, y_pred_val)\n",
    "            \n",
    "            if temp_score > best_score:\n",
    "                best_score = temp_score\n",
    "                best_thresh = thresh\n",
    "        \n",
    "        best_y_pred_val = y_pred_proba > best_thresh\n",
    "        best_thresholds.append(best_thresh)\n",
    "        \n",
    "        fold_f1 = f1_score(y_val, best_y_pred_val)\n",
    "        print(f'Fold F1 Score : {fold_f1} with threshold of {best_thresh}')\n",
    "        scores += fold_f1/(splits*3)\n",
    "            \n",
    "    print(f'Overall F1 Score : {scores}')\n",
    "    print(f'Overall average threshold : {np.mean(best_thresholds)}')\n"
   ]
  },
  {
   "cell_type": "markdown",
   "id": "4db203b0",
   "metadata": {},
   "source": [
    "Here you can test each individual classifier accordingly. "
   ]
  },
  {
   "cell_type": "code",
   "execution_count": 117,
   "id": "ef0ecb0a",
   "metadata": {
    "tags": []
   },
   "outputs": [
    {
     "name": "stdout",
     "output_type": "stream",
     "text": [
      "Fold F1 Score : 0.6484018264840182 with threshold of 0.53\n",
      "Fold F1 Score : 0.672811059907834 with threshold of 0.51\n",
      "Fold F1 Score : 0.6448598130841121 with threshold of 0.5800000000000001\n",
      "Fold F1 Score : 0.6480186480186481 with threshold of 0.5\n",
      "Fold F1 Score : 0.6227272727272727 with threshold of 0.53\n",
      "Fold F1 Score : 0.65625 with threshold of 0.5\n",
      "Fold F1 Score : 0.6636363636363637 with threshold of 0.5\n",
      "Fold F1 Score : 0.6276346604215457 with threshold of 0.5\n",
      "Fold F1 Score : 0.6303317535545023 with threshold of 0.6200000000000001\n",
      "Fold F1 Score : 0.6344827586206896 with threshold of 0.5\n",
      "Fold F1 Score : 0.6547314578005116 with threshold of 0.6400000000000001\n",
      "Fold F1 Score : 0.6650831353919241 with threshold of 0.6000000000000001\n",
      "Fold F1 Score : 0.636144578313253 with threshold of 0.5700000000000001\n",
      "Fold F1 Score : 0.6363636363636364 with threshold of 0.55\n",
      "Fold F1 Score : 0.6130434782608696 with threshold of 0.51\n",
      "Overall F1 Score : 0.6436346961723455\n",
      "Overall average threshold : 0.5426666666666667\n"
     ]
    }
   ],
   "source": [
    "train_evaluate_model(X, y, X_test, xgb, 5)"
   ]
  },
  {
   "cell_type": "markdown",
   "id": "6e14290f",
   "metadata": {
    "jp-MarkdownHeadingCollapsed": true,
    "tags": []
   },
   "source": [
    "#### Catboost optuna"
   ]
  },
  {
   "cell_type": "code",
   "execution_count": null,
   "id": "f789d868",
   "metadata": {},
   "outputs": [],
   "source": [
    "def objective(trial):\n",
    "        \n",
    "    params = {\n",
    "        'iterations': trial.suggest_int('iterations', 100, 1500),\n",
    "        'learning_rate': trial.suggest_float('learning_rate', 0.001, 0.1),\n",
    "        'depth': trial.suggest_int('depth', 3, 10),\n",
    "        'l2_leaf_reg': trial.suggest_float('l2_leaf_reg', 1e-2, 100),\n",
    "        'border_count': trial.suggest_int('border_count', 32, 255),\n",
    "        'thread_count': -1,  # Use all available threads\n",
    "        'eval_metric': 'F1',  # Use F1 for evaluation\n",
    "            'auto_class_weights':'Balanced',\n",
    "            'random_seed':554,\n",
    "        'verbose': False  # Suppress CatBoost output\n",
    "    }\n",
    "\n",
    "    cat = CatBoostClassifier(**params)\n",
    "    cat_score = train_evaluate_model(X, y, X_test, cat, 5)\n",
    "    \n",
    "    return cat_score"
   ]
  },
  {
   "cell_type": "code",
   "execution_count": null,
   "id": "ab9049c9",
   "metadata": {
    "tags": []
   },
   "outputs": [],
   "source": [
    "study = optuna.create_study(direction='maximize')\n",
    "study.optimize(objective, timeout=3600)"
   ]
  },
  {
   "cell_type": "code",
   "execution_count": null,
   "id": "31eda11e",
   "metadata": {},
   "outputs": [],
   "source": [
    "study.best_params"
   ]
  },
  {
   "cell_type": "markdown",
   "id": "938adb56",
   "metadata": {
    "jp-MarkdownHeadingCollapsed": true,
    "tags": []
   },
   "source": [
    "#### Gradient Boosting Classifier Optuna"
   ]
  },
  {
   "cell_type": "code",
   "execution_count": null,
   "id": "ddf0a052",
   "metadata": {},
   "outputs": [],
   "source": [
    "def objective_gbc(trial):\n",
    "    \n",
    "        # Define parameters to be tuned\n",
    "    params = {\n",
    "        'n_estimators': trial.suggest_int('n_estimators', 100, 1000),\n",
    "        'learning_rate': trial.suggest_float('learning_rate', 0.001, 0.1),\n",
    "        'max_depth': trial.suggest_int('max_depth', 3, 10),\n",
    "        'min_samples_split': trial.suggest_int('min_samples_split', 2, 20),\n",
    "        'min_samples_leaf': trial.suggest_int('min_samples_leaf', 1, 10),\n",
    "        'max_features': trial.suggest_categorical('max_features', ['auto', 'sqrt', 'log2']),\n",
    "        'random_state': 554,\n",
    "        'verbose': 0\n",
    "    }\n",
    "    \n",
    "    gbc = GradientBoostingClassifier(**params)\n",
    "    gbc_score = train_evaluate_model(X, y, X_test, gbc, 5)\n",
    "    \n",
    "    return gbc_score"
   ]
  },
  {
   "cell_type": "code",
   "execution_count": null,
   "id": "258cb985",
   "metadata": {
    "tags": []
   },
   "outputs": [],
   "source": [
    "study_gbc = optuna.create_study(direction='maximize')\n",
    "study_gbc.optimize(objective_gbc, timeout=3600)"
   ]
  },
  {
   "cell_type": "code",
   "execution_count": null,
   "id": "e6b63102",
   "metadata": {},
   "outputs": [],
   "source": [
    "study_gbc.best_params"
   ]
  },
  {
   "cell_type": "markdown",
   "id": "c9c900d8",
   "metadata": {
    "jp-MarkdownHeadingCollapsed": true,
    "tags": []
   },
   "source": [
    "#### LGBM Optuna"
   ]
  },
  {
   "cell_type": "code",
   "execution_count": null,
   "id": "9d2b09c6",
   "metadata": {},
   "outputs": [],
   "source": [
    "def objective_lgbm(trial):\n",
    "\n",
    "    params = {\n",
    "        \"objective\": \"binary\",\n",
    "        \"metric\": \"binary_logloss\",\n",
    "        \"verbosity\": -1,\n",
    "        \"boosting_type\": \"gbdt\",\n",
    "        \"random_state\": 554,\n",
    "        'class_weight': 'balanced',\n",
    "        'num_leaves': trial.suggest_int(\"num_leaves\", 25, 40),\n",
    "        \"learning_rate\": trial.suggest_float(\"learning_rate\", 0.01, 0.09),\n",
    "        \"n_estimators\": trial.suggest_int(\"n_estimators\", 400, 600),\n",
    "        \"lambda_l1\": trial.suggest_float(\"lambda_l1\", 0.005, 0.015),\n",
    "        \"lambda_l2\": trial.suggest_float(\"lambda_l2\", 0.02, 0.06),\n",
    "        \"max_depth\": trial.suggest_int(\"max_depth\", 6, 14),\n",
    "        \"colsample_bytree\": trial.suggest_float(\"colsample_bytree\", 0.3, 0.9),\n",
    "        \"subsample\": trial.suggest_float(\"subsample\", 0.8, 1.0),\n",
    "        \"min_child_samples\": trial.suggest_int(\"min_child_samples\", 10, 50),\n",
    "    }\n",
    "        \n",
    "        \n",
    "    lgbm = LGBMClassifier(**params)\n",
    "    lgbm_score = train_evaluate_model(X, y, X_test, lgbm, 5)\n",
    "    \n",
    "    return lgbm_score"
   ]
  },
  {
   "cell_type": "code",
   "execution_count": null,
   "id": "af1a0035",
   "metadata": {
    "tags": []
   },
   "outputs": [],
   "source": [
    "study_lgbm = optuna.create_study(direction='maximize')\n",
    "study_lgbm.optimize(objective_lgbm, timeout=3600)"
   ]
  },
  {
   "cell_type": "markdown",
   "id": "4c760717",
   "metadata": {},
   "source": [
    "#### Voting Classifier Final Predictions"
   ]
  },
  {
   "cell_type": "code",
   "execution_count": 118,
   "id": "2952f06e",
   "metadata": {
    "tags": []
   },
   "outputs": [],
   "source": [
    "def train_evaluate_model(X, y, X_test, clf1, clf2, clf3, clf4, splits: int):\n",
    "    \n",
    "       \n",
    "    # use Stratified KFold\n",
    "    skf = RepeatedStratifiedKFold(n_splits=splits, n_repeats=2, random_state=554)\n",
    "\n",
    "    scores = 0\n",
    "    predictions = []\n",
    "    feature_importances = []\n",
    "\n",
    "    for i, (train_index, val_index) in enumerate(skf.split(X, y)):\n",
    "        \n",
    "        print('Fitting with k-fold', i+1, 'out of', splits*2)\n",
    "        X_train = np.array(X)[train_index, :]\n",
    "        y_train = y[train_index]\n",
    "        \n",
    "        X_val = np.array(X)[val_index, :]\n",
    "        y_val = y[val_index]\n",
    "        \n",
    "        model = VotingClassifier(estimators=[\n",
    "         ('cat', clf1), ('gbc', clf2), ('lgbm', clf3), ('xgb', clf4)],\n",
    "         voting='soft')\n",
    "\n",
    "        model.fit(X_train, y_train) \n",
    "\n",
    "        y_pred_val = model.predict(X_val)\n",
    "        \n",
    "        fold_f1 = f1_score(y_val, y_pred_val)\n",
    "        print(f'Fold F1 Score : {fold_f1}')\n",
    "        scores += fold_f1/(splits*2)\n",
    "        \n",
    "        # store predictions\n",
    "        y_pred_test_proba = model.predict_proba(X_test)\n",
    "        predictions.append(y_pred_test_proba)\n",
    "        print('Round', i+1, 'Predictions stored successfully')\n",
    "        \n",
    "            \n",
    "    print(f'Overall F1 Score : {scores}')\n",
    "    \n",
    "    return predictions, feature_importances\n",
    "        \n",
    "        "
   ]
  },
  {
   "cell_type": "code",
   "execution_count": 119,
   "id": "7ae7bf04",
   "metadata": {
    "tags": []
   },
   "outputs": [
    {
     "name": "stdout",
     "output_type": "stream",
     "text": [
      "Fitting with k-fold 1 out of 10\n",
      "0:\tlearn: 0.7536609\ttotal: 83.7ms\tremaining: 1m 45s\n",
      "250:\tlearn: 0.8327454\ttotal: 321ms\tremaining: 1.29s\n",
      "500:\tlearn: 0.8871793\ttotal: 559ms\tremaining: 847ms\n",
      "750:\tlearn: 0.9128551\ttotal: 792ms\tremaining: 537ms\n",
      "1000:\tlearn: 0.9394051\ttotal: 1.06s\tremaining: 274ms\n",
      "1250:\tlearn: 0.9508989\ttotal: 1.3s\tremaining: 9.34ms\n",
      "1259:\tlearn: 0.9515182\ttotal: 1.31s\tremaining: 0us\n",
      "[LightGBM] [Warning] lambda_l1 is set=0.013975208382661275, reg_alpha=0.0 will be ignored. Current value: lambda_l1=0.013975208382661275\n",
      "[LightGBM] [Warning] lambda_l2 is set=0.0465490931600607, reg_lambda=0.0 will be ignored. Current value: lambda_l2=0.0465490931600607\n",
      "Fold F1 Score : 0.6510538641686182\n",
      "Round 1 Predictions stored successfully\n",
      "Fitting with k-fold 2 out of 10\n",
      "0:\tlearn: 0.7496221\ttotal: 1.19ms\tremaining: 1.5s\n"
     ]
    },
    {
     "name": "stderr",
     "output_type": "stream",
     "text": [
      "/home/kcini75/anaconda3/envs/Kaggle_playground/lib/python3.9/site-packages/sklearn/base.py:443: UserWarning: X has feature names, but GradientBoostingClassifier was fitted without feature names\n",
      "  warnings.warn(\n"
     ]
    },
    {
     "name": "stdout",
     "output_type": "stream",
     "text": [
      "250:\tlearn: 0.8327882\ttotal: 240ms\tremaining: 966ms\n",
      "500:\tlearn: 0.8860625\ttotal: 480ms\tremaining: 727ms\n",
      "750:\tlearn: 0.9167859\ttotal: 716ms\tremaining: 486ms\n",
      "1000:\tlearn: 0.9363660\ttotal: 955ms\tremaining: 247ms\n",
      "1250:\tlearn: 0.9482153\ttotal: 1.19s\tremaining: 8.58ms\n",
      "1259:\tlearn: 0.9482153\ttotal: 1.2s\tremaining: 0us\n",
      "[LightGBM] [Warning] lambda_l1 is set=0.013975208382661275, reg_alpha=0.0 will be ignored. Current value: lambda_l1=0.013975208382661275\n",
      "[LightGBM] [Warning] lambda_l2 is set=0.0465490931600607, reg_lambda=0.0 will be ignored. Current value: lambda_l2=0.0465490931600607\n",
      "Fold F1 Score : 0.6857142857142857\n",
      "Round 2 Predictions stored successfully\n",
      "Fitting with k-fold 3 out of 10\n",
      "0:\tlearn: 0.7561939\ttotal: 936us\tremaining: 1.18s\n"
     ]
    },
    {
     "name": "stderr",
     "output_type": "stream",
     "text": [
      "/home/kcini75/anaconda3/envs/Kaggle_playground/lib/python3.9/site-packages/sklearn/base.py:443: UserWarning: X has feature names, but GradientBoostingClassifier was fitted without feature names\n",
      "  warnings.warn(\n"
     ]
    },
    {
     "name": "stdout",
     "output_type": "stream",
     "text": [
      "250:\tlearn: 0.8391167\ttotal: 241ms\tremaining: 969ms\n",
      "500:\tlearn: 0.8911609\ttotal: 481ms\tremaining: 729ms\n",
      "750:\tlearn: 0.9117544\ttotal: 725ms\tremaining: 492ms\n",
      "1000:\tlearn: 0.9360463\ttotal: 961ms\tremaining: 249ms\n",
      "1250:\tlearn: 0.9517300\ttotal: 1.2s\tremaining: 8.63ms\n",
      "1259:\tlearn: 0.9519420\ttotal: 1.21s\tremaining: 0us\n",
      "[LightGBM] [Warning] lambda_l1 is set=0.013975208382661275, reg_alpha=0.0 will be ignored. Current value: lambda_l1=0.013975208382661275\n",
      "[LightGBM] [Warning] lambda_l2 is set=0.0465490931600607, reg_lambda=0.0 will be ignored. Current value: lambda_l2=0.0465490931600607\n",
      "Fold F1 Score : 0.6436781609195402\n",
      "Round 3 Predictions stored successfully\n",
      "Fitting with k-fold 4 out of 10\n",
      "0:\tlearn: 0.7549336\ttotal: 1.27ms\tremaining: 1.6s\n"
     ]
    },
    {
     "name": "stderr",
     "output_type": "stream",
     "text": [
      "/home/kcini75/anaconda3/envs/Kaggle_playground/lib/python3.9/site-packages/sklearn/base.py:443: UserWarning: X has feature names, but GradientBoostingClassifier was fitted without feature names\n",
      "  warnings.warn(\n"
     ]
    },
    {
     "name": "stdout",
     "output_type": "stream",
     "text": [
      "250:\tlearn: 0.8385653\ttotal: 238ms\tremaining: 957ms\n",
      "500:\tlearn: 0.8903432\ttotal: 478ms\tremaining: 724ms\n",
      "750:\tlearn: 0.9168859\ttotal: 719ms\tremaining: 487ms\n",
      "1000:\tlearn: 0.9374442\ttotal: 958ms\tremaining: 248ms\n",
      "1250:\tlearn: 0.9516952\ttotal: 1.2s\tremaining: 8.61ms\n",
      "1259:\tlearn: 0.9521208\ttotal: 1.21s\tremaining: 0us\n",
      "[LightGBM] [Warning] lambda_l1 is set=0.013975208382661275, reg_alpha=0.0 will be ignored. Current value: lambda_l1=0.013975208382661275\n",
      "[LightGBM] [Warning] lambda_l2 is set=0.0465490931600607, reg_lambda=0.0 will be ignored. Current value: lambda_l2=0.0465490931600607\n",
      "Fold F1 Score : 0.6447058823529412\n",
      "Round 4 Predictions stored successfully\n",
      "Fitting with k-fold 5 out of 10\n",
      "0:\tlearn: 0.7488321\ttotal: 1.22ms\tremaining: 1.53s\n"
     ]
    },
    {
     "name": "stderr",
     "output_type": "stream",
     "text": [
      "/home/kcini75/anaconda3/envs/Kaggle_playground/lib/python3.9/site-packages/sklearn/base.py:443: UserWarning: X has feature names, but GradientBoostingClassifier was fitted without feature names\n",
      "  warnings.warn(\n"
     ]
    },
    {
     "name": "stdout",
     "output_type": "stream",
     "text": [
      "250:\tlearn: 0.8337197\ttotal: 246ms\tremaining: 988ms\n",
      "500:\tlearn: 0.8882072\ttotal: 485ms\tremaining: 735ms\n",
      "750:\tlearn: 0.9204709\ttotal: 719ms\tremaining: 487ms\n",
      "1000:\tlearn: 0.9398395\ttotal: 956ms\tremaining: 247ms\n",
      "1250:\tlearn: 0.9519279\ttotal: 1.2s\tremaining: 8.61ms\n",
      "1259:\tlearn: 0.9521412\ttotal: 1.21s\tremaining: 0us\n",
      "[LightGBM] [Warning] lambda_l1 is set=0.013975208382661275, reg_alpha=0.0 will be ignored. Current value: lambda_l1=0.013975208382661275\n",
      "[LightGBM] [Warning] lambda_l2 is set=0.0465490931600607, reg_lambda=0.0 will be ignored. Current value: lambda_l2=0.0465490931600607\n",
      "Fold F1 Score : 0.6195899772209568\n",
      "Round 5 Predictions stored successfully\n",
      "Fitting with k-fold 6 out of 10\n",
      "0:\tlearn: 0.7529186\ttotal: 1.35ms\tremaining: 1.7s\n"
     ]
    },
    {
     "name": "stderr",
     "output_type": "stream",
     "text": [
      "/home/kcini75/anaconda3/envs/Kaggle_playground/lib/python3.9/site-packages/sklearn/base.py:443: UserWarning: X has feature names, but GradientBoostingClassifier was fitted without feature names\n",
      "  warnings.warn(\n"
     ]
    },
    {
     "name": "stdout",
     "output_type": "stream",
     "text": [
      "250:\tlearn: 0.8400411\ttotal: 239ms\tremaining: 961ms\n",
      "500:\tlearn: 0.8848048\ttotal: 474ms\tremaining: 719ms\n",
      "750:\tlearn: 0.9169106\ttotal: 707ms\tremaining: 479ms\n",
      "1000:\tlearn: 0.9365663\ttotal: 938ms\tremaining: 243ms\n",
      "1250:\tlearn: 0.9493963\ttotal: 1.18s\tremaining: 8.48ms\n",
      "1259:\tlearn: 0.9507495\ttotal: 1.19s\tremaining: 0us\n",
      "[LightGBM] [Warning] lambda_l1 is set=0.013975208382661275, reg_alpha=0.0 will be ignored. Current value: lambda_l1=0.013975208382661275\n",
      "[LightGBM] [Warning] lambda_l2 is set=0.0465490931600607, reg_lambda=0.0 will be ignored. Current value: lambda_l2=0.0465490931600607\n",
      "Fold F1 Score : 0.6514806378132119\n",
      "Round 6 Predictions stored successfully\n",
      "Fitting with k-fold 7 out of 10\n",
      "0:\tlearn: 0.7591427\ttotal: 1.06ms\tremaining: 1.33s\n"
     ]
    },
    {
     "name": "stderr",
     "output_type": "stream",
     "text": [
      "/home/kcini75/anaconda3/envs/Kaggle_playground/lib/python3.9/site-packages/sklearn/base.py:443: UserWarning: X has feature names, but GradientBoostingClassifier was fitted without feature names\n",
      "  warnings.warn(\n"
     ]
    },
    {
     "name": "stdout",
     "output_type": "stream",
     "text": [
      "250:\tlearn: 0.8297541\ttotal: 236ms\tremaining: 948ms\n",
      "500:\tlearn: 0.8887335\ttotal: 478ms\tremaining: 724ms\n",
      "750:\tlearn: 0.9202429\ttotal: 712ms\tremaining: 483ms\n",
      "1000:\tlearn: 0.9345810\ttotal: 949ms\tremaining: 245ms\n",
      "1250:\tlearn: 0.9445522\ttotal: 1.19s\tremaining: 8.54ms\n",
      "1259:\tlearn: 0.9453895\ttotal: 1.2s\tremaining: 0us\n",
      "[LightGBM] [Warning] lambda_l1 is set=0.013975208382661275, reg_alpha=0.0 will be ignored. Current value: lambda_l1=0.013975208382661275\n",
      "[LightGBM] [Warning] lambda_l2 is set=0.0465490931600607, reg_lambda=0.0 will be ignored. Current value: lambda_l2=0.0465490931600607\n",
      "Fold F1 Score : 0.6619385342789598\n",
      "Round 7 Predictions stored successfully\n",
      "Fitting with k-fold 8 out of 10\n",
      "0:\tlearn: 0.7480467\ttotal: 1.08ms\tremaining: 1.36s\n"
     ]
    },
    {
     "name": "stderr",
     "output_type": "stream",
     "text": [
      "/home/kcini75/anaconda3/envs/Kaggle_playground/lib/python3.9/site-packages/sklearn/base.py:443: UserWarning: X has feature names, but GradientBoostingClassifier was fitted without feature names\n",
      "  warnings.warn(\n"
     ]
    },
    {
     "name": "stdout",
     "output_type": "stream",
     "text": [
      "250:\tlearn: 0.8396466\ttotal: 240ms\tremaining: 967ms\n",
      "500:\tlearn: 0.8898149\ttotal: 480ms\tremaining: 727ms\n",
      "750:\tlearn: 0.9165237\ttotal: 712ms\tremaining: 483ms\n",
      "1000:\tlearn: 0.9339376\ttotal: 947ms\tremaining: 245ms\n",
      "1250:\tlearn: 0.9513227\ttotal: 1.18s\tremaining: 8.52ms\n",
      "1259:\tlearn: 0.9520480\ttotal: 1.19s\tremaining: 0us\n",
      "[LightGBM] [Warning] lambda_l1 is set=0.013975208382661275, reg_alpha=0.0 will be ignored. Current value: lambda_l1=0.013975208382661275\n",
      "[LightGBM] [Warning] lambda_l2 is set=0.0465490931600607, reg_lambda=0.0 will be ignored. Current value: lambda_l2=0.0465490931600607\n",
      "Fold F1 Score : 0.6298076923076923\n",
      "Round 8 Predictions stored successfully\n",
      "Fitting with k-fold 9 out of 10\n",
      "0:\tlearn: 0.7496442\ttotal: 1.49ms\tremaining: 1.88s\n"
     ]
    },
    {
     "name": "stderr",
     "output_type": "stream",
     "text": [
      "/home/kcini75/anaconda3/envs/Kaggle_playground/lib/python3.9/site-packages/sklearn/base.py:443: UserWarning: X has feature names, but GradientBoostingClassifier was fitted without feature names\n",
      "  warnings.warn(\n"
     ]
    },
    {
     "name": "stdout",
     "output_type": "stream",
     "text": [
      "250:\tlearn: 0.8371068\ttotal: 249ms\tremaining: 1s\n",
      "500:\tlearn: 0.8915442\ttotal: 487ms\tremaining: 737ms\n",
      "750:\tlearn: 0.9129825\ttotal: 720ms\tremaining: 488ms\n",
      "1000:\tlearn: 0.9373376\ttotal: 954ms\tremaining: 247ms\n",
      "1250:\tlearn: 0.9513214\ttotal: 1.19s\tremaining: 8.59ms\n",
      "1259:\tlearn: 0.9524774\ttotal: 1.2s\tremaining: 0us\n",
      "[LightGBM] [Warning] lambda_l1 is set=0.013975208382661275, reg_alpha=0.0 will be ignored. Current value: lambda_l1=0.013975208382661275\n",
      "[LightGBM] [Warning] lambda_l2 is set=0.0465490931600607, reg_lambda=0.0 will be ignored. Current value: lambda_l2=0.0465490931600607\n",
      "Fold F1 Score : 0.6292134831460674\n",
      "Round 9 Predictions stored successfully\n",
      "Fitting with k-fold 10 out of 10\n",
      "0:\tlearn: 0.7534812\ttotal: 1.3ms\tremaining: 1.64s\n"
     ]
    },
    {
     "name": "stderr",
     "output_type": "stream",
     "text": [
      "/home/kcini75/anaconda3/envs/Kaggle_playground/lib/python3.9/site-packages/sklearn/base.py:443: UserWarning: X has feature names, but GradientBoostingClassifier was fitted without feature names\n",
      "  warnings.warn(\n"
     ]
    },
    {
     "name": "stdout",
     "output_type": "stream",
     "text": [
      "250:\tlearn: 0.8367869\ttotal: 246ms\tremaining: 988ms\n",
      "500:\tlearn: 0.8846497\ttotal: 484ms\tremaining: 734ms\n",
      "750:\tlearn: 0.9133743\ttotal: 719ms\tremaining: 487ms\n",
      "1000:\tlearn: 0.9390999\ttotal: 953ms\tremaining: 247ms\n",
      "1250:\tlearn: 0.9507099\ttotal: 1.19s\tremaining: 8.58ms\n",
      "1259:\tlearn: 0.9516479\ttotal: 1.2s\tremaining: 0us\n",
      "[LightGBM] [Warning] lambda_l1 is set=0.013975208382661275, reg_alpha=0.0 will be ignored. Current value: lambda_l1=0.013975208382661275\n",
      "[LightGBM] [Warning] lambda_l2 is set=0.0465490931600607, reg_lambda=0.0 will be ignored. Current value: lambda_l2=0.0465490931600607\n",
      "Fold F1 Score : 0.631578947368421\n",
      "Round 10 Predictions stored successfully\n",
      "Overall F1 Score : 0.6448761465290694\n"
     ]
    },
    {
     "name": "stderr",
     "output_type": "stream",
     "text": [
      "/home/kcini75/anaconda3/envs/Kaggle_playground/lib/python3.9/site-packages/sklearn/base.py:443: UserWarning: X has feature names, but GradientBoostingClassifier was fitted without feature names\n",
      "  warnings.warn(\n"
     ]
    }
   ],
   "source": [
    "vot_predictions, vot_feat_imp = train_evaluate_model(X, y, X_test, cat, gbc, lgbm, xgb, 5)"
   ]
  },
  {
   "cell_type": "markdown",
   "id": "b4d59f00",
   "metadata": {},
   "source": [
    "#### Voting classifier"
   ]
  },
  {
   "cell_type": "code",
   "execution_count": 120,
   "id": "afbd7520",
   "metadata": {
    "tags": []
   },
   "outputs": [],
   "source": [
    "vot_preds = np.mean(vot_predictions, axis=0)"
   ]
  },
  {
   "cell_type": "code",
   "execution_count": 121,
   "id": "6cad5be9",
   "metadata": {
    "tags": []
   },
   "outputs": [
    {
     "data": {
      "text/plain": [
       "array([[0.1071144 , 0.8928856 ],\n",
       "       [0.79125867, 0.20874133],\n",
       "       [0.70543044, 0.29456956],\n",
       "       ...,\n",
       "       [0.96969515, 0.03030485],\n",
       "       [0.01747665, 0.98252335],\n",
       "       [0.91435489, 0.08564511]])"
      ]
     },
     "execution_count": 121,
     "metadata": {},
     "output_type": "execute_result"
    }
   ],
   "source": [
    "vot_preds"
   ]
  },
  {
   "cell_type": "code",
   "execution_count": 122,
   "id": "8e8384c8",
   "metadata": {
    "tags": []
   },
   "outputs": [],
   "source": [
    "# Here you can choose an experiment with the probability threshold\n",
    "\n",
    "final_preds = vot_preds[:,1] > 0.54"
   ]
  },
  {
   "cell_type": "code",
   "execution_count": 123,
   "id": "fb43566a",
   "metadata": {
    "tags": []
   },
   "outputs": [],
   "source": [
    "sub_df = pd.DataFrame(columns=['ID','Y'])"
   ]
  },
  {
   "cell_type": "code",
   "execution_count": 124,
   "id": "2fd86b40",
   "metadata": {
    "tags": []
   },
   "outputs": [],
   "source": [
    "sub_df['ID'] = list(range(1,819))\n",
    "sub_df['Y'] = final_preds.astype(int)"
   ]
  },
  {
   "cell_type": "code",
   "execution_count": 125,
   "id": "f4bbceda",
   "metadata": {
    "tags": []
   },
   "outputs": [
    {
     "data": {
      "text/html": [
       "<div>\n",
       "<style scoped>\n",
       "    .dataframe tbody tr th:only-of-type {\n",
       "        vertical-align: middle;\n",
       "    }\n",
       "\n",
       "    .dataframe tbody tr th {\n",
       "        vertical-align: top;\n",
       "    }\n",
       "\n",
       "    .dataframe thead th {\n",
       "        text-align: right;\n",
       "    }\n",
       "</style>\n",
       "<table border=\"1\" class=\"dataframe\">\n",
       "  <thead>\n",
       "    <tr style=\"text-align: right;\">\n",
       "      <th></th>\n",
       "      <th>ID</th>\n",
       "      <th>Y</th>\n",
       "    </tr>\n",
       "  </thead>\n",
       "  <tbody>\n",
       "    <tr>\n",
       "      <th>0</th>\n",
       "      <td>1</td>\n",
       "      <td>1</td>\n",
       "    </tr>\n",
       "    <tr>\n",
       "      <th>1</th>\n",
       "      <td>2</td>\n",
       "      <td>0</td>\n",
       "    </tr>\n",
       "    <tr>\n",
       "      <th>2</th>\n",
       "      <td>3</td>\n",
       "      <td>0</td>\n",
       "    </tr>\n",
       "    <tr>\n",
       "      <th>3</th>\n",
       "      <td>4</td>\n",
       "      <td>0</td>\n",
       "    </tr>\n",
       "    <tr>\n",
       "      <th>4</th>\n",
       "      <td>5</td>\n",
       "      <td>0</td>\n",
       "    </tr>\n",
       "  </tbody>\n",
       "</table>\n",
       "</div>"
      ],
      "text/plain": [
       "   ID  Y\n",
       "0   1  1\n",
       "1   2  0\n",
       "2   3  0\n",
       "3   4  0\n",
       "4   5  0"
      ]
     },
     "execution_count": 125,
     "metadata": {},
     "output_type": "execute_result"
    }
   ],
   "source": [
    "sub_df.head()"
   ]
  },
  {
   "cell_type": "code",
   "execution_count": null,
   "id": "0fe6c097",
   "metadata": {},
   "outputs": [],
   "source": [
    "sub_df.to_csv('submission.csv', index=False)"
   ]
  },
  {
   "cell_type": "code",
   "execution_count": null,
   "id": "a091b2d0",
   "metadata": {},
   "outputs": [],
   "source": [
    "len(sub_df)"
   ]
  },
  {
   "cell_type": "code",
   "execution_count": null,
   "id": "e34954ac",
   "metadata": {},
   "outputs": [],
   "source": []
  }
 ],
 "metadata": {
  "kaggle": {
   "accelerator": "none",
   "dataSources": [],
   "dockerImageVersionId": 30673,
   "isGpuEnabled": false,
   "isInternetEnabled": true,
   "language": "python",
   "sourceType": "notebook"
  },
  "kernelspec": {
   "display_name": "Python 3 (ipykernel)",
   "language": "python",
   "name": "python3"
  },
  "language_info": {
   "codemirror_mode": {
    "name": "ipython",
    "version": 3
   },
   "file_extension": ".py",
   "mimetype": "text/x-python",
   "name": "python",
   "nbconvert_exporter": "python",
   "pygments_lexer": "ipython3",
   "version": "3.9.17"
  }
 },
 "nbformat": 4,
 "nbformat_minor": 5
}
